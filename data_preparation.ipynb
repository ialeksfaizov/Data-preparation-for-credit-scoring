
  {
   "cell_type": "markdown",
   "metadata": {},
   "source": [
    "## Шаг 1. Откройте файл с данными и изучите общую информацию"
   ]
  },
  {
   "cell_type": "code",
   "execution_count": 1,
   "metadata": {},
   "outputs": [],
   "source": [
    "import pandas as pd"
   ]
  },
  {
   "cell_type": "code",
   "execution_count": 2,
   "metadata": {
    "scrolled": true
   },
   "outputs": [
    {
     "data": {
      "text/html": [
       "<div>\n",
       "<style scoped>\n",
       "    .dataframe tbody tr th:only-of-type {\n",
       "        vertical-align: middle;\n",
       "    }\n",
       "\n",
       "    .dataframe tbody tr th {\n",
       "        vertical-align: top;\n",
       "    }\n",
       "\n",
       "    .dataframe thead th {\n",
       "        text-align: right;\n",
       "    }\n",
       "</style>\n",
       "<table border=\"1\" class=\"dataframe\">\n",
       "  <thead>\n",
       "    <tr style=\"text-align: right;\">\n",
       "      <th></th>\n",
       "      <th>children</th>\n",
       "      <th>days_employed</th>\n",
       "      <th>dob_years</th>\n",
       "      <th>education</th>\n",
       "      <th>education_id</th>\n",
       "      <th>family_status</th>\n",
       "      <th>family_status_id</th>\n",
       "      <th>gender</th>\n",
       "      <th>income_type</th>\n",
       "      <th>debt</th>\n",
       "      <th>total_income</th>\n",
       "      <th>purpose</th>\n",
       "    </tr>\n",
       "  </thead>\n",
       "  <tbody>\n",
       "    <tr>\n",
       "      <td>0</td>\n",
       "      <td>1</td>\n",
       "      <td>-8437.673028</td>\n",
       "      <td>42</td>\n",
       "      <td>высшее</td>\n",
       "      <td>0</td>\n",
       "      <td>женат / замужем</td>\n",
       "      <td>0</td>\n",
       "      <td>F</td>\n",
       "      <td>сотрудник</td>\n",
       "      <td>0</td>\n",
       "      <td>253875.639453</td>\n",
       "      <td>покупка жилья</td>\n",
       "    </tr>\n",
       "    <tr>\n",
       "      <td>1</td>\n",
       "      <td>1</td>\n",
       "      <td>-4024.803754</td>\n",
       "      <td>36</td>\n",
       "      <td>среднее</td>\n",
       "      <td>1</td>\n",
       "      <td>женат / замужем</td>\n",
       "      <td>0</td>\n",
       "      <td>F</td>\n",
       "      <td>сотрудник</td>\n",
       "      <td>0</td>\n",
       "      <td>112080.014102</td>\n",
       "      <td>приобретение автомобиля</td>\n",
       "    </tr>\n",
       "    <tr>\n",
       "      <td>2</td>\n",
       "      <td>0</td>\n",
       "      <td>-5623.422610</td>\n",
       "      <td>33</td>\n",
       "      <td>Среднее</td>\n",
       "      <td>1</td>\n",
       "      <td>женат / замужем</td>\n",
       "      <td>0</td>\n",
       "      <td>M</td>\n",
       "      <td>сотрудник</td>\n",
       "      <td>0</td>\n",
       "      <td>145885.952297</td>\n",
       "      <td>покупка жилья</td>\n",
       "    </tr>\n",
       "    <tr>\n",
       "      <td>3</td>\n",
       "      <td>3</td>\n",
       "      <td>-4124.747207</td>\n",
       "      <td>32</td>\n",
       "      <td>среднее</td>\n",
       "      <td>1</td>\n",
       "      <td>женат / замужем</td>\n",
       "      <td>0</td>\n",
       "      <td>M</td>\n",
       "      <td>сотрудник</td>\n",
       "      <td>0</td>\n",
       "      <td>267628.550329</td>\n",
       "      <td>дополнительное образование</td>\n",
       "    </tr>\n",
       "    <tr>\n",
       "      <td>4</td>\n",
       "      <td>0</td>\n",
       "      <td>340266.072047</td>\n",
       "      <td>53</td>\n",
       "      <td>среднее</td>\n",
       "      <td>1</td>\n",
       "      <td>гражданский брак</td>\n",
       "      <td>1</td>\n",
       "      <td>F</td>\n",
       "      <td>пенсионер</td>\n",
       "      <td>0</td>\n",
       "      <td>158616.077870</td>\n",
       "      <td>сыграть свадьбу</td>\n",
       "    </tr>\n",
       "    <tr>\n",
       "      <td>5</td>\n",
       "      <td>0</td>\n",
       "      <td>-926.185831</td>\n",
       "      <td>27</td>\n",
       "      <td>высшее</td>\n",
       "      <td>0</td>\n",
       "      <td>гражданский брак</td>\n",
       "      <td>1</td>\n",
       "      <td>M</td>\n",
       "      <td>компаньон</td>\n",
       "      <td>0</td>\n",
       "      <td>255763.565419</td>\n",
       "      <td>покупка жилья</td>\n",
       "    </tr>\n",
       "    <tr>\n",
       "      <td>6</td>\n",
       "      <td>0</td>\n",
       "      <td>-2879.202052</td>\n",
       "      <td>43</td>\n",
       "      <td>высшее</td>\n",
       "      <td>0</td>\n",
       "      <td>женат / замужем</td>\n",
       "      <td>0</td>\n",
       "      <td>F</td>\n",
       "      <td>компаньон</td>\n",
       "      <td>0</td>\n",
       "      <td>240525.971920</td>\n",
       "      <td>операции с жильем</td>\n",
       "    </tr>\n",
       "    <tr>\n",
       "      <td>7</td>\n",
       "      <td>0</td>\n",
       "      <td>-152.779569</td>\n",
       "      <td>50</td>\n",
       "      <td>СРЕДНЕЕ</td>\n",
       "      <td>1</td>\n",
       "      <td>женат / замужем</td>\n",
       "      <td>0</td>\n",
       "      <td>M</td>\n",
       "      <td>сотрудник</td>\n",
       "      <td>0</td>\n",
       "      <td>135823.934197</td>\n",
       "      <td>образование</td>\n",
       "    </tr>\n",
       "    <tr>\n",
       "      <td>8</td>\n",
       "      <td>2</td>\n",
       "      <td>-6929.865299</td>\n",
       "      <td>35</td>\n",
       "      <td>ВЫСШЕЕ</td>\n",
       "      <td>0</td>\n",
       "      <td>гражданский брак</td>\n",
       "      <td>1</td>\n",
       "      <td>F</td>\n",
       "      <td>сотрудник</td>\n",
       "      <td>0</td>\n",
       "      <td>95856.832424</td>\n",
       "      <td>на проведение свадьбы</td>\n",
       "    </tr>\n",
       "    <tr>\n",
       "      <td>9</td>\n",
       "      <td>0</td>\n",
       "      <td>-2188.756445</td>\n",
       "      <td>41</td>\n",
       "      <td>среднее</td>\n",
       "      <td>1</td>\n",
       "      <td>женат / замужем</td>\n",
       "      <td>0</td>\n",
       "      <td>M</td>\n",
       "      <td>сотрудник</td>\n",
       "      <td>0</td>\n",
       "      <td>144425.938277</td>\n",
       "      <td>покупка жилья для семьи</td>\n",
       "    </tr>\n",
       "  </tbody>\n",
       "</table>\n",
       "</div>"
      ],
      "text/plain": [
       "   children  days_employed  dob_years education  education_id  \\\n",
       "0         1   -8437.673028         42    высшее             0   \n",
       "1         1   -4024.803754         36   среднее             1   \n",
       "2         0   -5623.422610         33   Среднее             1   \n",
       "3         3   -4124.747207         32   среднее             1   \n",
       "4         0  340266.072047         53   среднее             1   \n",
       "5         0    -926.185831         27    высшее             0   \n",
       "6         0   -2879.202052         43    высшее             0   \n",
       "7         0    -152.779569         50   СРЕДНЕЕ             1   \n",
       "8         2   -6929.865299         35    ВЫСШЕЕ             0   \n",
       "9         0   -2188.756445         41   среднее             1   \n",
       "\n",
       "      family_status  family_status_id gender income_type  debt   total_income  \\\n",
       "0   женат / замужем                 0      F   сотрудник     0  253875.639453   \n",
       "1   женат / замужем                 0      F   сотрудник     0  112080.014102   \n",
       "2   женат / замужем                 0      M   сотрудник     0  145885.952297   \n",
       "3   женат / замужем                 0      M   сотрудник     0  267628.550329   \n",
       "4  гражданский брак                 1      F   пенсионер     0  158616.077870   \n",
       "5  гражданский брак                 1      M   компаньон     0  255763.565419   \n",
       "6   женат / замужем                 0      F   компаньон     0  240525.971920   \n",
       "7   женат / замужем                 0      M   сотрудник     0  135823.934197   \n",
       "8  гражданский брак                 1      F   сотрудник     0   95856.832424   \n",
       "9   женат / замужем                 0      M   сотрудник     0  144425.938277   \n",
       "\n",
       "                      purpose  \n",
       "0               покупка жилья  \n",
       "1     приобретение автомобиля  \n",
       "2               покупка жилья  \n",
       "3  дополнительное образование  \n",
       "4             сыграть свадьбу  \n",
       "5               покупка жилья  \n",
       "6           операции с жильем  \n",
       "7                 образование  \n",
       "8       на проведение свадьбы  \n",
       "9     покупка жилья для семьи  "
      ]
     },
     "metadata": {},
     "output_type": "display_data"
    },
    {
     "name": "stdout",
     "output_type": "stream",
     "text": [
      "<class 'pandas.core.frame.DataFrame'>\n",
      "RangeIndex: 21525 entries, 0 to 21524\n",
      "Data columns (total 12 columns):\n",
      "children            21525 non-null int64\n",
      "days_employed       19351 non-null float64\n",
      "dob_years           21525 non-null int64\n",
      "education           21525 non-null object\n",
      "education_id        21525 non-null int64\n",
      "family_status       21525 non-null object\n",
      "family_status_id    21525 non-null int64\n",
      "gender              21525 non-null object\n",
      "income_type         21525 non-null object\n",
      "debt                21525 non-null int64\n",
      "total_income        19351 non-null float64\n",
      "purpose             21525 non-null object\n",
      "dtypes: float64(2), int64(5), object(5)\n",
      "memory usage: 2.0+ MB\n"
     ]
    },
    {
     "data": {
      "text/html": [
       "<div>\n",
       "<style scoped>\n",
       "    .dataframe tbody tr th:only-of-type {\n",
       "        vertical-align: middle;\n",
       "    }\n",
       "\n",
       "    .dataframe tbody tr th {\n",
       "        vertical-align: top;\n",
       "    }\n",
       "\n",
       "    .dataframe thead th {\n",
       "        text-align: right;\n",
       "    }\n",
       "</style>\n",
       "<table border=\"1\" class=\"dataframe\">\n",
       "  <thead>\n",
       "    <tr style=\"text-align: right;\">\n",
       "      <th></th>\n",
       "      <th>children</th>\n",
       "      <th>days_employed</th>\n",
       "      <th>dob_years</th>\n",
       "      <th>education_id</th>\n",
       "      <th>family_status_id</th>\n",
       "      <th>debt</th>\n",
       "      <th>total_income</th>\n",
       "    </tr>\n",
       "  </thead>\n",
       "  <tbody>\n",
       "    <tr>\n",
       "      <td>count</td>\n",
       "      <td>21525.000000</td>\n",
       "      <td>19351.000000</td>\n",
       "      <td>21525.000000</td>\n",
       "      <td>21525.000000</td>\n",
       "      <td>21525.000000</td>\n",
       "      <td>21525.000000</td>\n",
       "      <td>1.935100e+04</td>\n",
       "    </tr>\n",
       "    <tr>\n",
       "      <td>mean</td>\n",
       "      <td>0.538908</td>\n",
       "      <td>63046.497661</td>\n",
       "      <td>43.293380</td>\n",
       "      <td>0.817236</td>\n",
       "      <td>0.972544</td>\n",
       "      <td>0.080883</td>\n",
       "      <td>1.674223e+05</td>\n",
       "    </tr>\n",
       "    <tr>\n",
       "      <td>std</td>\n",
       "      <td>1.381587</td>\n",
       "      <td>140827.311974</td>\n",
       "      <td>12.574584</td>\n",
       "      <td>0.548138</td>\n",
       "      <td>1.420324</td>\n",
       "      <td>0.272661</td>\n",
       "      <td>1.029716e+05</td>\n",
       "    </tr>\n",
       "    <tr>\n",
       "      <td>min</td>\n",
       "      <td>-1.000000</td>\n",
       "      <td>-18388.949901</td>\n",
       "      <td>0.000000</td>\n",
       "      <td>0.000000</td>\n",
       "      <td>0.000000</td>\n",
       "      <td>0.000000</td>\n",
       "      <td>2.066726e+04</td>\n",
       "    </tr>\n",
       "    <tr>\n",
       "      <td>25%</td>\n",
       "      <td>0.000000</td>\n",
       "      <td>-2747.423625</td>\n",
       "      <td>33.000000</td>\n",
       "      <td>1.000000</td>\n",
       "      <td>0.000000</td>\n",
       "      <td>0.000000</td>\n",
       "      <td>1.030532e+05</td>\n",
       "    </tr>\n",
       "    <tr>\n",
       "      <td>50%</td>\n",
       "      <td>0.000000</td>\n",
       "      <td>-1203.369529</td>\n",
       "      <td>42.000000</td>\n",
       "      <td>1.000000</td>\n",
       "      <td>0.000000</td>\n",
       "      <td>0.000000</td>\n",
       "      <td>1.450179e+05</td>\n",
       "    </tr>\n",
       "    <tr>\n",
       "      <td>75%</td>\n",
       "      <td>1.000000</td>\n",
       "      <td>-291.095954</td>\n",
       "      <td>53.000000</td>\n",
       "      <td>1.000000</td>\n",
       "      <td>1.000000</td>\n",
       "      <td>0.000000</td>\n",
       "      <td>2.034351e+05</td>\n",
       "    </tr>\n",
       "    <tr>\n",
       "      <td>max</td>\n",
       "      <td>20.000000</td>\n",
       "      <td>401755.400475</td>\n",
       "      <td>75.000000</td>\n",
       "      <td>4.000000</td>\n",
       "      <td>4.000000</td>\n",
       "      <td>1.000000</td>\n",
       "      <td>2.265604e+06</td>\n",
       "    </tr>\n",
       "  </tbody>\n",
       "</table>\n",
       "</div>"
      ],
      "text/plain": [
       "           children  days_employed     dob_years  education_id  \\\n",
       "count  21525.000000   19351.000000  21525.000000  21525.000000   \n",
       "mean       0.538908   63046.497661     43.293380      0.817236   \n",
       "std        1.381587  140827.311974     12.574584      0.548138   \n",
       "min       -1.000000  -18388.949901      0.000000      0.000000   \n",
       "25%        0.000000   -2747.423625     33.000000      1.000000   \n",
       "50%        0.000000   -1203.369529     42.000000      1.000000   \n",
       "75%        1.000000    -291.095954     53.000000      1.000000   \n",
       "max       20.000000  401755.400475     75.000000      4.000000   \n",
       "\n",
       "       family_status_id          debt  total_income  \n",
       "count      21525.000000  21525.000000  1.935100e+04  \n",
       "mean           0.972544      0.080883  1.674223e+05  \n",
       "std            1.420324      0.272661  1.029716e+05  \n",
       "min            0.000000      0.000000  2.066726e+04  \n",
       "25%            0.000000      0.000000  1.030532e+05  \n",
       "50%            0.000000      0.000000  1.450179e+05  \n",
       "75%            1.000000      0.000000  2.034351e+05  \n",
       "max            4.000000      1.000000  2.265604e+06  "
      ]
     },
     "metadata": {},
     "output_type": "display_data"
    },
    {
     "data": {
      "text/html": [
       "<div>\n",
       "<style scoped>\n",
       "    .dataframe tbody tr th:only-of-type {\n",
       "        vertical-align: middle;\n",
       "    }\n",
       "\n",
       "    .dataframe tbody tr th {\n",
       "        vertical-align: top;\n",
       "    }\n",
       "\n",
       "    .dataframe thead th {\n",
       "        text-align: right;\n",
       "    }\n",
       "</style>\n",
       "<table border=\"1\" class=\"dataframe\">\n",
       "  <thead>\n",
       "    <tr style=\"text-align: right;\">\n",
       "      <th></th>\n",
       "      <th>education</th>\n",
       "      <th>family_status</th>\n",
       "      <th>gender</th>\n",
       "      <th>income_type</th>\n",
       "      <th>purpose</th>\n",
       "    </tr>\n",
       "  </thead>\n",
       "  <tbody>\n",
       "    <tr>\n",
       "      <td>count</td>\n",
       "      <td>21525</td>\n",
       "      <td>21525</td>\n",
       "      <td>21525</td>\n",
       "      <td>21525</td>\n",
       "      <td>21525</td>\n",
       "    </tr>\n",
       "    <tr>\n",
       "      <td>unique</td>\n",
       "      <td>15</td>\n",
       "      <td>5</td>\n",
       "      <td>3</td>\n",
       "      <td>8</td>\n",
       "      <td>38</td>\n",
       "    </tr>\n",
       "    <tr>\n",
       "      <td>top</td>\n",
       "      <td>среднее</td>\n",
       "      <td>женат / замужем</td>\n",
       "      <td>F</td>\n",
       "      <td>сотрудник</td>\n",
       "      <td>свадьба</td>\n",
       "    </tr>\n",
       "    <tr>\n",
       "      <td>freq</td>\n",
       "      <td>13750</td>\n",
       "      <td>12380</td>\n",
       "      <td>14236</td>\n",
       "      <td>11119</td>\n",
       "      <td>797</td>\n",
       "    </tr>\n",
       "  </tbody>\n",
       "</table>\n",
       "</div>"
      ],
      "text/plain": [
       "       education    family_status gender income_type  purpose\n",
       "count      21525            21525  21525       21525    21525\n",
       "unique        15                5      3           8       38\n",
       "top      среднее  женат / замужем      F   сотрудник  свадьба\n",
       "freq       13750            12380  14236       11119      797"
      ]
     },
     "metadata": {},
     "output_type": "display_data"
    }
   ],
   "source": [
    "df = pd.read_csv('/datasets/data.csv')\n",
    "def review(df): \n",
    "    \"\"\"создадим функцию для отображения общей информации\"\"\"\n",
    "    info = display(df.head(10)), df.info(), display(df.describe(), df.describe(include=['object', 'bool']))\n",
    "review(df)"
   ]
  },
  {
   "cell_type": "markdown",
   "metadata": {},
   "source": [
    "**Вывод**"
   ]
  },
  {
   "cell_type": "markdown",
   "metadata": {},
   "source": [
    "Встречаются пропущенные данные в столбцах с трудовым стажем - ```days_employed``` и ежемесячным доходом - ```total_income```"
   ]
  },
  {
   "cell_type": "markdown",
   "metadata": {},
   "source": [
    "## Шаг 2. Предобработка данных"
   ]
  },
  {
   "cell_type": "markdown",
   "metadata": {},
   "source": [
    "### Обработаем пропуски"
   ]
  },
  {
   "cell_type": "markdown",
   "metadata": {},
   "source": [
    "Создадим новую таблицу только с пропущенными данными и изучим их."
   ]
  },
  {
   "cell_type": "code",
   "execution_count": 3,
   "metadata": {
    "scrolled": true
   },
   "outputs": [
    {
     "name": "stdout",
     "output_type": "stream",
     "text": [
      "<class 'pandas.core.frame.DataFrame'>\n",
      "Int64Index: 2174 entries, 12 to 21510\n",
      "Data columns (total 12 columns):\n",
      "children            2174 non-null int64\n",
      "days_employed       0 non-null float64\n",
      "dob_years           2174 non-null int64\n",
      "education           2174 non-null object\n",
      "education_id        2174 non-null int64\n",
      "family_status       2174 non-null object\n",
      "family_status_id    2174 non-null int64\n",
      "gender              2174 non-null object\n",
      "income_type         2174 non-null object\n",
      "debt                2174 non-null int64\n",
      "total_income        0 non-null float64\n",
      "purpose             2174 non-null object\n",
      "dtypes: float64(2), int64(5), object(5)\n",
      "memory usage: 220.8+ KB\n"
     ]
    }
   ],
   "source": [
    "df_filtered = df[df['total_income'].isna() == True]\n",
    "df_filtered.info()"
   ]
  },
  {
   "cell_type": "markdown",
   "metadata": {},
   "source": [
    "Делаем вывод, что пропущенные данные в столбцах с трудовым стажем - ```days_employed``` и ежемесячным доходом - ```total_income``` закономерны и равны по количеству. Очевидно, что без информации о трудовом стаже нет информации о ежемесячном доходе."
   ]
  },
  {
   "cell_type": "markdown",
   "metadata": {},
   "source": [
    "Сгруппируем строки с пропущенными значениями по столбцу с типом занятости - ```income_type``` и посчитаем колличество по каждому типу"
   ]
  },
  {
   "cell_type": "code",
   "execution_count": 4,
   "metadata": {},
   "outputs": [
    {
     "data": {
      "text/plain": [
       "income_type\n",
       "сотрудник          1105\n",
       "компаньон           508\n",
       "пенсионер           413\n",
       "госслужащий         147\n",
       "предприниматель       1\n",
       "Name: income_type, dtype: int64"
      ]
     },
     "execution_count": 4,
     "metadata": {},
     "output_type": "execute_result"
    }
   ],
   "source": [
    "df_filtered.groupby('income_type')['income_type'].count().sort_values(ascending=False)"
   ]
  },
  {
   "cell_type": "markdown",
   "metadata": {},
   "source": [
    "Все пропущенные данные являются колличественными переменными и следовательно можно заменить пропущенные данные на средние и медианные значения по группам - типам занятости ```income_type```."
   ]
  },
  {
   "cell_type": "code",
   "execution_count": 5,
   "metadata": {},
   "outputs": [],
   "source": [
    "df['days_employed'] = df['days_employed'].fillna(df.groupby('income_type')['days_employed'].transform('mean'))"
   ]
  },
  {
   "cell_type": "code",
   "execution_count": 6,
   "metadata": {},
   "outputs": [],
   "source": [
    "df['total_income'] = df['total_income'].fillna(df.groupby('income_type')['total_income'].transform('median'))"
   ]
  },
  {
   "cell_type": "markdown",
   "metadata": {},
   "source": [
    "Также в датасете присутствуют артефакты — это, отрицательное количество дней трудового стажа. Заменим отрицательные числа на положительные."
   ]
  },
  {
   "cell_type": "code",
   "execution_count": 7,
   "metadata": {},
   "outputs": [],
   "source": [
    "def negative_to_pozitive(value):\n",
    "    if value < 0:\n",
    "        value *= -1\n",
    "        return value\n",
    "    else:\n",
    "        return value\n",
    "df['days_employed'] = df['days_employed'].apply(negative_to_pozitive)\n",
    "df['days_employed'] = df['days_employed'].fillna(df['days_employed'])\n",
    "df['total_income'] = df['total_income'].fillna(df['total_income'])"
   ]
  },
  {
   "cell_type": "markdown",
   "metadata": {},
   "source": [
    "### Заменим типы данных"
   ]
  },
  {
   "cell_type": "code",
   "execution_count": 8,
   "metadata": {},
   "outputs": [],
   "source": [
    "for column in df[['days_employed','total_income']]:\n",
    "    df[column] = df[column].astype('int')"
   ]
  },
  {
   "cell_type": "markdown",
   "metadata": {},
   "source": [
    "### Обработаем дубликаты"
   ]
  },
  {
   "cell_type": "markdown",
   "metadata": {},
   "source": [
    "Считаем явные дубликаты."
   ]
  },
  {
   "cell_type": "code",
   "execution_count": 9,
   "metadata": {},
   "outputs": [
    {
     "data": {
      "text/plain": [
       "54"
      ]
     },
     "execution_count": 9,
     "metadata": {},
     "output_type": "execute_result"
    }
   ],
   "source": [
    "df.duplicated().sum()"
   ]
  },
  {
   "cell_type": "markdown",
   "metadata": {},
   "source": [
    "Удаляем явные дубликаты со сбросом индексов."
   ]
  },
  {
   "cell_type": "code",
   "execution_count": 10,
   "metadata": {},
   "outputs": [],
   "source": [
    "df = df.drop_duplicates().reset_index(drop=True) "
   ]
  },
  {
   "cell_type": "markdown",
   "metadata": {},
   "source": [
    "Проверяем данные."
   ]
  },
  {
   "cell_type": "code",
   "execution_count": 11,
   "metadata": {},
   "outputs": [
    {
     "data": {
      "text/plain": [
       "0"
      ]
     },
     "execution_count": 11,
     "metadata": {},
     "output_type": "execute_result"
    }
   ],
   "source": [
    "df.duplicated().sum()"
   ]
  },
  {
   "cell_type": "markdown",
   "metadata": {},
   "source": [
    "Проверяем неявные дубликаты по всем столбцам."
   ]
  },
  {
   "cell_type": "code",
   "execution_count": 12,
   "metadata": {},
   "outputs": [
    {
     "name": "stdout",
     "output_type": "stream",
     "text": [
      " 0     14107\n",
      " 1      4809\n",
      " 2      2052\n",
      " 3       330\n",
      " 20       76\n",
      "-1        47\n",
      " 4        41\n",
      " 5         9\n",
      "Name: children, dtype: int64\n",
      "2326      1078\n",
      "2111       506\n",
      "365003     394\n",
      "3399       148\n",
      "327         16\n",
      "          ... \n",
      "5307         1\n",
      "9405         1\n",
      "3272         1\n",
      "5323         1\n",
      "2049         1\n",
      "Name: days_employed, Length: 9087, dtype: int64\n",
      "35    616\n",
      "40    607\n",
      "41    606\n",
      "34    601\n",
      "38    597\n",
      "42    596\n",
      "33    581\n",
      "39    572\n",
      "31    559\n",
      "36    554\n",
      "44    545\n",
      "29    544\n",
      "30    538\n",
      "48    537\n",
      "37    536\n",
      "50    513\n",
      "43    512\n",
      "32    509\n",
      "49    508\n",
      "28    503\n",
      "45    497\n",
      "27    493\n",
      "56    484\n",
      "52    484\n",
      "47    477\n",
      "54    476\n",
      "46    473\n",
      "53    459\n",
      "57    456\n",
      "58    456\n",
      "51    448\n",
      "55    443\n",
      "59    443\n",
      "26    408\n",
      "60    374\n",
      "25    357\n",
      "61    354\n",
      "62    349\n",
      "63    269\n",
      "24    264\n",
      "64    262\n",
      "23    253\n",
      "65    194\n",
      "22    183\n",
      "66    182\n",
      "67    167\n",
      "21    111\n",
      "0     101\n",
      "68     99\n",
      "69     85\n",
      "70     65\n",
      "71     58\n",
      "20     51\n",
      "72     33\n",
      "19     14\n",
      "73      8\n",
      "74      6\n",
      "75      1\n",
      "Name: dob_years, dtype: int64\n",
      "среднее                13705\n",
      "высшее                  4710\n",
      "СРЕДНЕЕ                  772\n",
      "Среднее                  711\n",
      "неоконченное высшее      668\n",
      "ВЫСШЕЕ                   273\n",
      "Высшее                   268\n",
      "начальное                250\n",
      "Неоконченное высшее       47\n",
      "НЕОКОНЧЕННОЕ ВЫСШЕЕ       29\n",
      "НАЧАЛЬНОЕ                 17\n",
      "Начальное                 15\n",
      "ученая степень             4\n",
      "Ученая степень             1\n",
      "УЧЕНАЯ СТЕПЕНЬ             1\n",
      "Name: education, dtype: int64\n",
      "1    15188\n",
      "0     5251\n",
      "2      744\n",
      "3      282\n",
      "4        6\n",
      "Name: education_id, dtype: int64\n",
      "женат / замужем          12344\n",
      "гражданский брак          4163\n",
      "Не женат / не замужем     2810\n",
      "в разводе                 1195\n",
      "вдовец / вдова             959\n",
      "Name: family_status, dtype: int64\n",
      "0    12344\n",
      "1     4163\n",
      "4     2810\n",
      "3     1195\n",
      "2      959\n",
      "Name: family_status_id, dtype: int64\n",
      "F      14189\n",
      "M       7281\n",
      "XNA        1\n",
      "Name: gender, dtype: int64\n",
      "сотрудник          11091\n",
      "компаньон           5080\n",
      "пенсионер           3837\n",
      "госслужащий         1457\n",
      "предприниматель        2\n",
      "безработный            2\n",
      "студент                1\n",
      "в декрете              1\n",
      "Name: income_type, dtype: int64\n",
      "0    19730\n",
      "1     1741\n",
      "Name: debt, dtype: int64\n",
      "142594    1077\n",
      "172357     504\n",
      "118514     395\n",
      "150447     145\n",
      "126262       3\n",
      "          ... \n",
      "101387       1\n",
      "138249       1\n",
      "280240       1\n",
      "390148       1\n",
      "264193       1\n",
      "Name: total_income, Length: 18608, dtype: int64\n",
      "свадьба                                   793\n",
      "на проведение свадьбы                     773\n",
      "сыграть свадьбу                           769\n",
      "операции с недвижимостью                  675\n",
      "покупка коммерческой недвижимости         662\n",
      "операции с жильем                         652\n",
      "покупка жилья для сдачи                   652\n",
      "операции с коммерческой недвижимостью     650\n",
      "покупка жилья                             646\n",
      "жилье                                     646\n",
      "покупка жилья для семьи                   638\n",
      "строительство собственной недвижимости    635\n",
      "недвижимость                              633\n",
      "операции со своей недвижимостью           627\n",
      "строительство жилой недвижимости          625\n",
      "покупка недвижимости                      621\n",
      "покупка своего жилья                      620\n",
      "строительство недвижимости                619\n",
      "ремонт жилью                              607\n",
      "покупка жилой недвижимости                606\n",
      "на покупку своего автомобиля              505\n",
      "заняться высшим образованием              496\n",
      "автомобиль                                494\n",
      "сделка с подержанным автомобилем          486\n",
      "свой автомобиль                           479\n",
      "автомобили                                478\n",
      "на покупку подержанного автомобиля        478\n",
      "на покупку автомобиля                     472\n",
      "приобретение автомобиля                   461\n",
      "дополнительное образование                460\n",
      "сделка с автомобилем                      455\n",
      "высшее образование                        452\n",
      "образование                               447\n",
      "получение дополнительного образования     447\n",
      "получение образования                     442\n",
      "профильное образование                    436\n",
      "получение высшего образования             426\n",
      "заняться образованием                     408\n",
      "Name: purpose, dtype: int64\n"
     ]
    }
   ],
   "source": [
    "for column in df.columns:\n",
    "    print(df[column].value_counts())"
   ]
  },
  {
   "cell_type": "markdown",
   "metadata": {},
   "source": [
    "В столбце с количеством детей в семье ```children``` видим подозрительные данные - это значение ```-1``` и ```20```.\n",
    "\n",
    "```-1``` заменим на ```1```, а ```20``` заменим медианным значением."
   ]
  },
  {
   "cell_type": "code",
   "execution_count": 13,
   "metadata": {},
   "outputs": [],
   "source": [
    "df['children'] = df['children'].replace(-1, 1)\n",
    "children_median = df.loc[df.loc[:, 'children'] != 20]['children'].median()\n",
    "df['children'] = df['children'].replace(20, children_median)"
   ]
  },
  {
   "cell_type": "markdown",
   "metadata": {},
   "source": [
    "Избавляемся от неявных дубликатов в столбце с уровнем образования - ```education```."
   ]
  },
  {
   "cell_type": "code",
   "execution_count": 14,
   "metadata": {},
   "outputs": [
    {
     "data": {
      "text/plain": [
       "array(['высшее', 'среднее', 'Среднее', 'СРЕДНЕЕ', 'ВЫСШЕЕ',\n",
       "       'неоконченное высшее', 'начальное', 'Высшее',\n",
       "       'НЕОКОНЧЕННОЕ ВЫСШЕЕ', 'Неоконченное высшее', 'НАЧАЛЬНОЕ',\n",
       "       'Начальное', 'Ученая степень', 'УЧЕНАЯ СТЕПЕНЬ', 'ученая степень'],\n",
       "      dtype=object)"
      ]
     },
     "execution_count": 14,
     "metadata": {},
     "output_type": "execute_result"
    }
   ],
   "source": [
    "df['education'].unique()"
   ]
  },
  {
   "cell_type": "code",
   "execution_count": 15,
   "metadata": {},
   "outputs": [],
   "source": [
    "df['education'] = df['education'].str.lower()"
   ]
  },
  {
   "cell_type": "markdown",
   "metadata": {},
   "source": [
    "После того как мы произвели столбец полностью в нижний регистр `df['education']`, у нас появились еще дубликаты - избавимся от них."
   ]
  },
  {
   "cell_type": "code",
   "execution_count": 16,
   "metadata": {},
   "outputs": [
    {
     "data": {
      "text/plain": [
       "17"
      ]
     },
     "execution_count": 16,
     "metadata": {},
     "output_type": "execute_result"
    }
   ],
   "source": [
    "df.duplicated().sum()"
   ]
  },
  {
   "cell_type": "markdown",
   "metadata": {},
   "source": [
    "Проверяем данные."
   ]
  },
  {
   "cell_type": "code",
   "execution_count": 20,
   "metadata": {},
   "outputs": [
    {
     "name": "stdout",
     "output_type": "stream",
     "text": [
      "0    14183\n",
      "1     4856\n",
      "2     2052\n",
      "3      330\n",
      "4       41\n",
      "5        9\n",
      "Name: children, dtype: int64\n",
      "2326      1078\n",
      "2111       506\n",
      "365003     394\n",
      "3399       148\n",
      "327         16\n",
      "          ... \n",
      "5307         1\n",
      "9405         1\n",
      "3272         1\n",
      "5323         1\n",
      "2049         1\n",
      "Name: days_employed, Length: 9087, dtype: int64\n",
      "35    616\n",
      "40    607\n",
      "41    606\n",
      "34    601\n",
      "38    597\n",
      "42    596\n",
      "33    581\n",
      "39    572\n",
      "31    559\n",
      "36    554\n",
      "44    545\n",
      "29    544\n",
      "30    538\n",
      "48    537\n",
      "37    536\n",
      "50    513\n",
      "43    512\n",
      "32    509\n",
      "49    508\n",
      "28    503\n",
      "45    497\n",
      "27    493\n",
      "56    484\n",
      "52    484\n",
      "47    477\n",
      "54    476\n",
      "46    473\n",
      "53    459\n",
      "57    456\n",
      "58    456\n",
      "51    448\n",
      "55    443\n",
      "59    443\n",
      "26    408\n",
      "60    374\n",
      "25    357\n",
      "61    354\n",
      "62    349\n",
      "63    269\n",
      "24    264\n",
      "64    262\n",
      "23    253\n",
      "65    194\n",
      "22    183\n",
      "66    182\n",
      "67    167\n",
      "21    111\n",
      "0     101\n",
      "68     99\n",
      "69     85\n",
      "70     65\n",
      "71     58\n",
      "20     51\n",
      "72     33\n",
      "19     14\n",
      "73      8\n",
      "74      6\n",
      "75      1\n",
      "Name: dob_years, dtype: int64\n",
      "среднее                15188\n",
      "высшее                  5251\n",
      "неоконченное высшее      744\n",
      "начальное                282\n",
      "ученая степень             6\n",
      "Name: education, dtype: int64\n",
      "1    15188\n",
      "0     5251\n",
      "2      744\n",
      "3      282\n",
      "4        6\n",
      "Name: education_id, dtype: int64\n",
      "женат / замужем          12344\n",
      "гражданский брак          4163\n",
      "Не женат / не замужем     2810\n",
      "в разводе                 1195\n",
      "вдовец / вдова             959\n",
      "Name: family_status, dtype: int64\n",
      "0    12344\n",
      "1     4163\n",
      "4     2810\n",
      "3     1195\n",
      "2      959\n",
      "Name: family_status_id, dtype: int64\n",
      "F      14189\n",
      "M       7281\n",
      "XNA        1\n",
      "Name: gender, dtype: int64\n",
      "сотрудник          11091\n",
      "компаньон           5080\n",
      "пенсионер           3837\n",
      "госслужащий         1457\n",
      "предприниматель        2\n",
      "безработный            2\n",
      "студент                1\n",
      "в декрете              1\n",
      "Name: income_type, dtype: int64\n",
      "0    19730\n",
      "1     1741\n",
      "Name: debt, dtype: int64\n",
      "142594    1077\n",
      "172357     504\n",
      "118514     395\n",
      "150447     145\n",
      "126262       3\n",
      "          ... \n",
      "101387       1\n",
      "138249       1\n",
      "280240       1\n",
      "390148       1\n",
      "264193       1\n",
      "Name: total_income, Length: 18608, dtype: int64\n",
      "свадьба                                   793\n",
      "на проведение свадьбы                     773\n",
      "сыграть свадьбу                           769\n",
      "операции с недвижимостью                  675\n",
      "покупка коммерческой недвижимости         662\n",
      "операции с жильем                         652\n",
      "покупка жилья для сдачи                   652\n",
      "операции с коммерческой недвижимостью     650\n",
      "покупка жилья                             646\n",
      "жилье                                     646\n",
      "покупка жилья для семьи                   638\n",
      "строительство собственной недвижимости    635\n",
      "недвижимость                              633\n",
      "операции со своей недвижимостью           627\n",
      "строительство жилой недвижимости          625\n",
      "покупка недвижимости                      621\n",
      "покупка своего жилья                      620\n",
      "строительство недвижимости                619\n",
      "ремонт жилью                              607\n",
      "покупка жилой недвижимости                606\n",
      "на покупку своего автомобиля              505\n",
      "заняться высшим образованием              496\n",
      "автомобиль                                494\n",
      "сделка с подержанным автомобилем          486\n",
      "свой автомобиль                           479\n",
      "автомобили                                478\n",
      "на покупку подержанного автомобиля        478\n",
      "на покупку автомобиля                     472\n",
      "приобретение автомобиля                   461\n",
      "дополнительное образование                460\n",
      "сделка с автомобилем                      455\n",
      "высшее образование                        452\n",
      "образование                               447\n",
      "получение дополнительного образования     447\n",
      "получение образования                     442\n",
      "профильное образование                    436\n",
      "получение высшего образования             426\n",
      "заняться образованием                     408\n",
      "Name: purpose, dtype: int64\n"
     ]
    }
   ],
   "source": [
    "for column in df.columns:\n",
    "    print(df[column].value_counts())"
   ]
  },
  {
   "cell_type": "markdown",
   "metadata": {},
   "source": [
    "**Вывод**"
   ]
  },
  {
   "cell_type": "markdown",
   "metadata": {},
   "source": [
    "Для более точного дальнейшего анализа были удалены явные дубликаты из всего датасета и неявные дубликаты из столбца с количеством детей в семье - ```children``` и уровнем образования - ```education```\n",
    "\n",
    "Дубликаты могли возникнуть при повторных представлених, неправильное соединение данных из разных источников или ошибок пользователя при занесении информации.\n",
    "\n",
    "Неявные дубликаты из столбца с данными о цели получения кредита - ```purpose``` имеют слишком много различий для ручного внесений изменений в данные, поэтому отфильтруем при помощи лемматизации и категоризации на сл. шаге. \n",
    "\n",
    "В столбце с полом клиента ```family_status_id``` найден артефакт - ```XNA``` - вероятнее всего пропуск, но так как мы не знаем пол человека и не можем сделать предположений из данных, а также в расчетах использовать значение не будем, то оставляем его как есть. "
   ]
  },
  {
   "cell_type": "markdown",
   "metadata": {},
   "source": [
    "### Лемматизация"
   ]
  },
  {
   "cell_type": "markdown",
   "metadata": {},
   "source": [
    "Воспользуемся библиотекой морфологического анализа PyMystem3. И выделяем леммы в значениях столбца с целями получения кредита - ```purpose```."
   ]
  },
  {
   "cell_type": "code",
   "execution_count": 22,
   "metadata": {},
   "outputs": [],
   "source": [
    "import pymystem3\n",
    "from pymystem3 import Mystem\n",
    "m = Mystem()"
   ]
  },
  {
   "cell_type": "code",
   "execution_count": 24,
   "metadata": {
    "scrolled": true
   },
   "outputs": [],
   "source": [
    "def create_category_purpose(row):\n",
    "    \"\"\"фунцкия для лемматизации и категоризации\"\"\"\n",
    "    lem_purpose = m.lemmatize(row['purpose'])\n",
    "    if 'автомобиль' in lem_purpose:\n",
    "        return 'транспортные средства'\n",
    "    if ('жилье' in lem_purpose) or ('недвижимость' in lem_purpose):\n",
    "        return 'недвижимость'\n",
    "    if 'образование' in lem_purpose:\n",
    "        return 'образование'\n",
    "    if 'свадьба' in lem_purpose:\n",
    "        return 'бракосочетание'\n",
    "    return 'другое'"
   ]
  },
  {
   "cell_type": "code",
   "execution_count": 26,
   "metadata": {},
   "outputs": [
    {
     "data": {
      "text/html": [
       "<div>\n",
       "<style scoped>\n",
       "    .dataframe tbody tr th:only-of-type {\n",
       "        vertical-align: middle;\n",
       "    }\n",
       "\n",
       "    .dataframe tbody tr th {\n",
       "        vertical-align: top;\n",
       "    }\n",
       "\n",
       "    .dataframe thead th {\n",
       "        text-align: right;\n",
       "    }\n",
       "</style>\n",
       "<table border=\"1\" class=\"dataframe\">\n",
       "  <thead>\n",
       "    <tr style=\"text-align: right;\">\n",
       "      <th></th>\n",
       "      <th>children</th>\n",
       "      <th>days_employed</th>\n",
       "      <th>dob_years</th>\n",
       "      <th>education</th>\n",
       "      <th>education_id</th>\n",
       "      <th>family_status</th>\n",
       "      <th>family_status_id</th>\n",
       "      <th>gender</th>\n",
       "      <th>income_type</th>\n",
       "      <th>debt</th>\n",
       "      <th>total_income</th>\n",
       "      <th>purpose</th>\n",
       "      <th>purpose_category</th>\n",
       "    </tr>\n",
       "  </thead>\n",
       "  <tbody>\n",
       "    <tr>\n",
       "      <td>0</td>\n",
       "      <td>1</td>\n",
       "      <td>8437</td>\n",
       "      <td>42</td>\n",
       "      <td>высшее</td>\n",
       "      <td>0</td>\n",
       "      <td>женат / замужем</td>\n",
       "      <td>0</td>\n",
       "      <td>F</td>\n",
       "      <td>сотрудник</td>\n",
       "      <td>0</td>\n",
       "      <td>253875</td>\n",
       "      <td>покупка жилья</td>\n",
       "      <td>недвижимость</td>\n",
       "    </tr>\n",
       "    <tr>\n",
       "      <td>1</td>\n",
       "      <td>1</td>\n",
       "      <td>4024</td>\n",
       "      <td>36</td>\n",
       "      <td>среднее</td>\n",
       "      <td>1</td>\n",
       "      <td>женат / замужем</td>\n",
       "      <td>0</td>\n",
       "      <td>F</td>\n",
       "      <td>сотрудник</td>\n",
       "      <td>0</td>\n",
       "      <td>112080</td>\n",
       "      <td>приобретение автомобиля</td>\n",
       "      <td>транспортные средства</td>\n",
       "    </tr>\n",
       "    <tr>\n",
       "      <td>2</td>\n",
       "      <td>0</td>\n",
       "      <td>5623</td>\n",
       "      <td>33</td>\n",
       "      <td>среднее</td>\n",
       "      <td>1</td>\n",
       "      <td>женат / замужем</td>\n",
       "      <td>0</td>\n",
       "      <td>M</td>\n",
       "      <td>сотрудник</td>\n",
       "      <td>0</td>\n",
       "      <td>145885</td>\n",
       "      <td>покупка жилья</td>\n",
       "      <td>недвижимость</td>\n",
       "    </tr>\n",
       "    <tr>\n",
       "      <td>3</td>\n",
       "      <td>3</td>\n",
       "      <td>4124</td>\n",
       "      <td>32</td>\n",
       "      <td>среднее</td>\n",
       "      <td>1</td>\n",
       "      <td>женат / замужем</td>\n",
       "      <td>0</td>\n",
       "      <td>M</td>\n",
       "      <td>сотрудник</td>\n",
       "      <td>0</td>\n",
       "      <td>267628</td>\n",
       "      <td>дополнительное образование</td>\n",
       "      <td>образование</td>\n",
       "    </tr>\n",
       "    <tr>\n",
       "      <td>4</td>\n",
       "      <td>0</td>\n",
       "      <td>340266</td>\n",
       "      <td>53</td>\n",
       "      <td>среднее</td>\n",
       "      <td>1</td>\n",
       "      <td>гражданский брак</td>\n",
       "      <td>1</td>\n",
       "      <td>F</td>\n",
       "      <td>пенсионер</td>\n",
       "      <td>0</td>\n",
       "      <td>158616</td>\n",
       "      <td>сыграть свадьбу</td>\n",
       "      <td>бракосочетание</td>\n",
       "    </tr>\n",
       "    <tr>\n",
       "      <td>5</td>\n",
       "      <td>0</td>\n",
       "      <td>926</td>\n",
       "      <td>27</td>\n",
       "      <td>высшее</td>\n",
       "      <td>0</td>\n",
       "      <td>гражданский брак</td>\n",
       "      <td>1</td>\n",
       "      <td>M</td>\n",
       "      <td>компаньон</td>\n",
       "      <td>0</td>\n",
       "      <td>255763</td>\n",
       "      <td>покупка жилья</td>\n",
       "      <td>недвижимость</td>\n",
       "    </tr>\n",
       "    <tr>\n",
       "      <td>6</td>\n",
       "      <td>0</td>\n",
       "      <td>2879</td>\n",
       "      <td>43</td>\n",
       "      <td>высшее</td>\n",
       "      <td>0</td>\n",
       "      <td>женат / замужем</td>\n",
       "      <td>0</td>\n",
       "      <td>F</td>\n",
       "      <td>компаньон</td>\n",
       "      <td>0</td>\n",
       "      <td>240525</td>\n",
       "      <td>операции с жильем</td>\n",
       "      <td>недвижимость</td>\n",
       "    </tr>\n",
       "    <tr>\n",
       "      <td>7</td>\n",
       "      <td>0</td>\n",
       "      <td>152</td>\n",
       "      <td>50</td>\n",
       "      <td>среднее</td>\n",
       "      <td>1</td>\n",
       "      <td>женат / замужем</td>\n",
       "      <td>0</td>\n",
       "      <td>M</td>\n",
       "      <td>сотрудник</td>\n",
       "      <td>0</td>\n",
       "      <td>135823</td>\n",
       "      <td>образование</td>\n",
       "      <td>образование</td>\n",
       "    </tr>\n",
       "    <tr>\n",
       "      <td>8</td>\n",
       "      <td>2</td>\n",
       "      <td>6929</td>\n",
       "      <td>35</td>\n",
       "      <td>высшее</td>\n",
       "      <td>0</td>\n",
       "      <td>гражданский брак</td>\n",
       "      <td>1</td>\n",
       "      <td>F</td>\n",
       "      <td>сотрудник</td>\n",
       "      <td>0</td>\n",
       "      <td>95856</td>\n",
       "      <td>на проведение свадьбы</td>\n",
       "      <td>бракосочетание</td>\n",
       "    </tr>\n",
       "    <tr>\n",
       "      <td>9</td>\n",
       "      <td>0</td>\n",
       "      <td>2188</td>\n",
       "      <td>41</td>\n",
       "      <td>среднее</td>\n",
       "      <td>1</td>\n",
       "      <td>женат / замужем</td>\n",
       "      <td>0</td>\n",
       "      <td>M</td>\n",
       "      <td>сотрудник</td>\n",
       "      <td>0</td>\n",
       "      <td>144425</td>\n",
       "      <td>покупка жилья для семьи</td>\n",
       "      <td>недвижимость</td>\n",
       "    </tr>\n",
       "  </tbody>\n",
       "</table>\n",
       "</div>"
      ],
      "text/plain": [
       "   children  days_employed  dob_years education  education_id  \\\n",
       "0         1           8437         42    высшее             0   \n",
       "1         1           4024         36   среднее             1   \n",
       "2         0           5623         33   среднее             1   \n",
       "3         3           4124         32   среднее             1   \n",
       "4         0         340266         53   среднее             1   \n",
       "5         0            926         27    высшее             0   \n",
       "6         0           2879         43    высшее             0   \n",
       "7         0            152         50   среднее             1   \n",
       "8         2           6929         35    высшее             0   \n",
       "9         0           2188         41   среднее             1   \n",
       "\n",
       "      family_status  family_status_id gender income_type  debt  total_income  \\\n",
       "0   женат / замужем                 0      F   сотрудник     0        253875   \n",
       "1   женат / замужем                 0      F   сотрудник     0        112080   \n",
       "2   женат / замужем                 0      M   сотрудник     0        145885   \n",
       "3   женат / замужем                 0      M   сотрудник     0        267628   \n",
       "4  гражданский брак                 1      F   пенсионер     0        158616   \n",
       "5  гражданский брак                 1      M   компаньон     0        255763   \n",
       "6   женат / замужем                 0      F   компаньон     0        240525   \n",
       "7   женат / замужем                 0      M   сотрудник     0        135823   \n",
       "8  гражданский брак                 1      F   сотрудник     0         95856   \n",
       "9   женат / замужем                 0      M   сотрудник     0        144425   \n",
       "\n",
       "                      purpose       purpose_category  \n",
       "0               покупка жилья           недвижимость  \n",
       "1     приобретение автомобиля  транспортные средства  \n",
       "2               покупка жилья           недвижимость  \n",
       "3  дополнительное образование            образование  \n",
       "4             сыграть свадьбу         бракосочетание  \n",
       "5               покупка жилья           недвижимость  \n",
       "6           операции с жильем           недвижимость  \n",
       "7                 образование            образование  \n",
       "8       на проведение свадьбы         бракосочетание  \n",
       "9     покупка жилья для семьи           недвижимость  "
      ]
     },
     "execution_count": 26,
     "metadata": {},
     "output_type": "execute_result"
    }
   ],
   "source": [
    "df['purpose_category'] = df.apply(create_category_purpose, axis=1)\n",
    "df.head(10)"
   ]
  },
  {
   "cell_type": "markdown",
   "metadata": {},
   "source": [
    "Проверим данные и выведем предварительную статистику."
   ]
  },
  {
   "cell_type": "code",
   "execution_count": 27,
   "metadata": {},
   "outputs": [
    {
     "data": {
      "text/plain": [
       "недвижимость             10814\n",
       "транспортные средства     4308\n",
       "образование               4014\n",
       "бракосочетание            2335\n",
       "Name: purpose_category, dtype: int64"
      ]
     },
     "execution_count": 27,
     "metadata": {},
     "output_type": "execute_result"
    }
   ],
   "source": [
    "df['purpose_category'].value_counts()"
   ]
  },
  {
   "cell_type": "markdown",
   "metadata": {},
   "source": [
    "**Вывод**"
   ]
  },
  {
   "cell_type": "markdown",
   "metadata": {},
   "source": [
    "Таким образом в датасет был добавлен столбец с категориямии - ```purpose_category``` и тем самым избавились от применения ручного перебора неявных дубликатов из столбца с целью получения кредита - ```purpose```."
   ]
  },
  {
   "cell_type": "markdown",
   "metadata": {},
   "source": [
    "### Категоризация данных"
   ]
  },
  {
   "cell_type": "markdown",
   "metadata": {},
   "source": [
    "**Выделяем категории с уровнем дохода в значениях столбца с ежемесячным доходом - ```total_income``` по данным о доходах по регионам согласно [РБК](https://www.rbc.ru/economics/18/06/2018/5b27bf829a794710796bbfe5)**"
   ]
  },
  {
   "cell_type": "code",
   "execution_count": 29,
   "metadata": {
    "scrolled": true
   },
   "outputs": [],
   "source": [
    "def income_status(total):\n",
    "    \"\"\"функция для каегоризации\"\"\"\n",
    "    if total['total_income'] < 60000:\n",
    "        return 'низкий уровень дохода'\n",
    "    if (total['total_income'] >= 60000) and (total['total_income'] <= 72200):\n",
    "        return 'средний уровень дохода'\n",
    "    if total['total_income'] > 72200:\n",
    "        return 'высокий уровень дохода'"
   ]
  },
  {
   "cell_type": "code",
   "execution_count": 32,
   "metadata": {},
   "outputs": [
    {
     "data": {
      "text/html": [
       "<div>\n",
       "<style scoped>\n",
       "    .dataframe tbody tr th:only-of-type {\n",
       "        vertical-align: middle;\n",
       "    }\n",
       "\n",
       "    .dataframe tbody tr th {\n",
       "        vertical-align: top;\n",
       "    }\n",
       "\n",
       "    .dataframe thead th {\n",
       "        text-align: right;\n",
       "    }\n",
       "</style>\n",
       "<table border=\"1\" class=\"dataframe\">\n",
       "  <thead>\n",
       "    <tr style=\"text-align: right;\">\n",
       "      <th></th>\n",
       "      <th>children</th>\n",
       "      <th>days_employed</th>\n",
       "      <th>dob_years</th>\n",
       "      <th>education</th>\n",
       "      <th>education_id</th>\n",
       "      <th>family_status</th>\n",
       "      <th>family_status_id</th>\n",
       "      <th>gender</th>\n",
       "      <th>income_type</th>\n",
       "      <th>debt</th>\n",
       "      <th>total_income</th>\n",
       "      <th>purpose</th>\n",
       "      <th>purpose_category</th>\n",
       "      <th>income_status</th>\n",
       "    </tr>\n",
       "  </thead>\n",
       "  <tbody>\n",
       "    <tr>\n",
       "      <td>0</td>\n",
       "      <td>1</td>\n",
       "      <td>8437</td>\n",
       "      <td>42</td>\n",
       "      <td>высшее</td>\n",
       "      <td>0</td>\n",
       "      <td>женат / замужем</td>\n",
       "      <td>0</td>\n",
       "      <td>F</td>\n",
       "      <td>сотрудник</td>\n",
       "      <td>0</td>\n",
       "      <td>253875</td>\n",
       "      <td>покупка жилья</td>\n",
       "      <td>недвижимость</td>\n",
       "      <td>высокий уровень дохода</td>\n",
       "    </tr>\n",
       "    <tr>\n",
       "      <td>1</td>\n",
       "      <td>1</td>\n",
       "      <td>4024</td>\n",
       "      <td>36</td>\n",
       "      <td>среднее</td>\n",
       "      <td>1</td>\n",
       "      <td>женат / замужем</td>\n",
       "      <td>0</td>\n",
       "      <td>F</td>\n",
       "      <td>сотрудник</td>\n",
       "      <td>0</td>\n",
       "      <td>112080</td>\n",
       "      <td>приобретение автомобиля</td>\n",
       "      <td>транспортные средства</td>\n",
       "      <td>высокий уровень дохода</td>\n",
       "    </tr>\n",
       "    <tr>\n",
       "      <td>2</td>\n",
       "      <td>0</td>\n",
       "      <td>5623</td>\n",
       "      <td>33</td>\n",
       "      <td>среднее</td>\n",
       "      <td>1</td>\n",
       "      <td>женат / замужем</td>\n",
       "      <td>0</td>\n",
       "      <td>M</td>\n",
       "      <td>сотрудник</td>\n",
       "      <td>0</td>\n",
       "      <td>145885</td>\n",
       "      <td>покупка жилья</td>\n",
       "      <td>недвижимость</td>\n",
       "      <td>высокий уровень дохода</td>\n",
       "    </tr>\n",
       "    <tr>\n",
       "      <td>3</td>\n",
       "      <td>3</td>\n",
       "      <td>4124</td>\n",
       "      <td>32</td>\n",
       "      <td>среднее</td>\n",
       "      <td>1</td>\n",
       "      <td>женат / замужем</td>\n",
       "      <td>0</td>\n",
       "      <td>M</td>\n",
       "      <td>сотрудник</td>\n",
       "      <td>0</td>\n",
       "      <td>267628</td>\n",
       "      <td>дополнительное образование</td>\n",
       "      <td>образование</td>\n",
       "      <td>высокий уровень дохода</td>\n",
       "    </tr>\n",
       "    <tr>\n",
       "      <td>4</td>\n",
       "      <td>0</td>\n",
       "      <td>340266</td>\n",
       "      <td>53</td>\n",
       "      <td>среднее</td>\n",
       "      <td>1</td>\n",
       "      <td>гражданский брак</td>\n",
       "      <td>1</td>\n",
       "      <td>F</td>\n",
       "      <td>пенсионер</td>\n",
       "      <td>0</td>\n",
       "      <td>158616</td>\n",
       "      <td>сыграть свадьбу</td>\n",
       "      <td>бракосочетание</td>\n",
       "      <td>высокий уровень дохода</td>\n",
       "    </tr>\n",
       "    <tr>\n",
       "      <td>5</td>\n",
       "      <td>0</td>\n",
       "      <td>926</td>\n",
       "      <td>27</td>\n",
       "      <td>высшее</td>\n",
       "      <td>0</td>\n",
       "      <td>гражданский брак</td>\n",
       "      <td>1</td>\n",
       "      <td>M</td>\n",
       "      <td>компаньон</td>\n",
       "      <td>0</td>\n",
       "      <td>255763</td>\n",
       "      <td>покупка жилья</td>\n",
       "      <td>недвижимость</td>\n",
       "      <td>высокий уровень дохода</td>\n",
       "    </tr>\n",
       "    <tr>\n",
       "      <td>6</td>\n",
       "      <td>0</td>\n",
       "      <td>2879</td>\n",
       "      <td>43</td>\n",
       "      <td>высшее</td>\n",
       "      <td>0</td>\n",
       "      <td>женат / замужем</td>\n",
       "      <td>0</td>\n",
       "      <td>F</td>\n",
       "      <td>компаньон</td>\n",
       "      <td>0</td>\n",
       "      <td>240525</td>\n",
       "      <td>операции с жильем</td>\n",
       "      <td>недвижимость</td>\n",
       "      <td>высокий уровень дохода</td>\n",
       "    </tr>\n",
       "    <tr>\n",
       "      <td>7</td>\n",
       "      <td>0</td>\n",
       "      <td>152</td>\n",
       "      <td>50</td>\n",
       "      <td>среднее</td>\n",
       "      <td>1</td>\n",
       "      <td>женат / замужем</td>\n",
       "      <td>0</td>\n",
       "      <td>M</td>\n",
       "      <td>сотрудник</td>\n",
       "      <td>0</td>\n",
       "      <td>135823</td>\n",
       "      <td>образование</td>\n",
       "      <td>образование</td>\n",
       "      <td>высокий уровень дохода</td>\n",
       "    </tr>\n",
       "    <tr>\n",
       "      <td>8</td>\n",
       "      <td>2</td>\n",
       "      <td>6929</td>\n",
       "      <td>35</td>\n",
       "      <td>высшее</td>\n",
       "      <td>0</td>\n",
       "      <td>гражданский брак</td>\n",
       "      <td>1</td>\n",
       "      <td>F</td>\n",
       "      <td>сотрудник</td>\n",
       "      <td>0</td>\n",
       "      <td>95856</td>\n",
       "      <td>на проведение свадьбы</td>\n",
       "      <td>бракосочетание</td>\n",
       "      <td>высокий уровень дохода</td>\n",
       "    </tr>\n",
       "    <tr>\n",
       "      <td>9</td>\n",
       "      <td>0</td>\n",
       "      <td>2188</td>\n",
       "      <td>41</td>\n",
       "      <td>среднее</td>\n",
       "      <td>1</td>\n",
       "      <td>женат / замужем</td>\n",
       "      <td>0</td>\n",
       "      <td>M</td>\n",
       "      <td>сотрудник</td>\n",
       "      <td>0</td>\n",
       "      <td>144425</td>\n",
       "      <td>покупка жилья для семьи</td>\n",
       "      <td>недвижимость</td>\n",
       "      <td>высокий уровень дохода</td>\n",
       "    </tr>\n",
       "  </tbody>\n",
       "</table>\n",
       "</div>"
      ],
      "text/plain": [
       "   children  days_employed  dob_years education  education_id  \\\n",
       "0         1           8437         42    высшее             0   \n",
       "1         1           4024         36   среднее             1   \n",
       "2         0           5623         33   среднее             1   \n",
       "3         3           4124         32   среднее             1   \n",
       "4         0         340266         53   среднее             1   \n",
       "5         0            926         27    высшее             0   \n",
       "6         0           2879         43    высшее             0   \n",
       "7         0            152         50   среднее             1   \n",
       "8         2           6929         35    высшее             0   \n",
       "9         0           2188         41   среднее             1   \n",
       "\n",
       "      family_status  family_status_id gender income_type  debt  total_income  \\\n",
       "0   женат / замужем                 0      F   сотрудник     0        253875   \n",
       "1   женат / замужем                 0      F   сотрудник     0        112080   \n",
       "2   женат / замужем                 0      M   сотрудник     0        145885   \n",
       "3   женат / замужем                 0      M   сотрудник     0        267628   \n",
       "4  гражданский брак                 1      F   пенсионер     0        158616   \n",
       "5  гражданский брак                 1      M   компаньон     0        255763   \n",
       "6   женат / замужем                 0      F   компаньон     0        240525   \n",
       "7   женат / замужем                 0      M   сотрудник     0        135823   \n",
       "8  гражданский брак                 1      F   сотрудник     0         95856   \n",
       "9   женат / замужем                 0      M   сотрудник     0        144425   \n",
       "\n",
       "                      purpose       purpose_category           income_status  \n",
       "0               покупка жилья           недвижимость  высокий уровень дохода  \n",
       "1     приобретение автомобиля  транспортные средства  высокий уровень дохода  \n",
       "2               покупка жилья           недвижимость  высокий уровень дохода  \n",
       "3  дополнительное образование            образование  высокий уровень дохода  \n",
       "4             сыграть свадьбу         бракосочетание  высокий уровень дохода  \n",
       "5               покупка жилья           недвижимость  высокий уровень дохода  \n",
       "6           операции с жильем           недвижимость  высокий уровень дохода  \n",
       "7                 образование            образование  высокий уровень дохода  \n",
       "8       на проведение свадьбы         бракосочетание  высокий уровень дохода  \n",
       "9     покупка жилья для семьи           недвижимость  высокий уровень дохода  "
      ]
     },
     "execution_count": 32,
     "metadata": {},
     "output_type": "execute_result"
    }
   ],
   "source": [
    "df['income_status'] = df.apply(income_status, axis=1)\n",
    "df.head(10)"
   ]
  },
  {
   "cell_type": "markdown",
   "metadata": {},
   "source": [
    "Проверим данные и выведем предварительную статистику."
   ]
  },
  {
   "cell_type": "code",
   "execution_count": 33,
   "metadata": {},
   "outputs": [
    {
     "data": {
      "text/plain": [
       "высокий уровень дохода    19832\n",
       "средний уровень дохода      833\n",
       "низкий уровень дохода       806\n",
       "Name: income_status, dtype: int64"
      ]
     },
     "execution_count": 33,
     "metadata": {},
     "output_type": "execute_result"
    }
   ],
   "source": [
    "df['income_status'].value_counts()"
   ]
  },
  {
   "cell_type": "markdown",
   "metadata": {},
   "source": [
    "**Вывод**"
   ]
  },
  {
   "cell_type": "markdown",
   "metadata": {},
   "source": [
    "92% клиентов обладают высокий уровнем дохода."
   ]
  },
  {
   "cell_type": "markdown",
   "metadata": {},
   "source": [
    "**Выделяем категории с наличием детей в значениях столбца с количеством детей в семье - ```children```.**"
   ]
  },
  {
   "cell_type": "code",
   "execution_count": 35,
   "metadata": {
    "scrolled": true
   },
   "outputs": [],
   "source": [
    "def children_status(total):\n",
    "    \"\"\"функция для каегоризации\"\"\"\n",
    "    if total['children'] > 0:\n",
    "        return 'есть дети'\n",
    "    return 'нет детей'"
   ]
  },
  {
   "cell_type": "code",
   "execution_count": 36,
   "metadata": {},
   "outputs": [
    {
     "data": {
      "text/html": [
       "<div>\n",
       "<style scoped>\n",
       "    .dataframe tbody tr th:only-of-type {\n",
       "        vertical-align: middle;\n",
       "    }\n",
       "\n",
       "    .dataframe tbody tr th {\n",
       "        vertical-align: top;\n",
       "    }\n",
       "\n",
       "    .dataframe thead th {\n",
       "        text-align: right;\n",
       "    }\n",
       "</style>\n",
       "<table border=\"1\" class=\"dataframe\">\n",
       "  <thead>\n",
       "    <tr style=\"text-align: right;\">\n",
       "      <th></th>\n",
       "      <th>children</th>\n",
       "      <th>days_employed</th>\n",
       "      <th>dob_years</th>\n",
       "      <th>education</th>\n",
       "      <th>education_id</th>\n",
       "      <th>family_status</th>\n",
       "      <th>family_status_id</th>\n",
       "      <th>gender</th>\n",
       "      <th>income_type</th>\n",
       "      <th>debt</th>\n",
       "      <th>total_income</th>\n",
       "      <th>purpose</th>\n",
       "      <th>purpose_category</th>\n",
       "      <th>income_status</th>\n",
       "      <th>children_status</th>\n",
       "    </tr>\n",
       "  </thead>\n",
       "  <tbody>\n",
       "    <tr>\n",
       "      <td>0</td>\n",
       "      <td>1</td>\n",
       "      <td>8437</td>\n",
       "      <td>42</td>\n",
       "      <td>высшее</td>\n",
       "      <td>0</td>\n",
       "      <td>женат / замужем</td>\n",
       "      <td>0</td>\n",
       "      <td>F</td>\n",
       "      <td>сотрудник</td>\n",
       "      <td>0</td>\n",
       "      <td>253875</td>\n",
       "      <td>покупка жилья</td>\n",
       "      <td>недвижимость</td>\n",
       "      <td>высокий уровень дохода</td>\n",
       "      <td>есть дети</td>\n",
       "    </tr>\n",
       "    <tr>\n",
       "      <td>1</td>\n",
       "      <td>1</td>\n",
       "      <td>4024</td>\n",
       "      <td>36</td>\n",
       "      <td>среднее</td>\n",
       "      <td>1</td>\n",
       "      <td>женат / замужем</td>\n",
       "      <td>0</td>\n",
       "      <td>F</td>\n",
       "      <td>сотрудник</td>\n",
       "      <td>0</td>\n",
       "      <td>112080</td>\n",
       "      <td>приобретение автомобиля</td>\n",
       "      <td>транспортные средства</td>\n",
       "      <td>высокий уровень дохода</td>\n",
       "      <td>есть дети</td>\n",
       "    </tr>\n",
       "    <tr>\n",
       "      <td>2</td>\n",
       "      <td>0</td>\n",
       "      <td>5623</td>\n",
       "      <td>33</td>\n",
       "      <td>среднее</td>\n",
       "      <td>1</td>\n",
       "      <td>женат / замужем</td>\n",
       "      <td>0</td>\n",
       "      <td>M</td>\n",
       "      <td>сотрудник</td>\n",
       "      <td>0</td>\n",
       "      <td>145885</td>\n",
       "      <td>покупка жилья</td>\n",
       "      <td>недвижимость</td>\n",
       "      <td>высокий уровень дохода</td>\n",
       "      <td>нет детей</td>\n",
       "    </tr>\n",
       "    <tr>\n",
       "      <td>3</td>\n",
       "      <td>3</td>\n",
       "      <td>4124</td>\n",
       "      <td>32</td>\n",
       "      <td>среднее</td>\n",
       "      <td>1</td>\n",
       "      <td>женат / замужем</td>\n",
       "      <td>0</td>\n",
       "      <td>M</td>\n",
       "      <td>сотрудник</td>\n",
       "      <td>0</td>\n",
       "      <td>267628</td>\n",
       "      <td>дополнительное образование</td>\n",
       "      <td>образование</td>\n",
       "      <td>высокий уровень дохода</td>\n",
       "      <td>есть дети</td>\n",
       "    </tr>\n",
       "    <tr>\n",
       "      <td>4</td>\n",
       "      <td>0</td>\n",
       "      <td>340266</td>\n",
       "      <td>53</td>\n",
       "      <td>среднее</td>\n",
       "      <td>1</td>\n",
       "      <td>гражданский брак</td>\n",
       "      <td>1</td>\n",
       "      <td>F</td>\n",
       "      <td>пенсионер</td>\n",
       "      <td>0</td>\n",
       "      <td>158616</td>\n",
       "      <td>сыграть свадьбу</td>\n",
       "      <td>бракосочетание</td>\n",
       "      <td>высокий уровень дохода</td>\n",
       "      <td>нет детей</td>\n",
       "    </tr>\n",
       "    <tr>\n",
       "      <td>5</td>\n",
       "      <td>0</td>\n",
       "      <td>926</td>\n",
       "      <td>27</td>\n",
       "      <td>высшее</td>\n",
       "      <td>0</td>\n",
       "      <td>гражданский брак</td>\n",
       "      <td>1</td>\n",
       "      <td>M</td>\n",
       "      <td>компаньон</td>\n",
       "      <td>0</td>\n",
       "      <td>255763</td>\n",
       "      <td>покупка жилья</td>\n",
       "      <td>недвижимость</td>\n",
       "      <td>высокий уровень дохода</td>\n",
       "      <td>нет детей</td>\n",
       "    </tr>\n",
       "    <tr>\n",
       "      <td>6</td>\n",
       "      <td>0</td>\n",
       "      <td>2879</td>\n",
       "      <td>43</td>\n",
       "      <td>высшее</td>\n",
       "      <td>0</td>\n",
       "      <td>женат / замужем</td>\n",
       "      <td>0</td>\n",
       "      <td>F</td>\n",
       "      <td>компаньон</td>\n",
       "      <td>0</td>\n",
       "      <td>240525</td>\n",
       "      <td>операции с жильем</td>\n",
       "      <td>недвижимость</td>\n",
       "      <td>высокий уровень дохода</td>\n",
       "      <td>нет детей</td>\n",
       "    </tr>\n",
       "    <tr>\n",
       "      <td>7</td>\n",
       "      <td>0</td>\n",
       "      <td>152</td>\n",
       "      <td>50</td>\n",
       "      <td>среднее</td>\n",
       "      <td>1</td>\n",
       "      <td>женат / замужем</td>\n",
       "      <td>0</td>\n",
       "      <td>M</td>\n",
       "      <td>сотрудник</td>\n",
       "      <td>0</td>\n",
       "      <td>135823</td>\n",
       "      <td>образование</td>\n",
       "      <td>образование</td>\n",
       "      <td>высокий уровень дохода</td>\n",
       "      <td>нет детей</td>\n",
       "    </tr>\n",
       "    <tr>\n",
       "      <td>8</td>\n",
       "      <td>2</td>\n",
       "      <td>6929</td>\n",
       "      <td>35</td>\n",
       "      <td>высшее</td>\n",
       "      <td>0</td>\n",
       "      <td>гражданский брак</td>\n",
       "      <td>1</td>\n",
       "      <td>F</td>\n",
       "      <td>сотрудник</td>\n",
       "      <td>0</td>\n",
       "      <td>95856</td>\n",
       "      <td>на проведение свадьбы</td>\n",
       "      <td>бракосочетание</td>\n",
       "      <td>высокий уровень дохода</td>\n",
       "      <td>есть дети</td>\n",
       "    </tr>\n",
       "    <tr>\n",
       "      <td>9</td>\n",
       "      <td>0</td>\n",
       "      <td>2188</td>\n",
       "      <td>41</td>\n",
       "      <td>среднее</td>\n",
       "      <td>1</td>\n",
       "      <td>женат / замужем</td>\n",
       "      <td>0</td>\n",
       "      <td>M</td>\n",
       "      <td>сотрудник</td>\n",
       "      <td>0</td>\n",
       "      <td>144425</td>\n",
       "      <td>покупка жилья для семьи</td>\n",
       "      <td>недвижимость</td>\n",
       "      <td>высокий уровень дохода</td>\n",
       "      <td>нет детей</td>\n",
       "    </tr>\n",
       "  </tbody>\n",
       "</table>\n",
       "</div>"
      ],
      "text/plain": [
       "   children  days_employed  dob_years education  education_id  \\\n",
       "0         1           8437         42    высшее             0   \n",
       "1         1           4024         36   среднее             1   \n",
       "2         0           5623         33   среднее             1   \n",
       "3         3           4124         32   среднее             1   \n",
       "4         0         340266         53   среднее             1   \n",
       "5         0            926         27    высшее             0   \n",
       "6         0           2879         43    высшее             0   \n",
       "7         0            152         50   среднее             1   \n",
       "8         2           6929         35    высшее             0   \n",
       "9         0           2188         41   среднее             1   \n",
       "\n",
       "      family_status  family_status_id gender income_type  debt  total_income  \\\n",
       "0   женат / замужем                 0      F   сотрудник     0        253875   \n",
       "1   женат / замужем                 0      F   сотрудник     0        112080   \n",
       "2   женат / замужем                 0      M   сотрудник     0        145885   \n",
       "3   женат / замужем                 0      M   сотрудник     0        267628   \n",
       "4  гражданский брак                 1      F   пенсионер     0        158616   \n",
       "5  гражданский брак                 1      M   компаньон     0        255763   \n",
       "6   женат / замужем                 0      F   компаньон     0        240525   \n",
       "7   женат / замужем                 0      M   сотрудник     0        135823   \n",
       "8  гражданский брак                 1      F   сотрудник     0         95856   \n",
       "9   женат / замужем                 0      M   сотрудник     0        144425   \n",
       "\n",
       "                      purpose       purpose_category           income_status  \\\n",
       "0               покупка жилья           недвижимость  высокий уровень дохода   \n",
       "1     приобретение автомобиля  транспортные средства  высокий уровень дохода   \n",
       "2               покупка жилья           недвижимость  высокий уровень дохода   \n",
       "3  дополнительное образование            образование  высокий уровень дохода   \n",
       "4             сыграть свадьбу         бракосочетание  высокий уровень дохода   \n",
       "5               покупка жилья           недвижимость  высокий уровень дохода   \n",
       "6           операции с жильем           недвижимость  высокий уровень дохода   \n",
       "7                 образование            образование  высокий уровень дохода   \n",
       "8       на проведение свадьбы         бракосочетание  высокий уровень дохода   \n",
       "9     покупка жилья для семьи           недвижимость  высокий уровень дохода   \n",
       "\n",
       "  children_status  \n",
       "0       есть дети  \n",
       "1       есть дети  \n",
       "2       нет детей  \n",
       "3       есть дети  \n",
       "4       нет детей  \n",
       "5       нет детей  \n",
       "6       нет детей  \n",
       "7       нет детей  \n",
       "8       есть дети  \n",
       "9       нет детей  "
      ]
     },
     "execution_count": 36,
     "metadata": {},
     "output_type": "execute_result"
    }
   ],
   "source": [
    "df['children_status'] = df.apply(children_status, axis=1)\n",
    "df.head(10)"
   ]
  },
  {
   "cell_type": "markdown",
   "metadata": {},
   "source": [
    "Проверим данные и выведем предварительную статистику."
   ]
  },
  {
   "cell_type": "code",
   "execution_count": 37,
   "metadata": {},
   "outputs": [
    {
     "data": {
      "text/plain": [
       "нет детей    14183\n",
       "есть дети     7288\n",
       "Name: children_status, dtype: int64"
      ]
     },
     "execution_count": 37,
     "metadata": {},
     "output_type": "execute_result"
    }
   ],
   "source": [
    "df['children_status'].value_counts()"
   ]
  },
  {
   "cell_type": "markdown",
   "metadata": {},
   "source": [
    "**Вывод**"
   ]
  },
  {
   "cell_type": "markdown",
   "metadata": {},
   "source": [
    "Почти 66% клиентов без наличия детей."
   ]
  },
  {
   "cell_type": "markdown",
   "metadata": {},
   "source": [
    "**Выделяем категории с наличием задолжности по возврату кредита в значениях столбца - ```debt```.**"
   ]
  },
  {
   "cell_type": "code",
   "execution_count": 38,
   "metadata": {},
   "outputs": [],
   "source": [
    "def debt_status(total):\n",
    "    \"\"\"функция для каегоризации\"\"\"\n",
    "    if total['debt'] == 0:\n",
    "        return 'задолжностей не имеется'\n",
    "    return 'наличие задолжности'"
   ]
  },
  {
   "cell_type": "code",
   "execution_count": 39,
   "metadata": {},
   "outputs": [
    {
     "data": {
      "text/html": [
       "<div>\n",
       "<style scoped>\n",
       "    .dataframe tbody tr th:only-of-type {\n",
       "        vertical-align: middle;\n",
       "    }\n",
       "\n",
       "    .dataframe tbody tr th {\n",
       "        vertical-align: top;\n",
       "    }\n",
       "\n",
       "    .dataframe thead th {\n",
       "        text-align: right;\n",
       "    }\n",
       "</style>\n",
       "<table border=\"1\" class=\"dataframe\">\n",
       "  <thead>\n",
       "    <tr style=\"text-align: right;\">\n",
       "      <th></th>\n",
       "      <th>children</th>\n",
       "      <th>days_employed</th>\n",
       "      <th>dob_years</th>\n",
       "      <th>education</th>\n",
       "      <th>education_id</th>\n",
       "      <th>family_status</th>\n",
       "      <th>family_status_id</th>\n",
       "      <th>gender</th>\n",
       "      <th>income_type</th>\n",
       "      <th>debt</th>\n",
       "      <th>total_income</th>\n",
       "      <th>purpose</th>\n",
       "      <th>purpose_category</th>\n",
       "      <th>income_status</th>\n",
       "      <th>children_status</th>\n",
       "      <th>debt_status</th>\n",
       "    </tr>\n",
       "  </thead>\n",
       "  <tbody>\n",
       "    <tr>\n",
       "      <td>0</td>\n",
       "      <td>1</td>\n",
       "      <td>8437</td>\n",
       "      <td>42</td>\n",
       "      <td>высшее</td>\n",
       "      <td>0</td>\n",
       "      <td>женат / замужем</td>\n",
       "      <td>0</td>\n",
       "      <td>F</td>\n",
       "      <td>сотрудник</td>\n",
       "      <td>0</td>\n",
       "      <td>253875</td>\n",
       "      <td>покупка жилья</td>\n",
       "      <td>недвижимость</td>\n",
       "      <td>высокий уровень дохода</td>\n",
       "      <td>есть дети</td>\n",
       "      <td>задолжностей не имеется</td>\n",
       "    </tr>\n",
       "    <tr>\n",
       "      <td>1</td>\n",
       "      <td>1</td>\n",
       "      <td>4024</td>\n",
       "      <td>36</td>\n",
       "      <td>среднее</td>\n",
       "      <td>1</td>\n",
       "      <td>женат / замужем</td>\n",
       "      <td>0</td>\n",
       "      <td>F</td>\n",
       "      <td>сотрудник</td>\n",
       "      <td>0</td>\n",
       "      <td>112080</td>\n",
       "      <td>приобретение автомобиля</td>\n",
       "      <td>транспортные средства</td>\n",
       "      <td>высокий уровень дохода</td>\n",
       "      <td>есть дети</td>\n",
       "      <td>задолжностей не имеется</td>\n",
       "    </tr>\n",
       "    <tr>\n",
       "      <td>2</td>\n",
       "      <td>0</td>\n",
       "      <td>5623</td>\n",
       "      <td>33</td>\n",
       "      <td>среднее</td>\n",
       "      <td>1</td>\n",
       "      <td>женат / замужем</td>\n",
       "      <td>0</td>\n",
       "      <td>M</td>\n",
       "      <td>сотрудник</td>\n",
       "      <td>0</td>\n",
       "      <td>145885</td>\n",
       "      <td>покупка жилья</td>\n",
       "      <td>недвижимость</td>\n",
       "      <td>высокий уровень дохода</td>\n",
       "      <td>нет детей</td>\n",
       "      <td>задолжностей не имеется</td>\n",
       "    </tr>\n",
       "    <tr>\n",
       "      <td>3</td>\n",
       "      <td>3</td>\n",
       "      <td>4124</td>\n",
       "      <td>32</td>\n",
       "      <td>среднее</td>\n",
       "      <td>1</td>\n",
       "      <td>женат / замужем</td>\n",
       "      <td>0</td>\n",
       "      <td>M</td>\n",
       "      <td>сотрудник</td>\n",
       "      <td>0</td>\n",
       "      <td>267628</td>\n",
       "      <td>дополнительное образование</td>\n",
       "      <td>образование</td>\n",
       "      <td>высокий уровень дохода</td>\n",
       "      <td>есть дети</td>\n",
       "      <td>задолжностей не имеется</td>\n",
       "    </tr>\n",
       "    <tr>\n",
       "      <td>4</td>\n",
       "      <td>0</td>\n",
       "      <td>340266</td>\n",
       "      <td>53</td>\n",
       "      <td>среднее</td>\n",
       "      <td>1</td>\n",
       "      <td>гражданский брак</td>\n",
       "      <td>1</td>\n",
       "      <td>F</td>\n",
       "      <td>пенсионер</td>\n",
       "      <td>0</td>\n",
       "      <td>158616</td>\n",
       "      <td>сыграть свадьбу</td>\n",
       "      <td>бракосочетание</td>\n",
       "      <td>высокий уровень дохода</td>\n",
       "      <td>нет детей</td>\n",
       "      <td>задолжностей не имеется</td>\n",
       "    </tr>\n",
       "    <tr>\n",
       "      <td>5</td>\n",
       "      <td>0</td>\n",
       "      <td>926</td>\n",
       "      <td>27</td>\n",
       "      <td>высшее</td>\n",
       "      <td>0</td>\n",
       "      <td>гражданский брак</td>\n",
       "      <td>1</td>\n",
       "      <td>M</td>\n",
       "      <td>компаньон</td>\n",
       "      <td>0</td>\n",
       "      <td>255763</td>\n",
       "      <td>покупка жилья</td>\n",
       "      <td>недвижимость</td>\n",
       "      <td>высокий уровень дохода</td>\n",
       "      <td>нет детей</td>\n",
       "      <td>задолжностей не имеется</td>\n",
       "    </tr>\n",
       "    <tr>\n",
       "      <td>6</td>\n",
       "      <td>0</td>\n",
       "      <td>2879</td>\n",
       "      <td>43</td>\n",
       "      <td>высшее</td>\n",
       "      <td>0</td>\n",
       "      <td>женат / замужем</td>\n",
       "      <td>0</td>\n",
       "      <td>F</td>\n",
       "      <td>компаньон</td>\n",
       "      <td>0</td>\n",
       "      <td>240525</td>\n",
       "      <td>операции с жильем</td>\n",
       "      <td>недвижимость</td>\n",
       "      <td>высокий уровень дохода</td>\n",
       "      <td>нет детей</td>\n",
       "      <td>задолжностей не имеется</td>\n",
       "    </tr>\n",
       "    <tr>\n",
       "      <td>7</td>\n",
       "      <td>0</td>\n",
       "      <td>152</td>\n",
       "      <td>50</td>\n",
       "      <td>среднее</td>\n",
       "      <td>1</td>\n",
       "      <td>женат / замужем</td>\n",
       "      <td>0</td>\n",
       "      <td>M</td>\n",
       "      <td>сотрудник</td>\n",
       "      <td>0</td>\n",
       "      <td>135823</td>\n",
       "      <td>образование</td>\n",
       "      <td>образование</td>\n",
       "      <td>высокий уровень дохода</td>\n",
       "      <td>нет детей</td>\n",
       "      <td>задолжностей не имеется</td>\n",
       "    </tr>\n",
       "    <tr>\n",
       "      <td>8</td>\n",
       "      <td>2</td>\n",
       "      <td>6929</td>\n",
       "      <td>35</td>\n",
       "      <td>высшее</td>\n",
       "      <td>0</td>\n",
       "      <td>гражданский брак</td>\n",
       "      <td>1</td>\n",
       "      <td>F</td>\n",
       "      <td>сотрудник</td>\n",
       "      <td>0</td>\n",
       "      <td>95856</td>\n",
       "      <td>на проведение свадьбы</td>\n",
       "      <td>бракосочетание</td>\n",
       "      <td>высокий уровень дохода</td>\n",
       "      <td>есть дети</td>\n",
       "      <td>задолжностей не имеется</td>\n",
       "    </tr>\n",
       "    <tr>\n",
       "      <td>9</td>\n",
       "      <td>0</td>\n",
       "      <td>2188</td>\n",
       "      <td>41</td>\n",
       "      <td>среднее</td>\n",
       "      <td>1</td>\n",
       "      <td>женат / замужем</td>\n",
       "      <td>0</td>\n",
       "      <td>M</td>\n",
       "      <td>сотрудник</td>\n",
       "      <td>0</td>\n",
       "      <td>144425</td>\n",
       "      <td>покупка жилья для семьи</td>\n",
       "      <td>недвижимость</td>\n",
       "      <td>высокий уровень дохода</td>\n",
       "      <td>нет детей</td>\n",
       "      <td>задолжностей не имеется</td>\n",
       "    </tr>\n",
       "  </tbody>\n",
       "</table>\n",
       "</div>"
      ],
      "text/plain": [
       "   children  days_employed  dob_years education  education_id  \\\n",
       "0         1           8437         42    высшее             0   \n",
       "1         1           4024         36   среднее             1   \n",
       "2         0           5623         33   среднее             1   \n",
       "3         3           4124         32   среднее             1   \n",
       "4         0         340266         53   среднее             1   \n",
       "5         0            926         27    высшее             0   \n",
       "6         0           2879         43    высшее             0   \n",
       "7         0            152         50   среднее             1   \n",
       "8         2           6929         35    высшее             0   \n",
       "9         0           2188         41   среднее             1   \n",
       "\n",
       "      family_status  family_status_id gender income_type  debt  total_income  \\\n",
       "0   женат / замужем                 0      F   сотрудник     0        253875   \n",
       "1   женат / замужем                 0      F   сотрудник     0        112080   \n",
       "2   женат / замужем                 0      M   сотрудник     0        145885   \n",
       "3   женат / замужем                 0      M   сотрудник     0        267628   \n",
       "4  гражданский брак                 1      F   пенсионер     0        158616   \n",
       "5  гражданский брак                 1      M   компаньон     0        255763   \n",
       "6   женат / замужем                 0      F   компаньон     0        240525   \n",
       "7   женат / замужем                 0      M   сотрудник     0        135823   \n",
       "8  гражданский брак                 1      F   сотрудник     0         95856   \n",
       "9   женат / замужем                 0      M   сотрудник     0        144425   \n",
       "\n",
       "                      purpose       purpose_category           income_status  \\\n",
       "0               покупка жилья           недвижимость  высокий уровень дохода   \n",
       "1     приобретение автомобиля  транспортные средства  высокий уровень дохода   \n",
       "2               покупка жилья           недвижимость  высокий уровень дохода   \n",
       "3  дополнительное образование            образование  высокий уровень дохода   \n",
       "4             сыграть свадьбу         бракосочетание  высокий уровень дохода   \n",
       "5               покупка жилья           недвижимость  высокий уровень дохода   \n",
       "6           операции с жильем           недвижимость  высокий уровень дохода   \n",
       "7                 образование            образование  высокий уровень дохода   \n",
       "8       на проведение свадьбы         бракосочетание  высокий уровень дохода   \n",
       "9     покупка жилья для семьи           недвижимость  высокий уровень дохода   \n",
       "\n",
       "  children_status              debt_status  \n",
       "0       есть дети  задолжностей не имеется  \n",
       "1       есть дети  задолжностей не имеется  \n",
       "2       нет детей  задолжностей не имеется  \n",
       "3       есть дети  задолжностей не имеется  \n",
       "4       нет детей  задолжностей не имеется  \n",
       "5       нет детей  задолжностей не имеется  \n",
       "6       нет детей  задолжностей не имеется  \n",
       "7       нет детей  задолжностей не имеется  \n",
       "8       есть дети  задолжностей не имеется  \n",
       "9       нет детей  задолжностей не имеется  "
      ]
     },
     "execution_count": 39,
     "metadata": {},
     "output_type": "execute_result"
    }
   ],
   "source": [
    "df['debt_status'] = df.apply(debt_status, axis=1)\n",
    "df.head(10)"
   ]
  },
  {
   "cell_type": "markdown",
   "metadata": {},
   "source": [
    "Проверим данные и выведем предварительную статистику."
   ]
  },
  {
   "cell_type": "code",
   "execution_count": 40,
   "metadata": {},
   "outputs": [
    {
     "data": {
      "text/plain": [
       "задолжностей не имеется    19730\n",
       "наличие задолжности         1741\n",
       "Name: debt_status, dtype: int64"
      ]
     },
     "execution_count": 40,
     "metadata": {},
     "output_type": "execute_result"
    }
   ],
   "source": [
    "df['debt_status'].value_counts()"
   ]
  },
  {
   "cell_type": "markdown",
   "metadata": {},
   "source": [
    "**Вывод**"
   ]
  },
  {
   "cell_type": "markdown",
   "metadata": {},
   "source": [
    "8% от всех клиентов датасета имеют задолжности по кредиту."
   ]
  },
  {
   "cell_type": "markdown",
   "metadata": {},
   "source": [
    "## Шаг 3. Ответим на вопросы"
   ]
  },
  {
   "cell_type": "markdown",
   "metadata": {},
   "source": [
    "- Есть ли зависимость между наличием детей и возвратом кредита в срок?"
   ]
  },
  {
   "cell_type": "code",
   "execution_count": 41,
   "metadata": {},
   "outputs": [
    {
     "data": {
      "text/html": [
       "<div>\n",
       "<style scoped>\n",
       "    .dataframe tbody tr th:only-of-type {\n",
       "        vertical-align: middle;\n",
       "    }\n",
       "\n",
       "    .dataframe tbody tr th {\n",
       "        vertical-align: top;\n",
       "    }\n",
       "\n",
       "    .dataframe thead th {\n",
       "        text-align: right;\n",
       "    }\n",
       "</style>\n",
       "<table border=\"1\" class=\"dataframe\">\n",
       "  <thead>\n",
       "    <tr style=\"text-align: right;\">\n",
       "      <th>children_status</th>\n",
       "      <th>есть дети</th>\n",
       "      <th>нет детей</th>\n",
       "    </tr>\n",
       "    <tr>\n",
       "      <th>debt_status</th>\n",
       "      <th></th>\n",
       "      <th></th>\n",
       "    </tr>\n",
       "  </thead>\n",
       "  <tbody>\n",
       "    <tr>\n",
       "      <td>задолжностей не имеется</td>\n",
       "      <td>6618</td>\n",
       "      <td>13112</td>\n",
       "    </tr>\n",
       "    <tr>\n",
       "      <td>наличие задолжности</td>\n",
       "      <td>670</td>\n",
       "      <td>1071</td>\n",
       "    </tr>\n",
       "    <tr>\n",
       "      <td>доля</td>\n",
       "      <td>10%</td>\n",
       "      <td>8%</td>\n",
       "    </tr>\n",
       "  </tbody>\n",
       "</table>\n",
       "</div>"
      ],
      "text/plain": [
       "children_status         есть дети нет детей\n",
       "debt_status                                \n",
       "задолжностей не имеется      6618     13112\n",
       "наличие задолжности           670      1071\n",
       "доля                          10%        8%"
      ]
     },
     "metadata": {},
     "output_type": "display_data"
    }
   ],
   "source": [
    "pivot_children = df.pivot_table(index='debt_status',\n",
    "        columns=['children_status'],\n",
    "        values='debt',\n",
    "        aggfunc='count')\n",
    "fmt = '{:.0%}'.format\n",
    "pivot_children.loc['доля'] = (pivot_children.iloc[1] / pivot_children.iloc[0]).map(fmt)\n",
    "display(pivot_children)"
   ]
  },
  {
   "cell_type": "markdown",
   "metadata": {},
   "source": [
    "**Вывод**"
   ]
  },
  {
   "cell_type": "markdown",
   "metadata": {},
   "source": [
    "У категории клиентов со статусом ```нет детей``` доля задолжности ниже, следовательно отсутствие детей влияет положительно на возврат кредита в срок и имеется зависимость."
   ]
  },
  {
   "cell_type": "markdown",
   "metadata": {},
   "source": [
    "- Есть ли зависимость между семейным положением и возвратом кредита в срок?"
   ]
  },
  {
   "cell_type": "code",
   "execution_count": 42,
   "metadata": {},
   "outputs": [
    {
     "data": {
      "text/html": [
       "<div>\n",
       "<style scoped>\n",
       "    .dataframe tbody tr th:only-of-type {\n",
       "        vertical-align: middle;\n",
       "    }\n",
       "\n",
       "    .dataframe tbody tr th {\n",
       "        vertical-align: top;\n",
       "    }\n",
       "\n",
       "    .dataframe thead th {\n",
       "        text-align: right;\n",
       "    }\n",
       "</style>\n",
       "<table border=\"1\" class=\"dataframe\">\n",
       "  <thead>\n",
       "    <tr style=\"text-align: right;\">\n",
       "      <th>family_status</th>\n",
       "      <th>Не женат / не замужем</th>\n",
       "      <th>в разводе</th>\n",
       "      <th>вдовец / вдова</th>\n",
       "      <th>гражданский брак</th>\n",
       "      <th>женат / замужем</th>\n",
       "    </tr>\n",
       "    <tr>\n",
       "      <th>debt_status</th>\n",
       "      <th></th>\n",
       "      <th></th>\n",
       "      <th></th>\n",
       "      <th></th>\n",
       "      <th></th>\n",
       "    </tr>\n",
       "  </thead>\n",
       "  <tbody>\n",
       "    <tr>\n",
       "      <td>задолжностей не имеется</td>\n",
       "      <td>2536</td>\n",
       "      <td>1110</td>\n",
       "      <td>896</td>\n",
       "      <td>3775</td>\n",
       "      <td>11413</td>\n",
       "    </tr>\n",
       "    <tr>\n",
       "      <td>наличие задолжности</td>\n",
       "      <td>274</td>\n",
       "      <td>85</td>\n",
       "      <td>63</td>\n",
       "      <td>388</td>\n",
       "      <td>931</td>\n",
       "    </tr>\n",
       "    <tr>\n",
       "      <td>доля</td>\n",
       "      <td>11%</td>\n",
       "      <td>8%</td>\n",
       "      <td>7%</td>\n",
       "      <td>10%</td>\n",
       "      <td>8%</td>\n",
       "    </tr>\n",
       "  </tbody>\n",
       "</table>\n",
       "</div>"
      ],
      "text/plain": [
       "family_status           Не женат / не замужем в разводе вдовец / вдова  \\\n",
       "debt_status                                                              \n",
       "задолжностей не имеется                  2536      1110            896   \n",
       "наличие задолжности                       274        85             63   \n",
       "доля                                      11%        8%             7%   \n",
       "\n",
       "family_status           гражданский брак женат / замужем  \n",
       "debt_status                                               \n",
       "задолжностей не имеется             3775           11413  \n",
       "наличие задолжности                  388             931  \n",
       "доля                                 10%              8%  "
      ]
     },
     "metadata": {},
     "output_type": "display_data"
    }
   ],
   "source": [
    "pivot_children = df.pivot_table(index='debt_status',\n",
    "        columns=['family_status'],\n",
    "        values='debt',\n",
    "        aggfunc='count')\n",
    "fmt = '{:.0%}'.format\n",
    "pivot_children.loc['доля'] = (pivot_children.iloc[1] / pivot_children.iloc[0]).map(fmt)\n",
    "display(pivot_children)"
   ]
  },
  {
   "cell_type": "markdown",
   "metadata": {},
   "source": [
    "**Вывод**"
   ]
  },
  {
   "cell_type": "markdown",
   "metadata": {},
   "source": [
    "Категория клиетов со статусом семейного положения (далее с/п) ```Не женат / не замужем``` имеет наивысшую долю относительно задолжности. На втором месте категория клиентов со статусом с/п ```гражданский брак```, что фактически также является статусом ```Не женат / не замужем```. Следовательно статус с/п также влияет на возврат кредита в срок - имеется зависимость."
   ]
  },
  {
   "cell_type": "markdown",
   "metadata": {},
   "source": [
    "- Есть ли зависимость между уровнем дохода и возвратом кредита в срок?"
   ]
  },
  {
   "cell_type": "code",
   "execution_count": 43,
   "metadata": {},
   "outputs": [
    {
     "data": {
      "text/html": [
       "<div>\n",
       "<style scoped>\n",
       "    .dataframe tbody tr th:only-of-type {\n",
       "        vertical-align: middle;\n",
       "    }\n",
       "\n",
       "    .dataframe tbody tr th {\n",
       "        vertical-align: top;\n",
       "    }\n",
       "\n",
       "    .dataframe thead th {\n",
       "        text-align: right;\n",
       "    }\n",
       "</style>\n",
       "<table border=\"1\" class=\"dataframe\">\n",
       "  <thead>\n",
       "    <tr style=\"text-align: right;\">\n",
       "      <th>income_status</th>\n",
       "      <th>высокий уровень дохода</th>\n",
       "      <th>низкий уровень дохода</th>\n",
       "      <th>средний уровень дохода</th>\n",
       "    </tr>\n",
       "    <tr>\n",
       "      <th>debt_status</th>\n",
       "      <th></th>\n",
       "      <th></th>\n",
       "      <th></th>\n",
       "    </tr>\n",
       "  </thead>\n",
       "  <tbody>\n",
       "    <tr>\n",
       "      <td>задолжностей не имеется</td>\n",
       "      <td>18203</td>\n",
       "      <td>757</td>\n",
       "      <td>770</td>\n",
       "    </tr>\n",
       "    <tr>\n",
       "      <td>наличие задолжности</td>\n",
       "      <td>1629</td>\n",
       "      <td>49</td>\n",
       "      <td>63</td>\n",
       "    </tr>\n",
       "    <tr>\n",
       "      <td>доля</td>\n",
       "      <td>9%</td>\n",
       "      <td>6%</td>\n",
       "      <td>8%</td>\n",
       "    </tr>\n",
       "  </tbody>\n",
       "</table>\n",
       "</div>"
      ],
      "text/plain": [
       "income_status           высокий уровень дохода низкий уровень дохода  \\\n",
       "debt_status                                                            \n",
       "задолжностей не имеется                  18203                   757   \n",
       "наличие задолжности                       1629                    49   \n",
       "доля                                        9%                    6%   \n",
       "\n",
       "income_status           средний уровень дохода  \n",
       "debt_status                                     \n",
       "задолжностей не имеется                    770  \n",
       "наличие задолжности                         63  \n",
       "доля                                        8%  "
      ]
     },
     "metadata": {},
     "output_type": "display_data"
    }
   ],
   "source": [
    "pivot_children = df.pivot_table(index='debt_status',\n",
    "        columns=['income_status'],\n",
    "        values='debt',\n",
    "        aggfunc='count')\n",
    "fmt = '{:.0%}'.format\n",
    "pivot_children.loc['доля'] = (pivot_children.iloc[1] / pivot_children.iloc[0]).map(fmt)\n",
    "display(pivot_children)"
   ]
  },
  {
   "cell_type": "markdown",
   "metadata": {},
   "source": [
    "**Вывод**"
   ]
  },
  {
   "cell_type": "markdown",
   "metadata": {},
   "source": [
    "Категория клиентов с высоким уровнем дохада имеет наибольшую долю отностительно задолжности - зависимость очевидна, но данные требуют более детального изучения - допустим если бы мы знали за какой период собраны данные, например 2020 год - то вероятнее всего на задолжность повлияло потеря основного дохода."
   ]
  },
  {
   "cell_type": "markdown",
   "metadata": {},
   "source": [
    "- Как разные цели кредита влияют на его возврат в срок?"
   ]
  },
  {
   "cell_type": "code",
   "execution_count": 44,
   "metadata": {},
   "outputs": [
    {
     "data": {
      "text/html": [
       "<div>\n",
       "<style scoped>\n",
       "    .dataframe tbody tr th:only-of-type {\n",
       "        vertical-align: middle;\n",
       "    }\n",
       "\n",
       "    .dataframe tbody tr th {\n",
       "        vertical-align: top;\n",
       "    }\n",
       "\n",
       "    .dataframe thead th {\n",
       "        text-align: right;\n",
       "    }\n",
       "</style>\n",
       "<table border=\"1\" class=\"dataframe\">\n",
       "  <thead>\n",
       "    <tr style=\"text-align: right;\">\n",
       "      <th>purpose_category</th>\n",
       "      <th>бракосочетание</th>\n",
       "      <th>недвижимость</th>\n",
       "      <th>образование</th>\n",
       "      <th>транспортные средства</th>\n",
       "    </tr>\n",
       "    <tr>\n",
       "      <th>debt_status</th>\n",
       "      <th></th>\n",
       "      <th></th>\n",
       "      <th></th>\n",
       "      <th></th>\n",
       "    </tr>\n",
       "  </thead>\n",
       "  <tbody>\n",
       "    <tr>\n",
       "      <td>задолжностей не имеется</td>\n",
       "      <td>2149</td>\n",
       "      <td>10032</td>\n",
       "      <td>3644</td>\n",
       "      <td>3905</td>\n",
       "    </tr>\n",
       "    <tr>\n",
       "      <td>наличие задолжности</td>\n",
       "      <td>186</td>\n",
       "      <td>782</td>\n",
       "      <td>370</td>\n",
       "      <td>403</td>\n",
       "    </tr>\n",
       "    <tr>\n",
       "      <td>доля</td>\n",
       "      <td>9%</td>\n",
       "      <td>8%</td>\n",
       "      <td>10%</td>\n",
       "      <td>10%</td>\n",
       "    </tr>\n",
       "  </tbody>\n",
       "</table>\n",
       "</div>"
      ],
      "text/plain": [
       "purpose_category        бракосочетание недвижимость образование  \\\n",
       "debt_status                                                       \n",
       "задолжностей не имеется           2149        10032        3644   \n",
       "наличие задолжности                186          782         370   \n",
       "доля                                9%           8%         10%   \n",
       "\n",
       "purpose_category        транспортные средства  \n",
       "debt_status                                    \n",
       "задолжностей не имеется                  3905  \n",
       "наличие задолжности                       403  \n",
       "доля                                      10%  "
      ]
     },
     "metadata": {},
     "output_type": "display_data"
    }
   ],
   "source": [
    "pivot_children = df.pivot_table(index='debt_status',\n",
    "        columns=['purpose_category'],\n",
    "        values='debt',\n",
    "        aggfunc='count')\n",
    "fmt = '{:.0%}'.format\n",
    "pivot_children.loc['доля'] = (pivot_children.iloc[1] / pivot_children.iloc[0]).map(fmt)\n",
    "display(pivot_children)"
   ]
  },
  {
   "cell_type": "markdown",
   "metadata": {},
   "source": [
    "**Вывод**"
   ]
  },
  {
   "cell_type": "markdown",
   "metadata": {},
   "source": [
    "Клиенты получившие кредитование на ```недвижимость``` и ```бракосочетание``` имееют наименьшую долю относительно его возврата в срок. "
   ]
  },
  {
   "cell_type": "markdown",
   "metadata": {},
   "source": [
    "## Шаг 4. Общий вывод"
   ]
  },
  {
   "cell_type": "markdown",
   "metadata": {},
   "source": [
    "* наличие детей в семье влияют на возврат кредита в срок;\n",
    "* статус с/п влияет на возврат кредита в срок;\n",
    "* уровень дохода влияет на возврат кредита в срок, но для структурированного и исчерпывающего ответа требуются дополнительные данные;\n",
    "* цели получения кредита влияет на возврат кредита в срок.\n"
   ]
  }
 ],
 "metadata": {
  "ExecuteTimeLog": [
   {
    "duration": 634,
    "start_time": "2022-01-16T11:12:33.326Z"
   },
   {
    "duration": 46,
    "start_time": "2022-01-16T11:12:37.554Z"
   },
   {
    "duration": 49,
    "start_time": "2022-01-16T11:12:57.896Z"
   },
   {
    "duration": 2,
    "start_time": "2022-01-16T11:13:03.127Z"
   },
   {
    "duration": 45,
    "start_time": "2022-01-16T11:13:03.912Z"
   },
   {
    "duration": 24,
    "start_time": "2022-01-16T11:13:19.749Z"
   },
   {
    "duration": 19,
    "start_time": "2022-01-16T11:18:54.542Z"
   },
   {
    "duration": 20,
    "start_time": "2022-01-16T11:24:10.187Z"
   },
   {
    "duration": 22,
    "start_time": "2022-01-16T11:25:32.301Z"
   },
   {
    "duration": 10,
    "start_time": "2022-01-16T11:25:48.779Z"
   },
   {
    "duration": 17,
    "start_time": "2022-01-16T11:31:22.905Z"
   },
   {
    "duration": 312,
    "start_time": "2022-01-16T11:50:35.018Z"
   },
   {
    "duration": -1006,
    "start_time": "2022-01-16T11:50:48.399Z"
   },
   {
    "duration": 6849,
    "start_time": "2022-01-16T11:50:48.481Z"
   },
   {
    "duration": 3,
    "start_time": "2022-01-16T11:51:05.649Z"
   },
   {
    "duration": 51,
    "start_time": "2022-01-16T11:51:05.961Z"
   },
   {
    "duration": 13,
    "start_time": "2022-01-16T11:51:06.435Z"
   },
   {
    "duration": 11,
    "start_time": "2022-01-16T11:51:07.907Z"
   },
   {
    "duration": 6407,
    "start_time": "2022-01-16T11:51:09.683Z"
   },
   {
    "duration": 5,
    "start_time": "2022-01-16T11:51:23.760Z"
   },
   {
    "duration": 6101,
    "start_time": "2022-01-16T11:51:39.740Z"
   },
   {
    "duration": 6,
    "start_time": "2022-01-16T11:53:04.727Z"
   },
   {
    "duration": 4,
    "start_time": "2022-01-16T11:53:54.675Z"
   },
   {
    "duration": 9,
    "start_time": "2022-01-16T11:56:05.524Z"
   },
   {
    "duration": 8,
    "start_time": "2022-01-16T11:56:22.822Z"
   },
   {
    "duration": 7,
    "start_time": "2022-01-16T11:57:02.270Z"
   },
   {
    "duration": 6,
    "start_time": "2022-01-16T11:57:11.964Z"
   },
   {
    "duration": 2,
    "start_time": "2022-01-16T11:58:02.309Z"
   },
   {
    "duration": 4,
    "start_time": "2022-01-16T11:58:13.207Z"
   },
   {
    "duration": 17,
    "start_time": "2022-01-16T11:58:38.473Z"
   },
   {
    "duration": 5,
    "start_time": "2022-01-16T11:58:55.245Z"
   },
   {
    "duration": 12,
    "start_time": "2022-01-16T12:00:08.144Z"
   },
   {
    "duration": 13,
    "start_time": "2022-01-16T12:00:30.986Z"
   },
   {
    "duration": 22,
    "start_time": "2022-01-16T12:02:27.010Z"
   },
   {
    "duration": 12,
    "start_time": "2022-01-16T12:02:38.668Z"
   },
   {
    "duration": 6,
    "start_time": "2022-01-16T12:03:22.822Z"
   },
   {
    "duration": 4,
    "start_time": "2022-01-16T12:03:57.571Z"
   },
   {
    "duration": 12,
    "start_time": "2022-01-16T12:10:29.448Z"
   },
   {
    "duration": 18,
    "start_time": "2022-01-16T12:11:31.361Z"
   },
   {
    "duration": 240,
    "start_time": "2022-01-16T12:14:17.592Z"
   },
   {
    "duration": 50,
    "start_time": "2022-01-16T12:14:19.811Z"
   },
   {
    "duration": 12,
    "start_time": "2022-01-16T12:14:20.345Z"
   },
   {
    "duration": 12,
    "start_time": "2022-01-16T12:14:25.007Z"
   },
   {
    "duration": 234,
    "start_time": "2022-01-16T12:16:58.714Z"
   },
   {
    "duration": 10,
    "start_time": "2022-01-16T12:17:05.130Z"
   },
   {
    "duration": 248,
    "start_time": "2022-01-16T12:17:08.375Z"
   },
   {
    "duration": 4,
    "start_time": "2022-01-16T12:21:31.658Z"
   },
   {
    "duration": 3,
    "start_time": "2022-01-16T12:21:37.025Z"
   },
   {
    "duration": 5,
    "start_time": "2022-01-16T12:21:41.064Z"
   },
   {
    "duration": 4,
    "start_time": "2022-01-16T12:21:50.731Z"
   },
   {
    "duration": 4,
    "start_time": "2022-01-16T12:21:57.791Z"
   },
   {
    "duration": 5,
    "start_time": "2022-01-16T12:22:04.457Z"
   },
   {
    "duration": 20,
    "start_time": "2022-01-16T12:23:56.572Z"
   },
   {
    "duration": 5,
    "start_time": "2022-01-16T12:27:42.797Z"
   },
   {
    "duration": 5,
    "start_time": "2022-01-16T12:27:47.139Z"
   },
   {
    "duration": 2,
    "start_time": "2022-01-16T12:30:51.817Z"
   },
   {
    "duration": 50,
    "start_time": "2022-01-16T12:30:52.075Z"
   },
   {
    "duration": 12,
    "start_time": "2022-01-16T12:30:52.412Z"
   },
   {
    "duration": 10,
    "start_time": "2022-01-16T12:30:53.235Z"
   },
   {
    "duration": 80,
    "start_time": "2022-01-16T12:31:45.240Z"
   },
   {
    "duration": 5,
    "start_time": "2022-01-16T12:31:50.593Z"
   },
   {
    "duration": 596,
    "start_time": "2022-01-16T12:33:45.564Z"
   },
   {
    "duration": 81,
    "start_time": "2022-01-16T12:34:08.273Z"
   },
   {
    "duration": 88,
    "start_time": "2022-01-16T12:34:29.510Z"
   },
   {
    "duration": 83,
    "start_time": "2022-01-16T12:34:58.599Z"
   },
   {
    "duration": 22,
    "start_time": "2022-01-16T12:35:04.462Z"
   },
   {
    "duration": 14,
    "start_time": "2022-01-16T12:35:37.517Z"
   },
   {
    "duration": 21,
    "start_time": "2022-01-16T12:35:47.303Z"
   },
   {
    "duration": 13,
    "start_time": "2022-01-16T12:35:52.366Z"
   },
   {
    "duration": 12,
    "start_time": "2022-01-16T12:36:40.119Z"
   },
   {
    "duration": 242,
    "start_time": "2022-01-16T12:48:24.717Z"
   },
   {
    "duration": 355,
    "start_time": "2022-01-16T12:49:01.542Z"
   },
   {
    "duration": 8,
    "start_time": "2022-01-16T12:49:10.814Z"
   },
   {
    "duration": 10,
    "start_time": "2022-01-16T12:52:37.528Z"
   },
   {
    "duration": 15,
    "start_time": "2022-01-16T12:52:52.964Z"
   },
   {
    "duration": 10,
    "start_time": "2022-01-16T12:54:26.194Z"
   },
   {
    "duration": 246,
    "start_time": "2022-01-16T13:16:49.124Z"
   },
   {
    "duration": 8,
    "start_time": "2022-01-16T13:16:59.065Z"
   },
   {
    "duration": 79,
    "start_time": "2022-01-16T13:18:50.956Z"
   },
   {
    "duration": 238,
    "start_time": "2022-01-16T13:18:59.165Z"
   },
   {
    "duration": 85,
    "start_time": "2022-01-16T13:19:04.413Z"
   },
   {
    "duration": 81,
    "start_time": "2022-01-16T13:19:08.887Z"
   },
   {
    "duration": 315,
    "start_time": "2022-01-16T13:19:24.455Z"
   },
   {
    "duration": 247,
    "start_time": "2022-01-16T13:19:45.498Z"
   },
   {
    "duration": 85,
    "start_time": "2022-01-16T13:19:54.852Z"
   },
   {
    "duration": 6,
    "start_time": "2022-01-16T13:19:57.600Z"
   },
   {
    "duration": 20,
    "start_time": "2022-01-16T13:20:03.450Z"
   },
   {
    "duration": 6,
    "start_time": "2022-01-16T13:20:16.283Z"
   },
   {
    "duration": 20,
    "start_time": "2022-01-16T13:20:46.976Z"
   },
   {
    "duration": 21,
    "start_time": "2022-01-16T13:21:55.227Z"
   },
   {
    "duration": 236,
    "start_time": "2022-01-16T13:22:24.591Z"
   },
   {
    "duration": 14,
    "start_time": "2022-01-16T13:22:27.954Z"
   },
   {
    "duration": 20,
    "start_time": "2022-01-16T13:22:42.210Z"
   },
   {
    "duration": 9,
    "start_time": "2022-01-16T13:22:44.816Z"
   },
   {
    "duration": 5,
    "start_time": "2022-01-16T13:23:07.450Z"
   },
   {
    "duration": 6,
    "start_time": "2022-01-16T13:23:14.734Z"
   },
   {
    "duration": 6,
    "start_time": "2022-01-16T13:24:02.822Z"
   },
   {
    "duration": 5,
    "start_time": "2022-01-16T13:24:07.354Z"
   },
   {
    "duration": 17,
    "start_time": "2022-01-16T13:24:15.243Z"
   },
   {
    "duration": 18,
    "start_time": "2022-01-16T13:26:31.111Z"
   },
   {
    "duration": 5,
    "start_time": "2022-01-16T13:26:41.549Z"
   },
   {
    "duration": 6,
    "start_time": "2022-01-16T13:26:47.456Z"
   },
   {
    "duration": 20,
    "start_time": "2022-01-16T13:30:14.835Z"
   },
   {
    "duration": 5,
    "start_time": "2022-01-16T13:30:38.668Z"
   },
   {
    "duration": 5,
    "start_time": "2022-01-16T13:31:02.168Z"
   },
   {
    "duration": 5,
    "start_time": "2022-01-16T13:31:16.307Z"
   },
   {
    "duration": 5,
    "start_time": "2022-01-16T13:31:40.125Z"
   },
   {
    "duration": 5,
    "start_time": "2022-01-16T13:31:53.501Z"
   },
   {
    "duration": 6,
    "start_time": "2022-01-16T13:31:58.785Z"
   },
   {
    "duration": 6,
    "start_time": "2022-01-16T13:32:27.182Z"
   },
   {
    "duration": 20,
    "start_time": "2022-01-16T13:32:41.511Z"
   },
   {
    "duration": 15,
    "start_time": "2022-01-16T13:33:40.997Z"
   },
   {
    "duration": 21,
    "start_time": "2022-01-16T13:33:50.519Z"
   },
   {
    "duration": 13,
    "start_time": "2022-01-16T13:33:57.926Z"
   },
   {
    "duration": 10,
    "start_time": "2022-01-16T13:34:01.387Z"
   },
   {
    "duration": 8,
    "start_time": "2022-01-16T14:14:09.779Z"
   },
   {
    "duration": 23,
    "start_time": "2022-01-16T14:14:15.033Z"
   },
   {
    "duration": 15,
    "start_time": "2022-01-16T14:14:28.046Z"
   },
   {
    "duration": 7,
    "start_time": "2022-01-16T14:16:58.362Z"
   },
   {
    "duration": 7,
    "start_time": "2022-01-16T14:17:00.499Z"
   },
   {
    "duration": 11,
    "start_time": "2022-01-16T14:17:08.491Z"
   },
   {
    "duration": 13,
    "start_time": "2022-01-16T14:17:38.280Z"
   },
   {
    "duration": 14,
    "start_time": "2022-01-16T14:19:17.267Z"
   },
   {
    "duration": 3212,
    "start_time": "2022-01-16T14:26:36.093Z"
   },
   {
    "duration": 7,
    "start_time": "2022-01-16T14:29:01.567Z"
   },
   {
    "duration": 11,
    "start_time": "2022-01-16T14:29:02.007Z"
   },
   {
    "duration": 3176,
    "start_time": "2022-01-16T14:29:04.346Z"
   },
   {
    "duration": 3039,
    "start_time": "2022-01-16T14:30:18.760Z"
   },
   {
    "duration": 3320,
    "start_time": "2022-01-16T14:31:39.351Z"
   },
   {
    "duration": 4,
    "start_time": "2022-01-16T14:32:43.546Z"
   },
   {
    "duration": 4,
    "start_time": "2022-01-16T14:32:58.529Z"
   },
   {
    "duration": 4,
    "start_time": "2022-01-16T14:33:13.157Z"
   },
   {
    "duration": 12,
    "start_time": "2022-01-16T14:33:26.390Z"
   },
   {
    "duration": 15,
    "start_time": "2022-01-16T14:37:42.618Z"
   },
   {
    "duration": 14,
    "start_time": "2022-01-16T14:37:46.755Z"
   },
   {
    "duration": 15,
    "start_time": "2022-01-16T14:39:07.237Z"
   },
   {
    "duration": 14,
    "start_time": "2022-01-16T14:39:22.567Z"
   },
   {
    "duration": 19,
    "start_time": "2022-01-16T14:40:33.489Z"
   },
   {
    "duration": 18,
    "start_time": "2022-01-16T14:40:44.550Z"
   },
   {
    "duration": 268,
    "start_time": "2022-01-16T14:44:09.369Z"
   },
   {
    "duration": 227,
    "start_time": "2022-01-16T14:44:19.472Z"
   },
   {
    "duration": 11,
    "start_time": "2022-01-16T14:44:43.164Z"
   },
   {
    "duration": 230,
    "start_time": "2022-01-16T14:44:45.189Z"
   },
   {
    "duration": 275,
    "start_time": "2022-01-16T14:44:50.297Z"
   },
   {
    "duration": 242,
    "start_time": "2022-01-16T14:45:30.571Z"
   },
   {
    "duration": 281,
    "start_time": "2022-01-16T14:46:11.431Z"
   },
   {
    "duration": 509,
    "start_time": "2022-01-16T14:46:16.695Z"
   },
   {
    "duration": 50,
    "start_time": "2022-01-16T14:46:17.206Z"
   },
   {
    "duration": 19,
    "start_time": "2022-01-16T14:46:17.258Z"
   },
   {
    "duration": 13,
    "start_time": "2022-01-16T14:46:17.279Z"
   },
   {
    "duration": 10,
    "start_time": "2022-01-16T14:46:18.246Z"
   },
   {
    "duration": 6,
    "start_time": "2022-01-16T14:46:18.735Z"
   },
   {
    "duration": 8,
    "start_time": "2022-01-16T14:46:19.143Z"
   },
   {
    "duration": 7,
    "start_time": "2022-01-16T14:46:19.574Z"
   },
   {
    "duration": 10,
    "start_time": "2022-01-16T14:46:19.785Z"
   },
   {
    "duration": 4,
    "start_time": "2022-01-16T14:46:20.993Z"
   },
   {
    "duration": 4,
    "start_time": "2022-01-16T14:46:21.149Z"
   },
   {
    "duration": 11,
    "start_time": "2022-01-16T14:46:21.329Z"
   },
   {
    "duration": 248,
    "start_time": "2022-01-16T14:46:22.457Z"
   },
   {
    "duration": 31,
    "start_time": "2022-01-16T14:47:33.397Z"
   },
   {
    "duration": 11,
    "start_time": "2022-01-16T14:50:02.800Z"
   },
   {
    "duration": 15,
    "start_time": "2022-01-16T14:50:51.532Z"
   },
   {
    "duration": 16,
    "start_time": "2022-01-16T14:50:58.823Z"
   },
   {
    "duration": 247,
    "start_time": "2022-01-16T14:51:14.550Z"
   },
   {
    "duration": 92,
    "start_time": "2022-01-16T14:51:34.428Z"
   },
   {
    "duration": 13,
    "start_time": "2022-01-16T14:51:43.550Z"
   },
   {
    "duration": 18,
    "start_time": "2022-01-16T14:51:45.824Z"
   },
   {
    "duration": 3,
    "start_time": "2022-01-16T14:51:50.886Z"
   },
   {
    "duration": 15,
    "start_time": "2022-01-16T14:51:51.314Z"
   },
   {
    "duration": 14,
    "start_time": "2022-01-16T14:51:56.759Z"
   },
   {
    "duration": 3,
    "start_time": "2022-01-16T14:52:01.734Z"
   },
   {
    "duration": 11,
    "start_time": "2022-01-16T14:52:01.979Z"
   },
   {
    "duration": 2,
    "start_time": "2022-01-16T14:52:05.025Z"
   },
   {
    "duration": 16,
    "start_time": "2022-01-16T14:52:05.399Z"
   },
   {
    "duration": 2,
    "start_time": "2022-01-16T14:52:11.057Z"
   },
   {
    "duration": 45,
    "start_time": "2022-01-16T14:52:11.226Z"
   },
   {
    "duration": 13,
    "start_time": "2022-01-16T14:52:11.418Z"
   },
   {
    "duration": 10,
    "start_time": "2022-01-16T14:52:11.542Z"
   },
   {
    "duration": 9,
    "start_time": "2022-01-16T14:52:12.486Z"
   },
   {
    "duration": 6,
    "start_time": "2022-01-16T14:52:12.982Z"
   },
   {
    "duration": 7,
    "start_time": "2022-01-16T14:52:13.319Z"
   },
   {
    "duration": 7,
    "start_time": "2022-01-16T14:52:13.498Z"
   },
   {
    "duration": 10,
    "start_time": "2022-01-16T14:52:13.656Z"
   },
   {
    "duration": 4,
    "start_time": "2022-01-16T14:52:14.651Z"
   },
   {
    "duration": 4,
    "start_time": "2022-01-16T14:52:14.826Z"
   },
   {
    "duration": 12,
    "start_time": "2022-01-16T14:52:15.008Z"
   },
   {
    "duration": 2,
    "start_time": "2022-01-16T14:52:16.133Z"
   },
   {
    "duration": 15,
    "start_time": "2022-01-16T14:52:16.389Z"
   },
   {
    "duration": 12,
    "start_time": "2022-01-16T14:54:21.028Z"
   },
   {
    "duration": 17,
    "start_time": "2022-01-16T14:54:21.208Z"
   },
   {
    "duration": 12,
    "start_time": "2022-01-16T14:54:26.787Z"
   },
   {
    "duration": 264,
    "start_time": "2022-01-16T14:54:48.121Z"
   },
   {
    "duration": 18,
    "start_time": "2022-01-16T14:55:18.879Z"
   },
   {
    "duration": 15,
    "start_time": "2022-01-16T14:55:30.892Z"
   },
   {
    "duration": 10,
    "start_time": "2022-01-16T14:55:40.533Z"
   },
   {
    "duration": 16,
    "start_time": "2022-01-16T14:55:41.113Z"
   },
   {
    "duration": 28,
    "start_time": "2022-01-16T14:56:20.483Z"
   },
   {
    "duration": 16,
    "start_time": "2022-01-16T14:57:17.462Z"
   },
   {
    "duration": 20,
    "start_time": "2022-01-16T14:57:18.184Z"
   },
   {
    "duration": 16,
    "start_time": "2022-01-16T14:57:29.571Z"
   },
   {
    "duration": 19,
    "start_time": "2022-01-16T14:59:36.016Z"
   },
   {
    "duration": 4,
    "start_time": "2022-01-16T14:59:39.270Z"
   },
   {
    "duration": 5,
    "start_time": "2022-01-16T14:59:39.445Z"
   },
   {
    "duration": 12,
    "start_time": "2022-01-16T14:59:39.603Z"
   },
   {
    "duration": 582,
    "start_time": "2022-01-16T14:59:46.449Z"
   },
   {
    "duration": 53,
    "start_time": "2022-01-16T14:59:47.033Z"
   },
   {
    "duration": 20,
    "start_time": "2022-01-16T14:59:47.087Z"
   },
   {
    "duration": 14,
    "start_time": "2022-01-16T14:59:47.109Z"
   },
   {
    "duration": 9,
    "start_time": "2022-01-16T14:59:47.952Z"
   },
   {
    "duration": 8,
    "start_time": "2022-01-16T14:59:48.413Z"
   },
   {
    "duration": 6,
    "start_time": "2022-01-16T14:59:48.740Z"
   },
   {
    "duration": 7,
    "start_time": "2022-01-16T14:59:48.897Z"
   },
   {
    "duration": 10,
    "start_time": "2022-01-16T14:59:49.102Z"
   },
   {
    "duration": 4,
    "start_time": "2022-01-16T14:59:50.562Z"
   },
   {
    "duration": 4,
    "start_time": "2022-01-16T14:59:51.079Z"
   },
   {
    "duration": 11,
    "start_time": "2022-01-16T14:59:52.341Z"
   },
   {
    "duration": 16,
    "start_time": "2022-01-16T14:59:53.960Z"
   },
   {
    "duration": 16,
    "start_time": "2022-01-16T15:00:04.290Z"
   },
   {
    "duration": 16,
    "start_time": "2022-01-16T15:00:11.285Z"
   },
   {
    "duration": 15,
    "start_time": "2022-01-16T15:00:38.376Z"
   },
   {
    "duration": 14,
    "start_time": "2022-01-16T15:01:54.189Z"
   },
   {
    "duration": 16,
    "start_time": "2022-01-16T15:01:55.150Z"
   },
   {
    "duration": 15,
    "start_time": "2022-01-16T15:01:56.218Z"
   },
   {
    "duration": 3,
    "start_time": "2022-01-16T15:02:00.796Z"
   },
   {
    "duration": 49,
    "start_time": "2022-01-16T15:02:00.952Z"
   },
   {
    "duration": 13,
    "start_time": "2022-01-16T15:02:01.085Z"
   },
   {
    "duration": 11,
    "start_time": "2022-01-16T15:02:01.242Z"
   },
   {
    "duration": 11,
    "start_time": "2022-01-16T15:02:02.188Z"
   },
   {
    "duration": 7,
    "start_time": "2022-01-16T15:02:02.661Z"
   },
   {
    "duration": 7,
    "start_time": "2022-01-16T15:02:02.975Z"
   },
   {
    "duration": 7,
    "start_time": "2022-01-16T15:02:03.132Z"
   },
   {
    "duration": 12,
    "start_time": "2022-01-16T15:02:03.289Z"
   },
   {
    "duration": 4,
    "start_time": "2022-01-16T15:02:04.316Z"
   },
   {
    "duration": 4,
    "start_time": "2022-01-16T15:02:04.438Z"
   },
   {
    "duration": 12,
    "start_time": "2022-01-16T15:02:04.617Z"
   },
   {
    "duration": 17,
    "start_time": "2022-01-16T15:02:05.837Z"
   },
   {
    "duration": 16,
    "start_time": "2022-01-16T15:02:06.668Z"
   },
   {
    "duration": 15,
    "start_time": "2022-01-16T15:02:08.082Z"
   },
   {
    "duration": 295,
    "start_time": "2022-01-16T15:04:52.174Z"
   },
   {
    "duration": 4,
    "start_time": "2022-01-16T15:04:58.757Z"
   },
   {
    "duration": 15,
    "start_time": "2022-01-16T15:06:08.914Z"
   },
   {
    "duration": 5,
    "start_time": "2022-01-16T15:06:09.617Z"
   },
   {
    "duration": 11,
    "start_time": "2022-01-16T15:06:10.142Z"
   },
   {
    "duration": 7,
    "start_time": "2022-01-16T15:06:19.812Z"
   },
   {
    "duration": 3,
    "start_time": "2022-01-16T15:09:55.425Z"
   },
   {
    "duration": 49,
    "start_time": "2022-01-16T15:09:55.539Z"
   },
   {
    "duration": 14,
    "start_time": "2022-01-16T15:09:55.698Z"
   },
   {
    "duration": 11,
    "start_time": "2022-01-16T15:09:55.860Z"
   },
   {
    "duration": 10,
    "start_time": "2022-01-16T15:09:56.777Z"
   },
   {
    "duration": 7,
    "start_time": "2022-01-16T15:09:57.251Z"
   },
   {
    "duration": 6,
    "start_time": "2022-01-16T15:09:57.563Z"
   },
   {
    "duration": 8,
    "start_time": "2022-01-16T15:09:57.721Z"
   },
   {
    "duration": 12,
    "start_time": "2022-01-16T15:09:57.903Z"
   },
   {
    "duration": 5,
    "start_time": "2022-01-16T15:09:58.867Z"
   },
   {
    "duration": 4,
    "start_time": "2022-01-16T15:09:59.037Z"
   },
   {
    "duration": 12,
    "start_time": "2022-01-16T15:09:59.208Z"
   },
   {
    "duration": 17,
    "start_time": "2022-01-16T15:10:02.179Z"
   },
   {
    "duration": 20,
    "start_time": "2022-01-16T15:10:03.046Z"
   },
   {
    "duration": 18,
    "start_time": "2022-01-16T15:10:04.472Z"
   },
   {
    "duration": 237,
    "start_time": "2022-01-16T15:10:21.369Z"
   },
   {
    "duration": 31,
    "start_time": "2022-01-16T15:10:27.359Z"
   },
   {
    "duration": 5,
    "start_time": "2022-01-16T15:11:20.276Z"
   },
   {
    "duration": 230,
    "start_time": "2022-01-16T15:18:55.896Z"
   },
   {
    "duration": 6965,
    "start_time": "2022-01-16T15:19:05.505Z"
   },
   {
    "duration": 7,
    "start_time": "2022-01-16T15:19:25.336Z"
   },
   {
    "duration": 6075,
    "start_time": "2022-01-16T15:20:30.151Z"
   },
   {
    "duration": 5,
    "start_time": "2022-01-16T15:20:58.094Z"
   },
   {
    "duration": 11,
    "start_time": "2022-01-16T15:20:58.757Z"
   },
   {
    "duration": 6281,
    "start_time": "2022-01-16T15:21:01.736Z"
   },
   {
    "duration": 5,
    "start_time": "2022-01-16T15:21:59.135Z"
   },
   {
    "duration": 7,
    "start_time": "2022-01-16T15:24:30.740Z"
   },
   {
    "duration": 6,
    "start_time": "2022-01-16T15:24:59.504Z"
   },
   {
    "duration": 5,
    "start_time": "2022-01-16T15:25:12.952Z"
   },
   {
    "duration": 6,
    "start_time": "2022-01-16T15:25:14.841Z"
   },
   {
    "duration": 34,
    "start_time": "2022-01-16T15:25:26.001Z"
   },
   {
    "duration": 12,
    "start_time": "2022-01-16T15:28:12.117Z"
   },
   {
    "duration": 28,
    "start_time": "2022-01-16T15:28:12.632Z"
   },
   {
    "duration": 10,
    "start_time": "2022-01-16T15:28:41.000Z"
   },
   {
    "duration": 9,
    "start_time": "2022-01-16T15:28:46.003Z"
   },
   {
    "duration": 30,
    "start_time": "2022-01-16T15:28:46.471Z"
   },
   {
    "duration": 10,
    "start_time": "2022-01-16T15:29:25.599Z"
   },
   {
    "duration": 11,
    "start_time": "2022-01-16T15:29:26.348Z"
   },
   {
    "duration": 32,
    "start_time": "2022-01-16T15:29:27.131Z"
   },
   {
    "duration": 10,
    "start_time": "2022-01-16T15:32:17.203Z"
   },
   {
    "duration": 7,
    "start_time": "2022-01-16T15:32:28.100Z"
   },
   {
    "duration": 30,
    "start_time": "2022-01-16T15:32:28.707Z"
   },
   {
    "duration": 8,
    "start_time": "2022-01-16T15:32:45.582Z"
   },
   {
    "duration": 29,
    "start_time": "2022-01-16T15:32:46.029Z"
   },
   {
    "duration": 7,
    "start_time": "2022-01-16T15:33:11.074Z"
   },
   {
    "duration": 7,
    "start_time": "2022-01-16T15:35:08.624Z"
   },
   {
    "duration": 28,
    "start_time": "2022-01-16T15:35:09.040Z"
   },
   {
    "duration": 5,
    "start_time": "2022-01-16T15:35:52.057Z"
   },
   {
    "duration": 9,
    "start_time": "2022-01-16T15:35:52.577Z"
   },
   {
    "duration": 8,
    "start_time": "2022-01-16T15:35:53.012Z"
   },
   {
    "duration": 7,
    "start_time": "2022-01-16T15:35:53.431Z"
   },
   {
    "duration": 28,
    "start_time": "2022-01-16T15:35:54.039Z"
   },
   {
    "duration": 6,
    "start_time": "2022-01-16T15:36:12.511Z"
   },
   {
    "duration": 29,
    "start_time": "2022-01-16T15:36:12.893Z"
   },
   {
    "duration": 5,
    "start_time": "2022-01-16T15:36:35.281Z"
   },
   {
    "duration": 9,
    "start_time": "2022-01-16T15:36:35.483Z"
   },
   {
    "duration": 8,
    "start_time": "2022-01-16T15:36:35.662Z"
   },
   {
    "duration": 6,
    "start_time": "2022-01-16T15:36:35.866Z"
   },
   {
    "duration": 29,
    "start_time": "2022-01-16T15:36:36.269Z"
   },
   {
    "duration": 7,
    "start_time": "2022-01-16T15:36:44.194Z"
   },
   {
    "duration": 29,
    "start_time": "2022-01-16T15:36:44.595Z"
   },
   {
    "duration": 3,
    "start_time": "2022-01-16T15:37:45.464Z"
   },
   {
    "duration": 48,
    "start_time": "2022-01-16T15:37:45.591Z"
   },
   {
    "duration": 13,
    "start_time": "2022-01-16T15:37:45.759Z"
   },
   {
    "duration": 11,
    "start_time": "2022-01-16T15:37:45.912Z"
   },
   {
    "duration": 10,
    "start_time": "2022-01-16T15:37:46.809Z"
   },
   {
    "duration": 9,
    "start_time": "2022-01-16T15:37:47.279Z"
   },
   {
    "duration": 7,
    "start_time": "2022-01-16T15:37:47.623Z"
   },
   {
    "duration": 7,
    "start_time": "2022-01-16T15:37:47.777Z"
   },
   {
    "duration": 10,
    "start_time": "2022-01-16T15:37:47.932Z"
   },
   {
    "duration": 4,
    "start_time": "2022-01-16T15:37:49.217Z"
   },
   {
    "duration": 5,
    "start_time": "2022-01-16T15:37:49.465Z"
   },
   {
    "duration": 12,
    "start_time": "2022-01-16T15:37:49.686Z"
   },
   {
    "duration": 14,
    "start_time": "2022-01-16T15:37:51.306Z"
   },
   {
    "duration": 16,
    "start_time": "2022-01-16T15:37:51.824Z"
   },
   {
    "duration": 15,
    "start_time": "2022-01-16T15:37:52.296Z"
   },
   {
    "duration": 28,
    "start_time": "2022-01-16T15:37:52.544Z"
   },
   {
    "duration": 4,
    "start_time": "2022-01-16T15:37:54.029Z"
   },
   {
    "duration": 10,
    "start_time": "2022-01-16T15:37:54.479Z"
   },
   {
    "duration": 7,
    "start_time": "2022-01-16T15:37:55.346Z"
   },
   {
    "duration": 5,
    "start_time": "2022-01-16T15:37:56.100Z"
   },
   {
    "duration": 13,
    "start_time": "2022-01-16T15:38:06.526Z"
   },
   {
    "duration": 6,
    "start_time": "2022-01-16T15:38:07.195Z"
   },
   {
    "duration": 32,
    "start_time": "2022-01-16T15:38:47.817Z"
   },
   {
    "duration": 6,
    "start_time": "2022-01-16T15:39:19.349Z"
   },
   {
    "duration": 46,
    "start_time": "2022-01-16T15:39:45.980Z"
   },
   {
    "duration": 12,
    "start_time": "2022-01-16T15:39:46.146Z"
   },
   {
    "duration": 10,
    "start_time": "2022-01-16T15:39:46.302Z"
   },
   {
    "duration": 8,
    "start_time": "2022-01-16T15:39:47.211Z"
   },
   {
    "duration": 7,
    "start_time": "2022-01-16T15:39:47.653Z"
   },
   {
    "duration": 7,
    "start_time": "2022-01-16T15:39:47.969Z"
   },
   {
    "duration": 7,
    "start_time": "2022-01-16T15:39:48.169Z"
   },
   {
    "duration": 11,
    "start_time": "2022-01-16T15:39:48.305Z"
   },
   {
    "duration": 4,
    "start_time": "2022-01-16T15:39:48.959Z"
   },
   {
    "duration": 4,
    "start_time": "2022-01-16T15:39:49.129Z"
   },
   {
    "duration": 11,
    "start_time": "2022-01-16T15:39:49.273Z"
   },
   {
    "duration": 14,
    "start_time": "2022-01-16T15:39:51.479Z"
   },
   {
    "duration": 15,
    "start_time": "2022-01-16T15:39:52.154Z"
   },
   {
    "duration": 16,
    "start_time": "2022-01-16T15:39:56.632Z"
   },
   {
    "duration": 28,
    "start_time": "2022-01-16T15:39:59.439Z"
   },
   {
    "duration": 28,
    "start_time": "2022-01-16T15:40:22.296Z"
   },
   {
    "duration": 30,
    "start_time": "2022-01-16T15:40:30.815Z"
   },
   {
    "duration": 6,
    "start_time": "2022-01-16T15:40:32.232Z"
   },
   {
    "duration": 11,
    "start_time": "2022-01-16T15:40:33.411Z"
   },
   {
    "duration": 6,
    "start_time": "2022-01-16T15:40:36.946Z"
   },
   {
    "duration": 6,
    "start_time": "2022-01-16T15:40:37.445Z"
   },
   {
    "duration": 9,
    "start_time": "2022-01-16T15:40:38.348Z"
   },
   {
    "duration": 7,
    "start_time": "2022-01-16T15:40:38.729Z"
   },
   {
    "duration": 7,
    "start_time": "2022-01-16T15:40:39.110Z"
   },
   {
    "duration": 30,
    "start_time": "2022-01-16T15:40:40.782Z"
   },
   {
    "duration": 3,
    "start_time": "2022-01-16T16:01:06.103Z"
   },
   {
    "duration": 470,
    "start_time": "2022-01-16T16:01:06.739Z"
   },
   {
    "duration": 395,
    "start_time": "2022-01-16T16:02:19.894Z"
   },
   {
    "duration": 397,
    "start_time": "2022-01-16T16:02:48.649Z"
   },
   {
    "duration": 3,
    "start_time": "2022-01-16T16:03:38.285Z"
   },
   {
    "duration": 594,
    "start_time": "2022-01-16T16:03:51.401Z"
   },
   {
    "duration": 54,
    "start_time": "2022-01-16T16:03:51.997Z"
   },
   {
    "duration": 21,
    "start_time": "2022-01-16T16:03:52.053Z"
   },
   {
    "duration": 11,
    "start_time": "2022-01-16T16:03:52.080Z"
   },
   {
    "duration": 9,
    "start_time": "2022-01-16T16:03:53.223Z"
   },
   {
    "duration": 8,
    "start_time": "2022-01-16T16:03:53.827Z"
   },
   {
    "duration": 9,
    "start_time": "2022-01-16T16:03:54.210Z"
   },
   {
    "duration": 8,
    "start_time": "2022-01-16T16:03:54.413Z"
   },
   {
    "duration": 11,
    "start_time": "2022-01-16T16:03:54.593Z"
   },
   {
    "duration": 5,
    "start_time": "2022-01-16T16:03:55.408Z"
   },
   {
    "duration": 4,
    "start_time": "2022-01-16T16:03:55.606Z"
   },
   {
    "duration": 11,
    "start_time": "2022-01-16T16:03:55.832Z"
   },
   {
    "duration": 15,
    "start_time": "2022-01-16T16:03:57.499Z"
   },
   {
    "duration": 16,
    "start_time": "2022-01-16T16:03:57.900Z"
   },
   {
    "duration": 16,
    "start_time": "2022-01-16T16:03:58.306Z"
   },
   {
    "duration": 30,
    "start_time": "2022-01-16T16:03:58.757Z"
   },
   {
    "duration": 5,
    "start_time": "2022-01-16T16:03:59.207Z"
   },
   {
    "duration": 12,
    "start_time": "2022-01-16T16:03:59.452Z"
   },
   {
    "duration": 7,
    "start_time": "2022-01-16T16:03:59.975Z"
   },
   {
    "duration": 6,
    "start_time": "2022-01-16T16:04:00.404Z"
   },
   {
    "duration": 10,
    "start_time": "2022-01-16T16:04:00.648Z"
   },
   {
    "duration": 8,
    "start_time": "2022-01-16T16:04:00.984Z"
   },
   {
    "duration": 7,
    "start_time": "2022-01-16T16:04:01.258Z"
   },
   {
    "duration": 34,
    "start_time": "2022-01-16T16:04:01.931Z"
   },
   {
    "duration": 594,
    "start_time": "2022-01-16T16:04:31.334Z"
   },
   {
    "duration": 55,
    "start_time": "2022-01-16T16:04:31.930Z"
   },
   {
    "duration": 18,
    "start_time": "2022-01-16T16:04:31.987Z"
   },
   {
    "duration": 19,
    "start_time": "2022-01-16T16:04:32.007Z"
   },
   {
    "duration": 15,
    "start_time": "2022-01-16T16:04:32.028Z"
   },
   {
    "duration": 6,
    "start_time": "2022-01-16T16:04:32.044Z"
   },
   {
    "duration": 14,
    "start_time": "2022-01-16T16:04:32.052Z"
   },
   {
    "duration": 26,
    "start_time": "2022-01-16T16:04:32.067Z"
   },
   {
    "duration": 10,
    "start_time": "2022-01-16T16:04:32.096Z"
   },
   {
    "duration": 7,
    "start_time": "2022-01-16T16:04:32.108Z"
   },
   {
    "duration": 13,
    "start_time": "2022-01-16T16:04:32.116Z"
   },
   {
    "duration": 16,
    "start_time": "2022-01-16T16:04:32.131Z"
   },
   {
    "duration": 26,
    "start_time": "2022-01-16T16:04:32.149Z"
   },
   {
    "duration": 15,
    "start_time": "2022-01-16T16:04:32.177Z"
   },
   {
    "duration": 15,
    "start_time": "2022-01-16T16:04:32.194Z"
   },
   {
    "duration": 49,
    "start_time": "2022-01-16T16:04:32.210Z"
   },
   {
    "duration": 4,
    "start_time": "2022-01-16T16:04:32.261Z"
   },
   {
    "duration": 19,
    "start_time": "2022-01-16T16:04:32.267Z"
   },
   {
    "duration": 12,
    "start_time": "2022-01-16T16:04:32.287Z"
   },
   {
    "duration": 5,
    "start_time": "2022-01-16T16:04:32.301Z"
   },
   {
    "duration": 36,
    "start_time": "2022-01-16T16:04:32.307Z"
   },
   {
    "duration": 23,
    "start_time": "2022-01-16T16:04:32.345Z"
   },
   {
    "duration": 12,
    "start_time": "2022-01-16T16:04:32.370Z"
   },
   {
    "duration": 60,
    "start_time": "2022-01-16T16:04:32.384Z"
   },
   {
    "duration": 14,
    "start_time": "2022-01-16T16:04:32.446Z"
   },
   {
    "duration": 25,
    "start_time": "2022-01-16T16:04:32.462Z"
   },
   {
    "duration": 18,
    "start_time": "2022-01-16T16:04:32.490Z"
   },
   {
    "duration": 552,
    "start_time": "2022-01-16T16:05:21.040Z"
   },
   {
    "duration": 3,
    "start_time": "2022-01-16T16:05:30.716Z"
   },
   {
    "duration": 575,
    "start_time": "2022-01-16T16:05:33.654Z"
   },
   {
    "duration": 4,
    "start_time": "2022-01-16T16:05:42.357Z"
   },
   {
    "duration": 248,
    "start_time": "2022-01-16T16:06:55.026Z"
   },
   {
    "duration": 4,
    "start_time": "2022-01-16T16:07:54.480Z"
   },
   {
    "duration": 240,
    "start_time": "2022-01-16T16:07:57.571Z"
   },
   {
    "duration": 7,
    "start_time": "2022-01-16T16:08:05.767Z"
   },
   {
    "duration": 4,
    "start_time": "2022-01-16T16:09:21.091Z"
   },
   {
    "duration": 313,
    "start_time": "2022-01-16T16:09:21.990Z"
   },
   {
    "duration": 613,
    "start_time": "2022-01-16T16:09:33.893Z"
   },
   {
    "duration": 246,
    "start_time": "2022-01-16T16:11:38.773Z"
   },
   {
    "duration": 234,
    "start_time": "2022-01-16T16:11:49.433Z"
   },
   {
    "duration": 558,
    "start_time": "2022-01-16T16:11:54.134Z"
   },
   {
    "duration": 600,
    "start_time": "2022-01-16T16:12:16.221Z"
   },
   {
    "duration": 51,
    "start_time": "2022-01-16T16:12:16.823Z"
   },
   {
    "duration": 18,
    "start_time": "2022-01-16T16:12:16.876Z"
   },
   {
    "duration": 10,
    "start_time": "2022-01-16T16:12:16.896Z"
   },
   {
    "duration": 11,
    "start_time": "2022-01-16T16:12:16.907Z"
   },
   {
    "duration": 25,
    "start_time": "2022-01-16T16:12:16.920Z"
   },
   {
    "duration": 6,
    "start_time": "2022-01-16T16:12:16.946Z"
   },
   {
    "duration": 5,
    "start_time": "2022-01-16T16:12:16.955Z"
   },
   {
    "duration": 9,
    "start_time": "2022-01-16T16:12:16.962Z"
   },
   {
    "duration": 4,
    "start_time": "2022-01-16T16:12:16.972Z"
   },
   {
    "duration": 6,
    "start_time": "2022-01-16T16:12:16.977Z"
   },
   {
    "duration": 15,
    "start_time": "2022-01-16T16:12:16.985Z"
   },
   {
    "duration": 42,
    "start_time": "2022-01-16T16:12:17.001Z"
   },
   {
    "duration": 14,
    "start_time": "2022-01-16T16:12:17.044Z"
   },
   {
    "duration": 13,
    "start_time": "2022-01-16T16:12:17.060Z"
   },
   {
    "duration": 26,
    "start_time": "2022-01-16T16:12:17.075Z"
   },
   {
    "duration": 4,
    "start_time": "2022-01-16T16:12:17.102Z"
   },
   {
    "duration": 37,
    "start_time": "2022-01-16T16:12:17.108Z"
   },
   {
    "duration": 8,
    "start_time": "2022-01-16T16:12:17.147Z"
   },
   {
    "duration": 6,
    "start_time": "2022-01-16T16:12:17.156Z"
   },
   {
    "duration": 14,
    "start_time": "2022-01-16T16:12:17.164Z"
   },
   {
    "duration": 16,
    "start_time": "2022-01-16T16:12:17.179Z"
   },
   {
    "duration": 10,
    "start_time": "2022-01-16T16:12:17.198Z"
   },
   {
    "duration": 47,
    "start_time": "2022-01-16T16:12:17.210Z"
   },
   {
    "duration": 3,
    "start_time": "2022-01-16T16:12:17.259Z"
   },
   {
    "duration": 521,
    "start_time": "2022-01-16T16:12:17.264Z"
   },
   {
    "duration": -1003,
    "start_time": "2022-01-16T16:12:18.790Z"
   },
   {
    "duration": -1004,
    "start_time": "2022-01-16T16:12:18.792Z"
   },
   {
    "duration": 529,
    "start_time": "2022-01-16T16:12:31.987Z"
   },
   {
    "duration": 51,
    "start_time": "2022-01-16T16:12:32.518Z"
   },
   {
    "duration": 20,
    "start_time": "2022-01-16T16:12:32.571Z"
   },
   {
    "duration": 16,
    "start_time": "2022-01-16T16:12:32.593Z"
   },
   {
    "duration": 9,
    "start_time": "2022-01-16T16:12:32.611Z"
   },
   {
    "duration": 23,
    "start_time": "2022-01-16T16:12:32.621Z"
   },
   {
    "duration": 8,
    "start_time": "2022-01-16T16:12:32.646Z"
   },
   {
    "duration": 7,
    "start_time": "2022-01-16T16:12:32.657Z"
   },
   {
    "duration": 11,
    "start_time": "2022-01-16T16:12:32.666Z"
   },
   {
    "duration": 4,
    "start_time": "2022-01-16T16:12:32.678Z"
   },
   {
    "duration": 5,
    "start_time": "2022-01-16T16:12:32.684Z"
   },
   {
    "duration": 17,
    "start_time": "2022-01-16T16:12:32.691Z"
   },
   {
    "duration": 16,
    "start_time": "2022-01-16T16:12:32.741Z"
   },
   {
    "duration": 14,
    "start_time": "2022-01-16T16:12:32.759Z"
   },
   {
    "duration": 16,
    "start_time": "2022-01-16T16:12:32.775Z"
   },
   {
    "duration": 56,
    "start_time": "2022-01-16T16:12:32.793Z"
   },
   {
    "duration": 5,
    "start_time": "2022-01-16T16:12:32.851Z"
   },
   {
    "duration": 35,
    "start_time": "2022-01-16T16:12:32.857Z"
   },
   {
    "duration": 27,
    "start_time": "2022-01-16T16:12:32.894Z"
   },
   {
    "duration": 12,
    "start_time": "2022-01-16T16:12:32.923Z"
   },
   {
    "duration": 22,
    "start_time": "2022-01-16T16:12:32.936Z"
   },
   {
    "duration": 15,
    "start_time": "2022-01-16T16:12:32.959Z"
   },
   {
    "duration": 26,
    "start_time": "2022-01-16T16:12:32.977Z"
   },
   {
    "duration": 60,
    "start_time": "2022-01-16T16:12:33.005Z"
   },
   {
    "duration": 4,
    "start_time": "2022-01-16T16:12:33.067Z"
   },
   {
    "duration": 34,
    "start_time": "2022-01-16T16:12:33.073Z"
   },
   {
    "duration": 17,
    "start_time": "2022-01-16T16:12:33.109Z"
   },
   {
    "duration": 8,
    "start_time": "2022-01-16T16:13:23.969Z"
   },
   {
    "duration": 573,
    "start_time": "2022-01-16T16:14:21.127Z"
   },
   {
    "duration": 5,
    "start_time": "2022-01-16T16:14:27.406Z"
   },
   {
    "duration": 2,
    "start_time": "2022-01-16T16:14:38.544Z"
   },
   {
    "duration": 3,
    "start_time": "2022-01-16T16:14:39.670Z"
   },
   {
    "duration": 573,
    "start_time": "2022-01-16T16:14:46.207Z"
   },
   {
    "duration": 51,
    "start_time": "2022-01-16T16:14:46.782Z"
   },
   {
    "duration": 18,
    "start_time": "2022-01-16T16:14:46.835Z"
   },
   {
    "duration": 15,
    "start_time": "2022-01-16T16:14:46.855Z"
   },
   {
    "duration": 8,
    "start_time": "2022-01-16T16:14:46.871Z"
   },
   {
    "duration": 6,
    "start_time": "2022-01-16T16:14:46.881Z"
   },
   {
    "duration": 8,
    "start_time": "2022-01-16T16:14:46.888Z"
   },
   {
    "duration": 8,
    "start_time": "2022-01-16T16:14:46.898Z"
   },
   {
    "duration": 36,
    "start_time": "2022-01-16T16:14:46.907Z"
   },
   {
    "duration": 3,
    "start_time": "2022-01-16T16:14:46.945Z"
   },
   {
    "duration": 5,
    "start_time": "2022-01-16T16:14:46.950Z"
   },
   {
    "duration": 15,
    "start_time": "2022-01-16T16:14:46.956Z"
   },
   {
    "duration": 12,
    "start_time": "2022-01-16T16:14:46.973Z"
   },
   {
    "duration": 14,
    "start_time": "2022-01-16T16:14:46.987Z"
   },
   {
    "duration": 13,
    "start_time": "2022-01-16T16:14:47.002Z"
   },
   {
    "duration": 28,
    "start_time": "2022-01-16T16:14:47.041Z"
   },
   {
    "duration": 6,
    "start_time": "2022-01-16T16:14:47.071Z"
   },
   {
    "duration": 13,
    "start_time": "2022-01-16T16:14:47.078Z"
   },
   {
    "duration": 8,
    "start_time": "2022-01-16T16:14:47.092Z"
   },
   {
    "duration": 8,
    "start_time": "2022-01-16T16:14:47.101Z"
   },
   {
    "duration": 34,
    "start_time": "2022-01-16T16:14:47.110Z"
   },
   {
    "duration": 9,
    "start_time": "2022-01-16T16:14:47.146Z"
   },
   {
    "duration": 15,
    "start_time": "2022-01-16T16:14:47.158Z"
   },
   {
    "duration": 33,
    "start_time": "2022-01-16T16:14:47.174Z"
   },
   {
    "duration": 4,
    "start_time": "2022-01-16T16:14:47.209Z"
   },
   {
    "duration": 7,
    "start_time": "2022-01-16T16:14:47.214Z"
   },
   {
    "duration": 546,
    "start_time": "2022-01-16T16:14:47.222Z"
   },
   {
    "duration": -873,
    "start_time": "2022-01-16T16:14:48.643Z"
   },
   {
    "duration": 4,
    "start_time": "2022-01-16T16:17:56.236Z"
   },
   {
    "duration": 4,
    "start_time": "2022-01-16T16:18:32.957Z"
   },
   {
    "duration": 4,
    "start_time": "2022-01-16T16:18:33.467Z"
   },
   {
    "duration": 527,
    "start_time": "2022-01-16T16:18:45.718Z"
   },
   {
    "duration": 3,
    "start_time": "2022-01-16T16:19:18.113Z"
   },
   {
    "duration": 3,
    "start_time": "2022-01-16T16:19:19.801Z"
   },
   {
    "duration": 487,
    "start_time": "2022-01-16T16:19:20.278Z"
   },
   {
    "duration": 636,
    "start_time": "2022-01-16T16:19:28.237Z"
   },
   {
    "duration": 59,
    "start_time": "2022-01-16T16:19:28.875Z"
   },
   {
    "duration": 21,
    "start_time": "2022-01-16T16:19:28.936Z"
   },
   {
    "duration": 17,
    "start_time": "2022-01-16T16:19:28.959Z"
   },
   {
    "duration": 10,
    "start_time": "2022-01-16T16:19:28.978Z"
   },
   {
    "duration": 8,
    "start_time": "2022-01-16T16:19:28.990Z"
   },
   {
    "duration": 8,
    "start_time": "2022-01-16T16:19:28.999Z"
   },
   {
    "duration": 36,
    "start_time": "2022-01-16T16:19:29.010Z"
   },
   {
    "duration": 11,
    "start_time": "2022-01-16T16:19:29.048Z"
   },
   {
    "duration": 4,
    "start_time": "2022-01-16T16:19:29.060Z"
   },
   {
    "duration": 6,
    "start_time": "2022-01-16T16:19:29.066Z"
   },
   {
    "duration": 16,
    "start_time": "2022-01-16T16:19:29.074Z"
   },
   {
    "duration": 21,
    "start_time": "2022-01-16T16:19:29.092Z"
   },
   {
    "duration": 39,
    "start_time": "2022-01-16T16:19:29.114Z"
   },
   {
    "duration": 15,
    "start_time": "2022-01-16T16:19:29.154Z"
   },
   {
    "duration": 30,
    "start_time": "2022-01-16T16:19:29.171Z"
   },
   {
    "duration": 5,
    "start_time": "2022-01-16T16:19:29.202Z"
   },
   {
    "duration": 43,
    "start_time": "2022-01-16T16:19:29.208Z"
   },
   {
    "duration": 9,
    "start_time": "2022-01-16T16:19:29.253Z"
   },
   {
    "duration": 6,
    "start_time": "2022-01-16T16:19:29.264Z"
   },
   {
    "duration": 13,
    "start_time": "2022-01-16T16:19:29.272Z"
   },
   {
    "duration": 11,
    "start_time": "2022-01-16T16:19:29.287Z"
   },
   {
    "duration": 18,
    "start_time": "2022-01-16T16:19:29.300Z"
   },
   {
    "duration": 40,
    "start_time": "2022-01-16T16:19:29.320Z"
   },
   {
    "duration": 4,
    "start_time": "2022-01-16T16:19:29.362Z"
   },
   {
    "duration": 4,
    "start_time": "2022-01-16T16:19:29.368Z"
   },
   {
    "duration": 564,
    "start_time": "2022-01-16T16:19:29.374Z"
   },
   {
    "duration": -986,
    "start_time": "2022-01-16T16:19:30.925Z"
   },
   {
    "duration": 485,
    "start_time": "2022-01-16T16:19:49.508Z"
   },
   {
    "duration": 3,
    "start_time": "2022-01-16T16:20:21.103Z"
   },
   {
    "duration": 469,
    "start_time": "2022-01-16T16:20:21.701Z"
   },
   {
    "duration": 2,
    "start_time": "2022-01-16T16:20:25.600Z"
   },
   {
    "duration": 4,
    "start_time": "2022-01-16T16:20:26.328Z"
   },
   {
    "duration": 645,
    "start_time": "2022-01-16T16:20:27.085Z"
   },
   {
    "duration": 4,
    "start_time": "2022-01-16T16:21:02.630Z"
   },
   {
    "duration": 499,
    "start_time": "2022-01-16T16:21:03.521Z"
   },
   {
    "duration": 3,
    "start_time": "2022-01-16T16:21:11.634Z"
   },
   {
    "duration": 48,
    "start_time": "2022-01-16T16:21:11.830Z"
   },
   {
    "duration": 13,
    "start_time": "2022-01-16T16:21:12.023Z"
   },
   {
    "duration": 11,
    "start_time": "2022-01-16T16:21:12.191Z"
   },
   {
    "duration": 9,
    "start_time": "2022-01-16T16:21:14.079Z"
   },
   {
    "duration": 20,
    "start_time": "2022-01-16T16:21:14.090Z"
   },
   {
    "duration": 15,
    "start_time": "2022-01-16T16:21:14.111Z"
   },
   {
    "duration": 8,
    "start_time": "2022-01-16T16:21:14.218Z"
   },
   {
    "duration": 10,
    "start_time": "2022-01-16T16:21:14.398Z"
   },
   {
    "duration": 4,
    "start_time": "2022-01-16T16:21:15.106Z"
   },
   {
    "duration": 4,
    "start_time": "2022-01-16T16:21:15.255Z"
   },
   {
    "duration": 13,
    "start_time": "2022-01-16T16:21:15.442Z"
   },
   {
    "duration": 14,
    "start_time": "2022-01-16T16:21:16.651Z"
   },
   {
    "duration": 16,
    "start_time": "2022-01-16T16:21:17.122Z"
   },
   {
    "duration": 16,
    "start_time": "2022-01-16T16:21:17.523Z"
   },
   {
    "duration": 29,
    "start_time": "2022-01-16T16:21:17.885Z"
   },
   {
    "duration": 5,
    "start_time": "2022-01-16T16:21:18.243Z"
   },
   {
    "duration": 11,
    "start_time": "2022-01-16T16:21:18.446Z"
   },
   {
    "duration": 6,
    "start_time": "2022-01-16T16:21:19.280Z"
   },
   {
    "duration": 5,
    "start_time": "2022-01-16T16:21:19.527Z"
   },
   {
    "duration": 10,
    "start_time": "2022-01-16T16:21:19.751Z"
   },
   {
    "duration": 8,
    "start_time": "2022-01-16T16:21:19.931Z"
   },
   {
    "duration": 7,
    "start_time": "2022-01-16T16:21:20.157Z"
   },
   {
    "duration": 32,
    "start_time": "2022-01-16T16:21:20.606Z"
   },
   {
    "duration": 3,
    "start_time": "2022-01-16T16:21:21.912Z"
   },
   {
    "duration": 3,
    "start_time": "2022-01-16T16:21:22.451Z"
   },
   {
    "duration": 716,
    "start_time": "2022-01-16T16:21:22.900Z"
   },
   {
    "duration": 736,
    "start_time": "2022-01-16T16:22:43.042Z"
   },
   {
    "duration": 56,
    "start_time": "2022-01-16T16:22:43.780Z"
   },
   {
    "duration": 20,
    "start_time": "2022-01-16T16:22:43.838Z"
   },
   {
    "duration": 14,
    "start_time": "2022-01-16T16:22:43.860Z"
   },
   {
    "duration": 8,
    "start_time": "2022-01-16T16:22:43.876Z"
   },
   {
    "duration": 8,
    "start_time": "2022-01-16T16:22:43.886Z"
   },
   {
    "duration": 9,
    "start_time": "2022-01-16T16:22:43.895Z"
   },
   {
    "duration": 7,
    "start_time": "2022-01-16T16:22:43.906Z"
   },
   {
    "duration": 10,
    "start_time": "2022-01-16T16:22:43.941Z"
   },
   {
    "duration": 4,
    "start_time": "2022-01-16T16:22:43.953Z"
   },
   {
    "duration": 8,
    "start_time": "2022-01-16T16:22:43.958Z"
   },
   {
    "duration": 20,
    "start_time": "2022-01-16T16:22:43.967Z"
   },
   {
    "duration": 15,
    "start_time": "2022-01-16T16:22:43.988Z"
   },
   {
    "duration": 14,
    "start_time": "2022-01-16T16:22:44.004Z"
   },
   {
    "duration": 15,
    "start_time": "2022-01-16T16:22:44.042Z"
   },
   {
    "duration": 40,
    "start_time": "2022-01-16T16:22:44.058Z"
   },
   {
    "duration": 6,
    "start_time": "2022-01-16T16:22:44.100Z"
   },
   {
    "duration": 40,
    "start_time": "2022-01-16T16:22:44.108Z"
   },
   {
    "duration": 2,
    "start_time": "2022-01-16T16:22:44.150Z"
   },
   {
    "duration": 104,
    "start_time": "2022-01-16T16:22:44.154Z"
   },
   {
    "duration": -857,
    "start_time": "2022-01-16T16:22:45.118Z"
   },
   {
    "duration": -868,
    "start_time": "2022-01-16T16:22:45.130Z"
   },
   {
    "duration": -871,
    "start_time": "2022-01-16T16:22:45.134Z"
   },
   {
    "duration": -886,
    "start_time": "2022-01-16T16:22:45.150Z"
   },
   {
    "duration": -887,
    "start_time": "2022-01-16T16:22:45.152Z"
   },
   {
    "duration": -899,
    "start_time": "2022-01-16T16:22:45.165Z"
   },
   {
    "duration": -902,
    "start_time": "2022-01-16T16:22:45.169Z"
   },
   {
    "duration": -914,
    "start_time": "2022-01-16T16:22:45.182Z"
   },
   {
    "duration": 299,
    "start_time": "2022-01-16T16:22:55.763Z"
   },
   {
    "duration": 8,
    "start_time": "2022-01-16T16:23:01.181Z"
   },
   {
    "duration": 4,
    "start_time": "2022-01-16T16:23:01.584Z"
   },
   {
    "duration": 652,
    "start_time": "2022-01-16T16:23:02.297Z"
   },
   {
    "duration": 564,
    "start_time": "2022-01-16T16:23:28.892Z"
   },
   {
    "duration": 2,
    "start_time": "2022-01-16T16:23:33.724Z"
   },
   {
    "duration": 57,
    "start_time": "2022-01-16T16:23:33.897Z"
   },
   {
    "duration": 15,
    "start_time": "2022-01-16T16:23:34.081Z"
   },
   {
    "duration": 11,
    "start_time": "2022-01-16T16:23:34.235Z"
   },
   {
    "duration": 9,
    "start_time": "2022-01-16T16:23:35.004Z"
   },
   {
    "duration": 8,
    "start_time": "2022-01-16T16:23:35.106Z"
   },
   {
    "duration": 8,
    "start_time": "2022-01-16T16:23:35.162Z"
   },
   {
    "duration": 7,
    "start_time": "2022-01-16T16:23:35.193Z"
   },
   {
    "duration": 12,
    "start_time": "2022-01-16T16:23:35.247Z"
   },
   {
    "duration": 4,
    "start_time": "2022-01-16T16:23:35.369Z"
   },
   {
    "duration": 5,
    "start_time": "2022-01-16T16:23:35.406Z"
   },
   {
    "duration": 13,
    "start_time": "2022-01-16T16:23:35.432Z"
   },
   {
    "duration": 16,
    "start_time": "2022-01-16T16:23:35.593Z"
   },
   {
    "duration": 16,
    "start_time": "2022-01-16T16:23:35.665Z"
   },
   {
    "duration": 17,
    "start_time": "2022-01-16T16:23:35.733Z"
   },
   {
    "duration": 30,
    "start_time": "2022-01-16T16:23:35.796Z"
   },
   {
    "duration": 5,
    "start_time": "2022-01-16T16:23:35.864Z"
   },
   {
    "duration": 12,
    "start_time": "2022-01-16T16:23:35.896Z"
   },
   {
    "duration": 3,
    "start_time": "2022-01-16T16:23:35.950Z"
   },
   {
    "duration": 114,
    "start_time": "2022-01-16T16:23:35.984Z"
   },
   {
    "duration": -974,
    "start_time": "2022-01-16T16:23:37.074Z"
   },
   {
    "duration": -976,
    "start_time": "2022-01-16T16:23:37.077Z"
   },
   {
    "duration": 165,
    "start_time": "2022-01-16T16:23:36.108Z"
   },
   {
    "duration": -857,
    "start_time": "2022-01-16T16:23:37.133Z"
   },
   {
    "duration": 4,
    "start_time": "2022-01-16T16:23:37.646Z"
   },
   {
    "duration": 4,
    "start_time": "2022-01-16T16:23:38.129Z"
   },
   {
    "duration": 491,
    "start_time": "2022-01-16T16:23:38.489Z"
   },
   {
    "duration": 5,
    "start_time": "2022-01-16T16:23:57.659Z"
   },
   {
    "duration": 5,
    "start_time": "2022-01-16T16:23:58.248Z"
   },
   {
    "duration": 10,
    "start_time": "2022-01-16T16:23:58.763Z"
   },
   {
    "duration": 9,
    "start_time": "2022-01-16T16:23:59.213Z"
   },
   {
    "duration": 7,
    "start_time": "2022-01-16T16:23:59.661Z"
   },
   {
    "duration": 114,
    "start_time": "2022-01-16T16:24:00.627Z"
   },
   {
    "duration": 35,
    "start_time": "2022-01-16T16:24:04.122Z"
   },
   {
    "duration": 3,
    "start_time": "2022-01-16T16:24:07.697Z"
   },
   {
    "duration": 3,
    "start_time": "2022-01-16T16:24:08.345Z"
   },
   {
    "duration": 512,
    "start_time": "2022-01-16T16:24:09.110Z"
   },
   {
    "duration": 586,
    "start_time": "2022-01-16T16:29:04.916Z"
   },
   {
    "duration": 50,
    "start_time": "2022-01-16T16:29:05.504Z"
   },
   {
    "duration": 19,
    "start_time": "2022-01-16T16:29:05.556Z"
   },
   {
    "duration": 12,
    "start_time": "2022-01-16T16:29:05.577Z"
   },
   {
    "duration": 8,
    "start_time": "2022-01-16T16:29:05.591Z"
   },
   {
    "duration": 6,
    "start_time": "2022-01-16T16:29:05.600Z"
   },
   {
    "duration": 8,
    "start_time": "2022-01-16T16:29:05.608Z"
   },
   {
    "duration": 27,
    "start_time": "2022-01-16T16:29:05.619Z"
   },
   {
    "duration": 9,
    "start_time": "2022-01-16T16:29:05.648Z"
   },
   {
    "duration": 4,
    "start_time": "2022-01-16T16:29:05.658Z"
   },
   {
    "duration": 7,
    "start_time": "2022-01-16T16:29:05.663Z"
   },
   {
    "duration": 16,
    "start_time": "2022-01-16T16:29:05.671Z"
   },
   {
    "duration": 13,
    "start_time": "2022-01-16T16:29:05.689Z"
   },
   {
    "duration": 38,
    "start_time": "2022-01-16T16:29:05.703Z"
   },
   {
    "duration": 14,
    "start_time": "2022-01-16T16:29:05.743Z"
   },
   {
    "duration": 30,
    "start_time": "2022-01-16T16:29:05.759Z"
   },
   {
    "duration": 5,
    "start_time": "2022-01-16T16:29:05.790Z"
   },
   {
    "duration": 13,
    "start_time": "2022-01-16T16:29:05.796Z"
   },
   {
    "duration": 32,
    "start_time": "2022-01-16T16:29:05.810Z"
   },
   {
    "duration": 4,
    "start_time": "2022-01-16T16:29:05.843Z"
   },
   {
    "duration": 11,
    "start_time": "2022-01-16T16:29:05.849Z"
   },
   {
    "duration": 10,
    "start_time": "2022-01-16T16:29:05.862Z"
   },
   {
    "duration": 17,
    "start_time": "2022-01-16T16:29:05.874Z"
   },
   {
    "duration": 35,
    "start_time": "2022-01-16T16:29:05.893Z"
   },
   {
    "duration": 13,
    "start_time": "2022-01-16T16:29:05.930Z"
   },
   {
    "duration": 4,
    "start_time": "2022-01-16T16:29:05.944Z"
   },
   {
    "duration": 553,
    "start_time": "2022-01-16T16:29:05.949Z"
   },
   {
    "duration": -1585,
    "start_time": "2022-01-16T16:29:08.088Z"
   },
   {
    "duration": 6,
    "start_time": "2022-01-16T16:29:38.489Z"
   },
   {
    "duration": 4,
    "start_time": "2022-01-16T16:29:41.295Z"
   },
   {
    "duration": 513,
    "start_time": "2022-01-16T16:30:03.955Z"
   },
   {
    "duration": 562,
    "start_time": "2022-01-16T16:30:17.325Z"
   },
   {
    "duration": 2,
    "start_time": "2022-01-16T16:30:39.427Z"
   },
   {
    "duration": 50,
    "start_time": "2022-01-16T16:30:39.594Z"
   },
   {
    "duration": 14,
    "start_time": "2022-01-16T16:30:39.763Z"
   },
   {
    "duration": 12,
    "start_time": "2022-01-16T16:30:39.907Z"
   },
   {
    "duration": 9,
    "start_time": "2022-01-16T16:30:40.856Z"
   },
   {
    "duration": 7,
    "start_time": "2022-01-16T16:30:41.303Z"
   },
   {
    "duration": 9,
    "start_time": "2022-01-16T16:30:41.599Z"
   },
   {
    "duration": 10,
    "start_time": "2022-01-16T16:30:41.779Z"
   },
   {
    "duration": 16,
    "start_time": "2022-01-16T16:30:41.934Z"
   },
   {
    "duration": 5,
    "start_time": "2022-01-16T16:30:42.611Z"
   },
   {
    "duration": 6,
    "start_time": "2022-01-16T16:30:42.743Z"
   },
   {
    "duration": 18,
    "start_time": "2022-01-16T16:30:43.176Z"
   },
   {
    "duration": 24,
    "start_time": "2022-01-16T16:30:44.097Z"
   },
   {
    "duration": 22,
    "start_time": "2022-01-16T16:30:44.746Z"
   },
   {
    "duration": 23,
    "start_time": "2022-01-16T16:30:45.480Z"
   },
   {
    "duration": 41,
    "start_time": "2022-01-16T16:30:45.826Z"
   },
   {
    "duration": 5,
    "start_time": "2022-01-16T16:30:46.572Z"
   },
   {
    "duration": 13,
    "start_time": "2022-01-16T16:30:46.748Z"
   },
   {
    "duration": 6,
    "start_time": "2022-01-16T16:30:47.379Z"
   },
   {
    "duration": 5,
    "start_time": "2022-01-16T16:30:47.695Z"
   },
   {
    "duration": 10,
    "start_time": "2022-01-16T16:30:47.897Z"
   },
   {
    "duration": 9,
    "start_time": "2022-01-16T16:30:48.076Z"
   },
   {
    "duration": 7,
    "start_time": "2022-01-16T16:30:48.279Z"
   },
   {
    "duration": 31,
    "start_time": "2022-01-16T16:30:48.822Z"
   },
   {
    "duration": 2,
    "start_time": "2022-01-16T16:30:50.192Z"
   },
   {
    "duration": 3,
    "start_time": "2022-01-16T16:30:50.650Z"
   },
   {
    "duration": 454,
    "start_time": "2022-01-16T16:30:51.318Z"
   },
   {
    "duration": 221,
    "start_time": "2022-01-16T16:31:41.612Z"
   },
   {
    "duration": 260,
    "start_time": "2022-01-16T16:31:46.332Z"
   },
   {
    "duration": 462,
    "start_time": "2022-01-16T16:31:51.161Z"
   },
   {
    "duration": 73,
    "start_time": "2022-01-16T16:32:26.204Z"
   },
   {
    "duration": 719,
    "start_time": "2022-01-16T16:32:45.575Z"
   },
   {
    "duration": 83,
    "start_time": "2022-01-16T16:32:48.557Z"
   },
   {
    "duration": 476,
    "start_time": "2022-01-16T16:32:48.835Z"
   },
   {
    "duration": 3,
    "start_time": "2022-01-16T16:32:52.658Z"
   },
   {
    "duration": 83,
    "start_time": "2022-01-16T16:32:53.244Z"
   },
   {
    "duration": 4,
    "start_time": "2022-01-16T16:33:02.349Z"
   },
   {
    "duration": 488,
    "start_time": "2022-01-16T16:33:02.874Z"
   },
   {
    "duration": 4,
    "start_time": "2022-01-16T16:33:41.597Z"
   },
   {
    "duration": 2867,
    "start_time": "2022-01-16T16:33:49.722Z"
   },
   {
    "duration": 639,
    "start_time": "2022-01-16T16:34:30.862Z"
   },
   {
    "duration": 54,
    "start_time": "2022-01-16T16:34:31.503Z"
   },
   {
    "duration": 20,
    "start_time": "2022-01-16T16:34:31.559Z"
   },
   {
    "duration": 10,
    "start_time": "2022-01-16T16:34:31.581Z"
   },
   {
    "duration": 9,
    "start_time": "2022-01-16T16:34:32.018Z"
   },
   {
    "duration": 7,
    "start_time": "2022-01-16T16:34:32.122Z"
   },
   {
    "duration": 9,
    "start_time": "2022-01-16T16:34:32.178Z"
   },
   {
    "duration": 8,
    "start_time": "2022-01-16T16:34:32.213Z"
   },
   {
    "duration": 12,
    "start_time": "2022-01-16T16:34:32.248Z"
   },
   {
    "duration": 4,
    "start_time": "2022-01-16T16:34:32.898Z"
   },
   {
    "duration": 5,
    "start_time": "2022-01-16T16:34:33.121Z"
   },
   {
    "duration": 13,
    "start_time": "2022-01-16T16:34:33.345Z"
   },
   {
    "duration": 15,
    "start_time": "2022-01-16T16:34:34.474Z"
   },
   {
    "duration": 17,
    "start_time": "2022-01-16T16:34:34.875Z"
   },
   {
    "duration": 18,
    "start_time": "2022-01-16T16:34:35.190Z"
   },
   {
    "duration": 34,
    "start_time": "2022-01-16T16:34:35.529Z"
   },
   {
    "duration": 5,
    "start_time": "2022-01-16T16:34:35.866Z"
   },
   {
    "duration": 12,
    "start_time": "2022-01-16T16:34:36.046Z"
   },
   {
    "duration": 5,
    "start_time": "2022-01-16T16:34:36.383Z"
   },
   {
    "duration": 6,
    "start_time": "2022-01-16T16:34:36.563Z"
   },
   {
    "duration": 10,
    "start_time": "2022-01-16T16:34:36.744Z"
   },
   {
    "duration": 9,
    "start_time": "2022-01-16T16:34:37.218Z"
   },
   {
    "duration": 11,
    "start_time": "2022-01-16T16:34:37.397Z"
   },
   {
    "duration": 29,
    "start_time": "2022-01-16T16:34:37.760Z"
   },
   {
    "duration": 7,
    "start_time": "2022-01-16T16:34:39.379Z"
   },
   {
    "duration": 3074,
    "start_time": "2022-01-16T16:34:39.885Z"
   },
   {
    "duration": 2397,
    "start_time": "2022-01-16T16:35:04.286Z"
   },
   {
    "duration": 14,
    "start_time": "2022-01-16T16:35:50.928Z"
   },
   {
    "duration": 562,
    "start_time": "2022-01-16T16:36:02.067Z"
   },
   {
    "duration": 53,
    "start_time": "2022-01-16T16:36:02.631Z"
   },
   {
    "duration": 31,
    "start_time": "2022-01-16T16:36:02.686Z"
   },
   {
    "duration": 19,
    "start_time": "2022-01-16T16:36:02.719Z"
   },
   {
    "duration": 8,
    "start_time": "2022-01-16T16:36:03.654Z"
   },
   {
    "duration": 7,
    "start_time": "2022-01-16T16:36:04.228Z"
   },
   {
    "duration": 8,
    "start_time": "2022-01-16T16:36:04.588Z"
   },
   {
    "duration": 8,
    "start_time": "2022-01-16T16:36:04.766Z"
   },
   {
    "duration": 14,
    "start_time": "2022-01-16T16:36:04.968Z"
   },
   {
    "duration": 4,
    "start_time": "2022-01-16T16:36:05.756Z"
   },
   {
    "duration": 4,
    "start_time": "2022-01-16T16:36:05.913Z"
   },
   {
    "duration": 13,
    "start_time": "2022-01-16T16:36:06.163Z"
   },
   {
    "duration": 15,
    "start_time": "2022-01-16T16:36:07.513Z"
   },
   {
    "duration": 15,
    "start_time": "2022-01-16T16:36:08.090Z"
   },
   {
    "duration": 15,
    "start_time": "2022-01-16T16:36:08.636Z"
   },
   {
    "duration": 28,
    "start_time": "2022-01-16T16:36:09.325Z"
   },
   {
    "duration": 4,
    "start_time": "2022-01-16T16:36:10.147Z"
   },
   {
    "duration": 10,
    "start_time": "2022-01-16T16:36:10.481Z"
   },
   {
    "duration": 2,
    "start_time": "2022-01-16T16:36:11.249Z"
   },
   {
    "duration": 89,
    "start_time": "2022-01-16T16:36:12.182Z"
   },
   {
    "duration": 72,
    "start_time": "2022-01-16T16:36:13.951Z"
   },
   {
    "duration": 89,
    "start_time": "2022-01-16T16:36:14.399Z"
   },
   {
    "duration": 74,
    "start_time": "2022-01-16T16:36:14.801Z"
   },
   {
    "duration": 30,
    "start_time": "2022-01-16T16:36:16.083Z"
   },
   {
    "duration": 440,
    "start_time": "2022-01-16T16:38:19.518Z"
   },
   {
    "duration": 388,
    "start_time": "2022-01-16T16:38:24.062Z"
   },
   {
    "duration": 7,
    "start_time": "2022-01-16T16:38:28.088Z"
   },
   {
    "duration": 4316,
    "start_time": "2022-01-16T16:38:28.629Z"
   },
   {
    "duration": 3766,
    "start_time": "2022-01-16T16:40:12.876Z"
   },
   {
    "duration": 3860,
    "start_time": "2022-01-16T16:40:33.429Z"
   },
   {
    "duration": 3472,
    "start_time": "2022-01-16T16:42:40.670Z"
   },
   {
    "duration": 12,
    "start_time": "2022-01-16T16:43:10.382Z"
   },
   {
    "duration": 6,
    "start_time": "2022-01-16T16:43:10.799Z"
   },
   {
    "duration": 5,
    "start_time": "2022-01-16T16:43:11.001Z"
   },
   {
    "duration": 11,
    "start_time": "2022-01-16T16:43:11.204Z"
   },
   {
    "duration": 9,
    "start_time": "2022-01-16T16:43:11.408Z"
   },
   {
    "duration": 7,
    "start_time": "2022-01-16T16:43:11.609Z"
   },
   {
    "duration": 34,
    "start_time": "2022-01-16T16:43:12.606Z"
   },
   {
    "duration": 23,
    "start_time": "2022-01-16T16:43:14.266Z"
   },
   {
    "duration": 2693,
    "start_time": "2022-01-16T16:43:40.321Z"
   },
   {
    "duration": 2376,
    "start_time": "2022-01-16T16:43:59.899Z"
   },
   {
    "duration": 2337,
    "start_time": "2022-01-16T16:44:27.310Z"
   },
   {
    "duration": 85,
    "start_time": "2022-01-16T16:45:06.134Z"
   },
   {
    "duration": 2400,
    "start_time": "2022-01-16T16:45:37.791Z"
   },
   {
    "duration": 2424,
    "start_time": "2022-01-16T16:46:09.452Z"
   },
   {
    "duration": 9,
    "start_time": "2022-01-16T16:46:33.420Z"
   },
   {
    "duration": 8,
    "start_time": "2022-01-16T16:46:37.171Z"
   },
   {
    "duration": 7,
    "start_time": "2022-01-16T16:46:38.188Z"
   },
   {
    "duration": 9,
    "start_time": "2022-01-16T16:46:46.078Z"
   },
   {
    "duration": 7,
    "start_time": "2022-01-16T16:46:46.553Z"
   },
   {
    "duration": 36,
    "start_time": "2022-01-16T16:46:47.498Z"
   },
   {
    "duration": 21,
    "start_time": "2022-01-16T16:46:49.343Z"
   },
   {
    "duration": 3452,
    "start_time": "2022-01-16T16:46:49.746Z"
   },
   {
    "duration": 9,
    "start_time": "2022-01-16T16:47:06.576Z"
   },
   {
    "duration": 8,
    "start_time": "2022-01-16T16:47:07.003Z"
   },
   {
    "duration": 46,
    "start_time": "2022-01-16T16:47:07.703Z"
   },
   {
    "duration": 655,
    "start_time": "2022-01-16T16:47:22.358Z"
   },
   {
    "duration": 54,
    "start_time": "2022-01-16T16:47:23.015Z"
   },
   {
    "duration": 22,
    "start_time": "2022-01-16T16:47:23.071Z"
   },
   {
    "duration": 28,
    "start_time": "2022-01-16T16:47:23.095Z"
   },
   {
    "duration": 11,
    "start_time": "2022-01-16T16:47:23.688Z"
   },
   {
    "duration": 8,
    "start_time": "2022-01-16T16:47:23.776Z"
   },
   {
    "duration": 8,
    "start_time": "2022-01-16T16:47:23.845Z"
   },
   {
    "duration": 7,
    "start_time": "2022-01-16T16:47:23.893Z"
   },
   {
    "duration": 13,
    "start_time": "2022-01-16T16:47:23.933Z"
   },
   {
    "duration": 4,
    "start_time": "2022-01-16T16:47:24.045Z"
   },
   {
    "duration": 5,
    "start_time": "2022-01-16T16:47:24.078Z"
   },
   {
    "duration": 13,
    "start_time": "2022-01-16T16:47:24.117Z"
   },
   {
    "duration": 17,
    "start_time": "2022-01-16T16:47:24.269Z"
   },
   {
    "duration": 15,
    "start_time": "2022-01-16T16:47:24.336Z"
   },
   {
    "duration": 23,
    "start_time": "2022-01-16T16:47:24.403Z"
   },
   {
    "duration": 45,
    "start_time": "2022-01-16T16:47:24.472Z"
   },
   {
    "duration": 4,
    "start_time": "2022-01-16T16:47:24.535Z"
   },
   {
    "duration": 13,
    "start_time": "2022-01-16T16:47:24.566Z"
   },
   {
    "duration": 6,
    "start_time": "2022-01-16T16:47:24.636Z"
   },
   {
    "duration": 5,
    "start_time": "2022-01-16T16:47:25.248Z"
   },
   {
    "duration": 10,
    "start_time": "2022-01-16T16:47:25.470Z"
   },
   {
    "duration": 9,
    "start_time": "2022-01-16T16:47:25.652Z"
   },
   {
    "duration": 8,
    "start_time": "2022-01-16T16:47:26.353Z"
   },
   {
    "duration": 43,
    "start_time": "2022-01-16T16:47:28.861Z"
   },
   {
    "duration": 29,
    "start_time": "2022-01-16T16:47:35.351Z"
   },
   {
    "duration": 7,
    "start_time": "2022-01-16T16:47:37.938Z"
   },
   {
    "duration": 2988,
    "start_time": "2022-01-16T16:47:42.789Z"
   },
   {
    "duration": 2472,
    "start_time": "2022-01-16T16:48:12.542Z"
   },
   {
    "duration": 2339,
    "start_time": "2022-01-16T16:48:27.105Z"
   },
   {
    "duration": 2478,
    "start_time": "2022-01-16T16:48:43.234Z"
   },
   {
    "duration": 499,
    "start_time": "2022-01-16T16:49:34.972Z"
   },
   {
    "duration": 435,
    "start_time": "2022-01-16T16:49:57.967Z"
   },
   {
    "duration": 542,
    "start_time": "2022-01-16T16:52:40.780Z"
   },
   {
    "duration": 51,
    "start_time": "2022-01-16T16:52:41.324Z"
   },
   {
    "duration": 20,
    "start_time": "2022-01-16T16:52:41.377Z"
   },
   {
    "duration": 11,
    "start_time": "2022-01-16T16:52:41.628Z"
   },
   {
    "duration": 13,
    "start_time": "2022-01-16T16:52:41.827Z"
   },
   {
    "duration": 8,
    "start_time": "2022-01-16T16:52:41.930Z"
   },
   {
    "duration": 7,
    "start_time": "2022-01-16T16:52:41.993Z"
   },
   {
    "duration": 8,
    "start_time": "2022-01-16T16:52:42.027Z"
   },
   {
    "duration": 11,
    "start_time": "2022-01-16T16:52:42.058Z"
   },
   {
    "duration": 4,
    "start_time": "2022-01-16T16:52:42.198Z"
   },
   {
    "duration": 4,
    "start_time": "2022-01-16T16:52:42.226Z"
   },
   {
    "duration": 11,
    "start_time": "2022-01-16T16:52:42.254Z"
   },
   {
    "duration": 15,
    "start_time": "2022-01-16T16:52:42.425Z"
   },
   {
    "duration": 16,
    "start_time": "2022-01-16T16:52:42.984Z"
   },
   {
    "duration": 17,
    "start_time": "2022-01-16T16:52:43.546Z"
   },
   {
    "duration": 30,
    "start_time": "2022-01-16T16:52:43.929Z"
   },
   {
    "duration": 5,
    "start_time": "2022-01-16T16:52:44.293Z"
   },
   {
    "duration": 11,
    "start_time": "2022-01-16T16:52:44.491Z"
   },
   {
    "duration": 6,
    "start_time": "2022-01-16T16:52:45.191Z"
   },
   {
    "duration": 8,
    "start_time": "2022-01-16T16:52:47.118Z"
   },
   {
    "duration": 476,
    "start_time": "2022-01-16T16:54:58.911Z"
   },
   {
    "duration": 4291,
    "start_time": "2022-01-16T16:55:23.837Z"
   },
   {
    "duration": 34,
    "start_time": "2022-01-16T16:56:32.416Z"
   },
   {
    "duration": 3,
    "start_time": "2022-01-16T16:57:55.834Z"
   },
   {
    "duration": 9,
    "start_time": "2022-01-16T17:05:41.810Z"
   },
   {
    "duration": 27,
    "start_time": "2022-01-16T17:06:28.037Z"
   },
   {
    "duration": 17,
    "start_time": "2022-01-16T17:06:28.284Z"
   },
   {
    "duration": 17,
    "start_time": "2022-01-16T17:07:11.395Z"
   },
   {
    "duration": 584,
    "start_time": "2022-01-16T17:07:24.721Z"
   },
   {
    "duration": 53,
    "start_time": "2022-01-16T17:07:25.307Z"
   },
   {
    "duration": 19,
    "start_time": "2022-01-16T17:07:25.362Z"
   },
   {
    "duration": 10,
    "start_time": "2022-01-16T17:07:25.383Z"
   },
   {
    "duration": 10,
    "start_time": "2022-01-16T17:07:26.365Z"
   },
   {
    "duration": 8,
    "start_time": "2022-01-16T17:07:26.903Z"
   },
   {
    "duration": 8,
    "start_time": "2022-01-16T17:07:27.285Z"
   },
   {
    "duration": 8,
    "start_time": "2022-01-16T17:07:27.489Z"
   },
   {
    "duration": 12,
    "start_time": "2022-01-16T17:07:27.682Z"
   },
   {
    "duration": 4,
    "start_time": "2022-01-16T17:07:28.525Z"
   },
   {
    "duration": 4,
    "start_time": "2022-01-16T17:07:28.725Z"
   },
   {
    "duration": 13,
    "start_time": "2022-01-16T17:07:28.975Z"
   },
   {
    "duration": 19,
    "start_time": "2022-01-16T17:07:31.449Z"
   },
   {
    "duration": 16,
    "start_time": "2022-01-16T17:07:32.439Z"
   },
   {
    "duration": 23,
    "start_time": "2022-01-16T17:07:34.125Z"
   },
   {
    "duration": 10,
    "start_time": "2022-01-16T17:07:35.275Z"
   },
   {
    "duration": 6243,
    "start_time": "2022-01-16T17:08:37.014Z"
   },
   {
    "duration": 651,
    "start_time": "2022-01-16T17:08:44.890Z"
   },
   {
    "duration": 21,
    "start_time": "2022-01-16T17:08:50.964Z"
   },
   {
    "duration": 631,
    "start_time": "2022-01-16T17:08:58.730Z"
   },
   {
    "duration": 49,
    "start_time": "2022-01-16T17:08:59.363Z"
   },
   {
    "duration": 18,
    "start_time": "2022-01-16T17:08:59.414Z"
   },
   {
    "duration": 14,
    "start_time": "2022-01-16T17:08:59.433Z"
   },
   {
    "duration": 12,
    "start_time": "2022-01-16T17:09:00.455Z"
   },
   {
    "duration": 9,
    "start_time": "2022-01-16T17:09:01.023Z"
   },
   {
    "duration": 7,
    "start_time": "2022-01-16T17:09:01.406Z"
   },
   {
    "duration": 8,
    "start_time": "2022-01-16T17:09:01.580Z"
   },
   {
    "duration": 13,
    "start_time": "2022-01-16T17:09:01.763Z"
   },
   {
    "duration": 4,
    "start_time": "2022-01-16T17:09:02.549Z"
   },
   {
    "duration": 5,
    "start_time": "2022-01-16T17:09:02.728Z"
   },
   {
    "duration": 15,
    "start_time": "2022-01-16T17:09:02.931Z"
   },
   {
    "duration": 20,
    "start_time": "2022-01-16T17:09:03.898Z"
   },
   {
    "duration": 23,
    "start_time": "2022-01-16T17:09:04.798Z"
   },
   {
    "duration": 16,
    "start_time": "2022-01-16T17:09:05.651Z"
   },
   {
    "duration": 28,
    "start_time": "2022-01-16T17:09:06.537Z"
   },
   {
    "duration": 4,
    "start_time": "2022-01-16T17:09:07.588Z"
   },
   {
    "duration": 11,
    "start_time": "2022-01-16T17:09:08.037Z"
   },
   {
    "duration": 31,
    "start_time": "2022-01-16T17:09:09.164Z"
   },
   {
    "duration": 7,
    "start_time": "2022-01-16T17:09:12.762Z"
   },
   {
    "duration": 5039,
    "start_time": "2022-01-16T17:09:13.911Z"
   },
   {
    "duration": 9,
    "start_time": "2022-01-16T17:09:24.799Z"
   },
   {
    "duration": 118,
    "start_time": "2022-01-16T17:17:14.666Z"
   },
   {
    "duration": 3484,
    "start_time": "2022-01-16T17:17:23.668Z"
   },
   {
    "duration": 8,
    "start_time": "2022-01-16T17:17:38.068Z"
   },
   {
    "duration": 5773,
    "start_time": "2022-01-16T17:19:53.490Z"
   },
   {
    "duration": 7927,
    "start_time": "2022-01-16T17:20:53.965Z"
   },
   {
    "duration": 3659,
    "start_time": "2022-01-16T17:21:12.729Z"
   },
   {
    "duration": 6,
    "start_time": "2022-01-16T17:21:18.231Z"
   },
   {
    "duration": 6515,
    "start_time": "2022-01-16T17:21:20.629Z"
   },
   {
    "duration": 440,
    "start_time": "2022-01-16T17:22:52.189Z"
   },
   {
    "duration": 8335,
    "start_time": "2022-01-16T17:22:57.196Z"
   },
   {
    "duration": 425,
    "start_time": "2022-01-16T17:26:59.098Z"
   },
   {
    "duration": 240,
    "start_time": "2022-01-16T17:28:27.095Z"
   },
   {
    "duration": 22,
    "start_time": "2022-01-16T17:28:39.707Z"
   },
   {
    "duration": 14,
    "start_time": "2022-01-16T17:28:51.721Z"
   },
   {
    "duration": 18,
    "start_time": "2022-01-16T17:29:12.422Z"
   },
   {
    "duration": 222,
    "start_time": "2022-01-16T17:36:20.561Z"
   },
   {
    "duration": 228,
    "start_time": "2022-01-16T17:36:35.290Z"
   },
   {
    "duration": 4,
    "start_time": "2022-01-16T17:36:45.843Z"
   },
   {
    "duration": 9,
    "start_time": "2022-01-16T17:36:52.681Z"
   },
   {
    "duration": 22,
    "start_time": "2022-01-16T17:39:50.212Z"
   },
   {
    "duration": 21,
    "start_time": "2022-01-16T17:40:37.753Z"
   },
   {
    "duration": 24,
    "start_time": "2022-01-16T17:45:23.086Z"
   },
   {
    "duration": 646,
    "start_time": "2022-01-16T17:45:31.627Z"
   },
   {
    "duration": 52,
    "start_time": "2022-01-16T17:45:32.274Z"
   },
   {
    "duration": 20,
    "start_time": "2022-01-16T17:45:32.328Z"
   },
   {
    "duration": 15,
    "start_time": "2022-01-16T17:45:32.350Z"
   },
   {
    "duration": 9,
    "start_time": "2022-01-16T17:45:32.390Z"
   },
   {
    "duration": 7,
    "start_time": "2022-01-16T17:45:32.514Z"
   },
   {
    "duration": 7,
    "start_time": "2022-01-16T17:45:32.564Z"
   },
   {
    "duration": 7,
    "start_time": "2022-01-16T17:45:32.595Z"
   },
   {
    "duration": 12,
    "start_time": "2022-01-16T17:45:32.631Z"
   },
   {
    "duration": 4,
    "start_time": "2022-01-16T17:45:32.764Z"
   },
   {
    "duration": 4,
    "start_time": "2022-01-16T17:45:32.801Z"
   },
   {
    "duration": 13,
    "start_time": "2022-01-16T17:45:32.830Z"
   },
   {
    "duration": 15,
    "start_time": "2022-01-16T17:45:33.898Z"
   },
   {
    "duration": 16,
    "start_time": "2022-01-16T17:45:34.370Z"
   },
   {
    "duration": 17,
    "start_time": "2022-01-16T17:45:35.584Z"
   },
   {
    "duration": 29,
    "start_time": "2022-01-16T17:45:36.183Z"
   },
   {
    "duration": 626,
    "start_time": "2022-01-16T17:45:52.775Z"
   },
   {
    "duration": 52,
    "start_time": "2022-01-16T17:45:53.403Z"
   },
   {
    "duration": 18,
    "start_time": "2022-01-16T17:45:53.457Z"
   },
   {
    "duration": 24,
    "start_time": "2022-01-16T17:45:53.477Z"
   },
   {
    "duration": 10,
    "start_time": "2022-01-16T17:45:54.328Z"
   },
   {
    "duration": 7,
    "start_time": "2022-01-16T17:46:01.597Z"
   },
   {
    "duration": 7,
    "start_time": "2022-01-16T17:46:02.382Z"
   },
   {
    "duration": 8,
    "start_time": "2022-01-16T17:46:02.651Z"
   },
   {
    "duration": 11,
    "start_time": "2022-01-16T17:46:03.304Z"
   },
   {
    "duration": 4,
    "start_time": "2022-01-16T17:46:06.275Z"
   },
   {
    "duration": 5,
    "start_time": "2022-01-16T17:46:06.499Z"
   },
   {
    "duration": 12,
    "start_time": "2022-01-16T17:46:06.714Z"
   },
   {
    "duration": 16,
    "start_time": "2022-01-16T17:46:14.623Z"
   },
   {
    "duration": 14,
    "start_time": "2022-01-16T17:46:20.336Z"
   },
   {
    "duration": 16,
    "start_time": "2022-01-16T17:47:54.678Z"
   },
   {
    "duration": 296,
    "start_time": "2022-01-16T17:49:17.682Z"
   },
   {
    "duration": 15,
    "start_time": "2022-01-16T17:49:32.622Z"
   },
   {
    "duration": 17,
    "start_time": "2022-01-16T17:49:39.305Z"
   },
   {
    "duration": 14,
    "start_time": "2022-01-16T17:51:05.008Z"
   },
   {
    "duration": 16,
    "start_time": "2022-01-16T17:51:06.541Z"
   },
   {
    "duration": 17,
    "start_time": "2022-01-16T17:51:07.620Z"
   },
   {
    "duration": 613,
    "start_time": "2022-01-16T17:53:57.610Z"
   },
   {
    "duration": 51,
    "start_time": "2022-01-16T17:53:58.225Z"
   },
   {
    "duration": 19,
    "start_time": "2022-01-16T17:53:58.278Z"
   },
   {
    "duration": 13,
    "start_time": "2022-01-16T17:53:58.299Z"
   },
   {
    "duration": 9,
    "start_time": "2022-01-16T17:53:59.117Z"
   },
   {
    "duration": 6,
    "start_time": "2022-01-16T17:53:59.610Z"
   },
   {
    "duration": 7,
    "start_time": "2022-01-16T17:54:00.019Z"
   },
   {
    "duration": 7,
    "start_time": "2022-01-16T17:54:00.221Z"
   },
   {
    "duration": 13,
    "start_time": "2022-01-16T17:54:00.421Z"
   },
   {
    "duration": 5,
    "start_time": "2022-01-16T17:54:01.345Z"
   },
   {
    "duration": 5,
    "start_time": "2022-01-16T17:54:01.566Z"
   },
   {
    "duration": 12,
    "start_time": "2022-01-16T17:54:01.777Z"
   },
   {
    "duration": 17,
    "start_time": "2022-01-16T17:54:16.262Z"
   },
   {
    "duration": 18,
    "start_time": "2022-01-16T17:54:16.850Z"
   },
   {
    "duration": 21,
    "start_time": "2022-01-16T17:54:31.157Z"
   },
   {
    "duration": 24,
    "start_time": "2022-01-16T17:54:39.730Z"
   },
   {
    "duration": 33,
    "start_time": "2022-01-16T17:55:20.280Z"
   },
   {
    "duration": 32,
    "start_time": "2022-01-16T17:55:30.132Z"
   },
   {
    "duration": 31,
    "start_time": "2022-01-16T17:55:44.323Z"
   },
   {
    "duration": 31,
    "start_time": "2022-01-16T17:57:30.886Z"
   },
   {
    "duration": 15,
    "start_time": "2022-01-16T18:02:56.608Z"
   },
   {
    "duration": 18,
    "start_time": "2022-01-16T18:02:57.657Z"
   },
   {
    "duration": 18,
    "start_time": "2022-01-16T18:03:09.244Z"
   },
   {
    "duration": 17,
    "start_time": "2022-01-16T18:03:10.040Z"
   },
   {
    "duration": 32,
    "start_time": "2022-01-16T18:03:31.472Z"
   },
   {
    "duration": -1582,
    "start_time": "2022-01-16T18:19:50.826Z"
   },
   {
    "duration": 7169,
    "start_time": "2022-01-16T18:19:51.936Z"
   },
   {
    "duration": -1608,
    "start_time": "2022-01-16T18:20:00.715Z"
   },
   {
    "duration": 6,
    "start_time": "2022-01-16T18:20:02.399Z"
   },
   {
    "duration": 4497,
    "start_time": "2022-01-16T18:20:03.173Z"
   },
   {
    "duration": 8,
    "start_time": "2022-01-16T18:20:09.936Z"
   },
   {
    "duration": 8,
    "start_time": "2022-01-16T18:20:24.379Z"
   },
   {
    "duration": 7,
    "start_time": "2022-01-16T18:20:29.916Z"
   },
   {
    "duration": 464,
    "start_time": "2022-01-16T18:20:34.460Z"
   },
   {
    "duration": 8,
    "start_time": "2022-01-16T18:20:35.363Z"
   },
   {
    "duration": 3511,
    "start_time": "2022-01-16T18:21:46.756Z"
   },
   {
    "duration": 20,
    "start_time": "2022-01-16T18:25:04.270Z"
   },
   {
    "duration": 36,
    "start_time": "2022-01-16T18:25:16.994Z"
   },
   {
    "duration": 7,
    "start_time": "2022-01-16T18:27:04.592Z"
   },
   {
    "duration": 7,
    "start_time": "2022-01-16T18:27:32.132Z"
   },
   {
    "duration": 5,
    "start_time": "2022-01-16T18:27:44.078Z"
   },
   {
    "duration": 21,
    "start_time": "2022-01-16T18:30:45.591Z"
   },
   {
    "duration": 13,
    "start_time": "2022-01-16T18:31:00.842Z"
   },
   {
    "duration": 592,
    "start_time": "2022-01-16T18:31:17.539Z"
   },
   {
    "duration": 50,
    "start_time": "2022-01-16T18:31:18.133Z"
   },
   {
    "duration": 18,
    "start_time": "2022-01-16T18:31:18.185Z"
   },
   {
    "duration": 12,
    "start_time": "2022-01-16T18:31:25.257Z"
   },
   {
    "duration": 9,
    "start_time": "2022-01-16T18:31:26.876Z"
   },
   {
    "duration": 8,
    "start_time": "2022-01-16T18:31:27.454Z"
   },
   {
    "duration": 7,
    "start_time": "2022-01-16T18:31:27.549Z"
   },
   {
    "duration": 8,
    "start_time": "2022-01-16T18:31:27.586Z"
   },
   {
    "duration": 12,
    "start_time": "2022-01-16T18:31:27.632Z"
   },
   {
    "duration": 4,
    "start_time": "2022-01-16T18:31:27.762Z"
   },
   {
    "duration": 4,
    "start_time": "2022-01-16T18:31:27.788Z"
   },
   {
    "duration": 11,
    "start_time": "2022-01-16T18:31:27.827Z"
   },
   {
    "duration": 15,
    "start_time": "2022-01-16T18:31:27.981Z"
   },
   {
    "duration": 16,
    "start_time": "2022-01-16T18:31:28.054Z"
   },
   {
    "duration": 15,
    "start_time": "2022-01-16T18:31:28.114Z"
   },
   {
    "duration": 28,
    "start_time": "2022-01-16T18:31:28.185Z"
   },
   {
    "duration": 5,
    "start_time": "2022-01-16T18:31:28.241Z"
   },
   {
    "duration": 11,
    "start_time": "2022-01-16T18:31:28.277Z"
   },
   {
    "duration": 31,
    "start_time": "2022-01-16T18:31:28.349Z"
   },
   {
    "duration": 6,
    "start_time": "2022-01-16T18:31:28.508Z"
   },
   {
    "duration": 4326,
    "start_time": "2022-01-16T18:31:28.578Z"
   },
   {
    "duration": 7,
    "start_time": "2022-01-16T18:31:32.907Z"
   },
   {
    "duration": 15,
    "start_time": "2022-01-16T18:31:35.201Z"
   },
   {
    "duration": 3279,
    "start_time": "2022-01-16T18:33:17.732Z"
   },
   {
    "duration": 6,
    "start_time": "2022-01-16T18:33:21.013Z"
   },
   {
    "duration": 432,
    "start_time": "2022-01-16T18:33:21.020Z"
   },
   {
    "duration": 7,
    "start_time": "2022-01-16T18:33:21.453Z"
   },
   {
    "duration": 424,
    "start_time": "2022-01-16T18:43:31.276Z"
   },
   {
    "duration": 626,
    "start_time": "2022-01-16T19:27:53.837Z"
   },
   {
    "duration": 301,
    "start_time": "2022-01-16T19:28:00.298Z"
   },
   {
    "duration": 717,
    "start_time": "2022-01-16T19:28:14.957Z"
   },
   {
    "duration": 239,
    "start_time": "2022-01-16T19:28:27.850Z"
   },
   {
    "duration": 235,
    "start_time": "2022-01-16T19:28:34.778Z"
   },
   {
    "duration": 3,
    "start_time": "2022-01-16T19:28:50.712Z"
   },
   {
    "duration": 48,
    "start_time": "2022-01-16T19:28:50.914Z"
   },
   {
    "duration": 13,
    "start_time": "2022-01-16T19:28:51.104Z"
   },
   {
    "duration": 11,
    "start_time": "2022-01-16T19:28:51.282Z"
   },
   {
    "duration": 10,
    "start_time": "2022-01-16T19:28:52.486Z"
   },
   {
    "duration": 8,
    "start_time": "2022-01-16T19:28:53.075Z"
   },
   {
    "duration": 6,
    "start_time": "2022-01-16T19:28:53.589Z"
   },
   {
    "duration": 7,
    "start_time": "2022-01-16T19:28:53.768Z"
   },
   {
    "duration": 10,
    "start_time": "2022-01-16T19:28:53.948Z"
   },
   {
    "duration": 4,
    "start_time": "2022-01-16T19:28:54.661Z"
   },
   {
    "duration": 4,
    "start_time": "2022-01-16T19:28:54.847Z"
   },
   {
    "duration": 12,
    "start_time": "2022-01-16T19:28:55.054Z"
   },
   {
    "duration": 14,
    "start_time": "2022-01-16T19:28:55.959Z"
   },
   {
    "duration": 16,
    "start_time": "2022-01-16T19:28:56.357Z"
   },
   {
    "duration": 15,
    "start_time": "2022-01-16T19:28:56.808Z"
   },
   {
    "duration": 28,
    "start_time": "2022-01-16T19:28:57.188Z"
   },
   {
    "duration": 5,
    "start_time": "2022-01-16T19:28:57.575Z"
   },
   {
    "duration": 11,
    "start_time": "2022-01-16T19:28:57.733Z"
   },
   {
    "duration": 30,
    "start_time": "2022-01-16T19:28:58.286Z"
   },
   {
    "duration": 25,
    "start_time": "2022-01-16T19:28:59.994Z"
   },
   {
    "duration": 4217,
    "start_time": "2022-01-16T19:29:01.037Z"
   },
   {
    "duration": 7,
    "start_time": "2022-01-16T19:29:06.872Z"
   },
   {
    "duration": 433,
    "start_time": "2022-01-16T19:29:08.860Z"
   },
   {
    "duration": 7,
    "start_time": "2022-01-16T19:29:10.479Z"
   },
   {
    "duration": 391,
    "start_time": "2022-01-16T19:29:12.090Z"
   },
   {
    "duration": 261,
    "start_time": "2022-01-16T19:29:31.146Z"
   },
   {
    "duration": 251,
    "start_time": "2022-01-16T19:31:30.207Z"
   },
   {
    "duration": 235,
    "start_time": "2022-01-16T19:33:40.939Z"
   },
   {
    "duration": 20,
    "start_time": "2022-01-16T19:33:51.555Z"
   },
   {
    "duration": 16,
    "start_time": "2022-01-16T19:34:03.031Z"
   },
   {
    "duration": 19,
    "start_time": "2022-01-16T19:34:15.135Z"
   },
   {
    "duration": 26,
    "start_time": "2022-01-16T19:34:29.837Z"
   },
   {
    "duration": 570,
    "start_time": "2022-01-16T19:40:00.572Z"
   },
   {
    "duration": 8,
    "start_time": "2022-01-16T19:40:05.392Z"
   },
   {
    "duration": 572,
    "start_time": "2022-01-16T19:44:27.044Z"
   },
   {
    "duration": 8,
    "start_time": "2022-01-16T19:44:30.469Z"
   },
   {
    "duration": 8,
    "start_time": "2022-01-16T19:45:24.466Z"
   },
   {
    "duration": 25,
    "start_time": "2022-01-16T19:46:33.405Z"
   },
   {
    "duration": 22,
    "start_time": "2022-01-16T19:48:17.533Z"
   },
   {
    "duration": 104,
    "start_time": "2022-01-16T19:54:36.567Z"
   },
   {
    "duration": 133,
    "start_time": "2022-01-17T14:16:44.997Z"
   },
   {
    "duration": 128,
    "start_time": "2022-01-17T14:18:17.698Z"
   },
   {
    "duration": 438,
    "start_time": "2022-01-17T14:18:27.519Z"
   },
   {
    "duration": 437,
    "start_time": "2022-01-17T14:19:26.805Z"
   },
   {
    "duration": 912,
    "start_time": "2022-01-17T14:19:34.457Z"
   },
   {
    "duration": 66,
    "start_time": "2022-01-17T14:19:35.372Z"
   },
   {
    "duration": 37,
    "start_time": "2022-01-17T14:19:35.441Z"
   },
   {
    "duration": 19,
    "start_time": "2022-01-17T14:19:35.480Z"
   },
   {
    "duration": 12,
    "start_time": "2022-01-17T14:19:35.941Z"
   },
   {
    "duration": 11,
    "start_time": "2022-01-17T14:19:36.414Z"
   },
   {
    "duration": 9,
    "start_time": "2022-01-17T14:19:36.884Z"
   },
   {
    "duration": 9,
    "start_time": "2022-01-17T14:19:37.043Z"
   },
   {
    "duration": 15,
    "start_time": "2022-01-17T14:19:37.223Z"
   },
   {
    "duration": 4,
    "start_time": "2022-01-17T14:19:37.899Z"
   },
   {
    "duration": 5,
    "start_time": "2022-01-17T14:19:38.054Z"
   },
   {
    "duration": 15,
    "start_time": "2022-01-17T14:19:38.235Z"
   },
   {
    "duration": 32,
    "start_time": "2022-01-17T14:19:39.114Z"
   },
   {
    "duration": 36,
    "start_time": "2022-01-17T14:19:39.766Z"
   },
   {
    "duration": 33,
    "start_time": "2022-01-17T14:19:40.261Z"
   },
   {
    "duration": 62,
    "start_time": "2022-01-17T14:19:40.647Z"
   },
   {
    "duration": 8,
    "start_time": "2022-01-17T14:19:41.026Z"
   },
   {
    "duration": 25,
    "start_time": "2022-01-17T14:19:41.228Z"
   },
   {
    "duration": 66,
    "start_time": "2022-01-17T14:19:41.633Z"
   },
   {
    "duration": 11,
    "start_time": "2022-01-17T14:19:43.052Z"
   },
   {
    "duration": 6971,
    "start_time": "2022-01-17T14:19:44.648Z"
   },
   {
    "duration": 14,
    "start_time": "2022-01-17T14:19:53.314Z"
   },
   {
    "duration": 1014,
    "start_time": "2022-01-17T14:19:56.618Z"
   },
   {
    "duration": 10,
    "start_time": "2022-01-17T14:19:59.273Z"
   },
   {
    "duration": 567,
    "start_time": "2022-01-17T14:20:01.254Z"
   },
   {
    "duration": 698,
    "start_time": "2022-01-17T14:20:30.932Z"
   },
   {
    "duration": 451,
    "start_time": "2022-01-17T14:20:41.641Z"
   },
   {
    "duration": 10,
    "start_time": "2022-01-17T14:21:33.167Z"
   },
   {
    "duration": 10,
    "start_time": "2022-01-17T14:21:46.149Z"
   },
   {
    "duration": 10,
    "start_time": "2022-01-17T14:21:59.446Z"
   },
   {
    "duration": 433,
    "start_time": "2022-01-17T14:33:03.921Z"
   },
   {
    "duration": 9,
    "start_time": "2022-01-17T14:34:01.024Z"
   },
   {
    "duration": 446,
    "start_time": "2022-01-17T14:47:20.424Z"
   },
   {
    "duration": 5917,
    "start_time": "2022-01-17T14:47:33.608Z"
   },
   {
    "duration": 363,
    "start_time": "2022-01-17T14:47:57.397Z"
   },
   {
    "duration": 1021,
    "start_time": "2022-01-17T14:48:17.038Z"
   },
   {
    "duration": 1022,
    "start_time": "2022-01-17T14:48:55.605Z"
   },
   {
    "duration": 807,
    "start_time": "2022-01-17T14:49:21.083Z"
   },
   {
    "duration": 64,
    "start_time": "2022-01-17T14:49:21.893Z"
   },
   {
    "duration": 31,
    "start_time": "2022-01-17T14:49:21.960Z"
   },
   {
    "duration": 15,
    "start_time": "2022-01-17T14:49:21.993Z"
   },
   {
    "duration": 14,
    "start_time": "2022-01-17T14:49:22.473Z"
   },
   {
    "duration": 10,
    "start_time": "2022-01-17T14:49:22.930Z"
   },
   {
    "duration": 10,
    "start_time": "2022-01-17T14:49:23.756Z"
   },
   {
    "duration": 10,
    "start_time": "2022-01-17T14:49:23.802Z"
   },
   {
    "duration": 15,
    "start_time": "2022-01-17T14:49:23.841Z"
   },
   {
    "duration": 5,
    "start_time": "2022-01-17T14:49:23.963Z"
   },
   {
    "duration": 5,
    "start_time": "2022-01-17T14:49:23.998Z"
   },
   {
    "duration": 15,
    "start_time": "2022-01-17T14:49:24.027Z"
   },
   {
    "duration": 25,
    "start_time": "2022-01-17T14:49:24.188Z"
   },
   {
    "duration": 27,
    "start_time": "2022-01-17T14:49:24.261Z"
   },
   {
    "duration": 23,
    "start_time": "2022-01-17T14:49:24.324Z"
   },
   {
    "duration": 47,
    "start_time": "2022-01-17T14:49:25.129Z"
   },
   {
    "duration": 7,
    "start_time": "2022-01-17T14:49:25.510Z"
   },
   {
    "duration": 23,
    "start_time": "2022-01-17T14:49:25.690Z"
   },
   {
    "duration": 65,
    "start_time": "2022-01-17T14:49:26.205Z"
   },
   {
    "duration": 10,
    "start_time": "2022-01-17T14:49:27.378Z"
   },
   {
    "duration": 6364,
    "start_time": "2022-01-17T14:49:28.257Z"
   },
   {
    "duration": 10,
    "start_time": "2022-01-17T14:49:35.751Z"
   },
   {
    "duration": 973,
    "start_time": "2022-01-17T14:49:37.549Z"
   },
   {
    "duration": 11,
    "start_time": "2022-01-17T14:49:56.898Z"
   },
   {
    "duration": 410,
    "start_time": "2022-01-17T14:50:34.212Z"
   },
   {
    "duration": 10,
    "start_time": "2022-01-17T14:50:49.146Z"
   },
   {
    "duration": 482,
    "start_time": "2022-01-17T14:51:20.379Z"
   },
   {
    "duration": 13,
    "start_time": "2022-01-17T14:51:29.689Z"
   },
   {
    "duration": 31,
    "start_time": "2022-01-17T14:52:58.136Z"
   },
   {
    "duration": 29,
    "start_time": "2022-01-17T14:53:17.261Z"
   },
   {
    "duration": 30,
    "start_time": "2022-01-17T14:53:43.361Z"
   },
   {
    "duration": 40,
    "start_time": "2022-01-17T14:53:52.813Z"
   },
   {
    "duration": 30,
    "start_time": "2022-01-17T14:54:03.545Z"
   },
   {
    "duration": 28,
    "start_time": "2022-01-17T14:54:09.940Z"
   },
   {
    "duration": 30,
    "start_time": "2022-01-17T14:54:22.579Z"
   },
   {
    "duration": 31,
    "start_time": "2022-01-17T14:54:26.563Z"
   },
   {
    "duration": 36,
    "start_time": "2022-01-17T14:54:31.602Z"
   },
   {
    "duration": -2139,
    "start_time": "2022-01-17T14:56:13.375Z"
   },
   {
    "duration": -2066,
    "start_time": "2022-01-17T14:56:48.945Z"
   },
   {
    "duration": -2069,
    "start_time": "2022-01-17T14:57:25.645Z"
   },
   {
    "duration": -2068,
    "start_time": "2022-01-17T14:57:49.089Z"
   },
   {
    "duration": -2067,
    "start_time": "2022-01-17T14:58:05.033Z"
   },
   {
    "duration": 9656,
    "start_time": "2022-01-17T14:59:37.445Z"
   },
   {
    "duration": 10154,
    "start_time": "2022-01-17T14:59:49.616Z"
   },
   {
    "duration": 833,
    "start_time": "2022-01-17T15:00:03.953Z"
   },
   {
    "duration": 66,
    "start_time": "2022-01-17T15:00:04.789Z"
   },
   {
    "duration": 31,
    "start_time": "2022-01-17T15:00:04.858Z"
   },
   {
    "duration": 21,
    "start_time": "2022-01-17T15:00:04.892Z"
   },
   {
    "duration": 21,
    "start_time": "2022-01-17T15:00:04.915Z"
   },
   {
    "duration": 26,
    "start_time": "2022-01-17T15:00:04.939Z"
   },
   {
    "duration": 13,
    "start_time": "2022-01-17T15:00:04.968Z"
   },
   {
    "duration": 14,
    "start_time": "2022-01-17T15:00:04.987Z"
   },
   {
    "duration": 23,
    "start_time": "2022-01-17T15:00:05.004Z"
   },
   {
    "duration": 4,
    "start_time": "2022-01-17T15:00:05.030Z"
   },
   {
    "duration": 25,
    "start_time": "2022-01-17T15:00:05.037Z"
   },
   {
    "duration": 27,
    "start_time": "2022-01-17T15:00:05.065Z"
   },
   {
    "duration": 23,
    "start_time": "2022-01-17T15:00:05.095Z"
   },
   {
    "duration": 59,
    "start_time": "2022-01-17T15:00:05.120Z"
   },
   {
    "duration": 24,
    "start_time": "2022-01-17T15:00:05.182Z"
   },
   {
    "duration": 77,
    "start_time": "2022-01-17T15:00:05.209Z"
   },
   {
    "duration": 6,
    "start_time": "2022-01-17T15:00:05.289Z"
   },
   {
    "duration": 16,
    "start_time": "2022-01-17T15:00:05.298Z"
   },
   {
    "duration": 79,
    "start_time": "2022-01-17T15:00:05.317Z"
   },
   {
    "duration": 6,
    "start_time": "2022-01-17T15:00:05.399Z"
   },
   {
    "duration": 6554,
    "start_time": "2022-01-17T15:00:05.408Z"
   },
   {
    "duration": 9,
    "start_time": "2022-01-17T15:00:11.965Z"
   },
   {
    "duration": 993,
    "start_time": "2022-01-17T15:00:11.979Z"
   },
   {
    "duration": 10,
    "start_time": "2022-01-17T15:00:12.975Z"
   },
   {
    "duration": 419,
    "start_time": "2022-01-17T15:00:12.988Z"
   },
   {
    "duration": 410,
    "start_time": "2022-01-17T15:00:13.422Z"
   },
   {
    "duration": 24,
    "start_time": "2022-01-17T15:00:13.834Z"
   },
   {
    "duration": 9242,
    "start_time": "2022-01-17T15:00:13.860Z"
   },
   {
    "duration": -2061,
    "start_time": "2022-01-17T15:00:25.166Z"
   },
   {
    "duration": 9612,
    "start_time": "2022-01-17T15:01:11.094Z"
   },
   {
    "duration": 28,
    "start_time": "2022-01-17T15:01:25.646Z"
   },
   {
    "duration": -2063,
    "start_time": "2022-01-17T15:02:25.037Z"
   },
   {
    "duration": 10792,
    "start_time": "2022-01-17T15:02:39.334Z"
   },
   {
    "duration": 10,
    "start_time": "2022-01-17T15:03:12.926Z"
   },
   {
    "duration": 9623,
    "start_time": "2022-01-17T15:03:21.701Z"
   },
   {
    "duration": 427,
    "start_time": "2022-01-17T15:05:25.615Z"
   },
   {
    "duration": -2067,
    "start_time": "2022-01-17T15:05:59.398Z"
   },
   {
    "duration": 124,
    "start_time": "2022-01-17T15:06:01.116Z"
   },
   {
    "duration": 9929,
    "start_time": "2022-01-17T15:06:08.247Z"
   },
   {
    "duration": 126,
    "start_time": "2022-01-17T15:06:23.953Z"
   },
   {
    "duration": 116,
    "start_time": "2022-01-17T15:06:48.796Z"
   },
   {
    "duration": 116,
    "start_time": "2022-01-17T15:06:54.686Z"
   },
   {
    "duration": 333,
    "start_time": "2022-01-17T15:07:01.597Z"
   },
   {
    "duration": 30,
    "start_time": "2022-01-17T15:07:05.825Z"
   },
   {
    "duration": -2061,
    "start_time": "2022-01-17T15:10:27.841Z"
   },
   {
    "duration": 1935,
    "start_time": "2022-01-17T15:11:03.628Z"
   },
   {
    "duration": 32,
    "start_time": "2022-01-17T15:11:20.346Z"
   },
   {
    "duration": 389,
    "start_time": "2022-01-17T15:13:39.898Z"
   },
   {
    "duration": 10249,
    "start_time": "2022-01-17T15:13:54.676Z"
   },
   {
    "duration": 9768,
    "start_time": "2022-01-17T15:14:10.763Z"
   },
   {
    "duration": 9026,
    "start_time": "2022-01-17T15:14:21.517Z"
   },
   {
    "duration": 10010,
    "start_time": "2022-01-17T15:16:00.336Z"
   },
   {
    "duration": 483,
    "start_time": "2022-01-17T15:16:57.576Z"
   },
   {
    "duration": 9389,
    "start_time": "2022-01-17T15:17:01.403Z"
   },
   {
    "duration": 28,
    "start_time": "2022-01-17T15:17:36.299Z"
   },
   {
    "duration": 402,
    "start_time": "2022-01-17T15:21:04.379Z"
   },
   {
    "duration": -2063,
    "start_time": "2022-01-17T15:21:36.098Z"
   },
   {
    "duration": 9560,
    "start_time": "2022-01-17T15:21:36.106Z"
   },
   {
    "duration": 9880,
    "start_time": "2022-01-17T15:22:43.016Z"
   },
   {
    "duration": 10286,
    "start_time": "2022-01-17T15:22:54.314Z"
   },
   {
    "duration": 31,
    "start_time": "2022-01-17T15:23:05.525Z"
   },
   {
    "duration": 9182,
    "start_time": "2022-01-17T15:24:17.542Z"
   },
   {
    "duration": 9996,
    "start_time": "2022-01-17T15:24:46.320Z"
   },
   {
    "duration": 10080,
    "start_time": "2022-01-17T15:25:09.945Z"
   },
   {
    "duration": 9539,
    "start_time": "2022-01-17T15:25:33.099Z"
   },
   {
    "duration": 8984,
    "start_time": "2022-01-17T15:25:43.109Z"
   },
   {
    "duration": 29,
    "start_time": "2022-01-17T15:26:05.881Z"
   },
   {
    "duration": 37,
    "start_time": "2022-01-17T15:32:33.052Z"
   },
   {
    "duration": 34,
    "start_time": "2022-01-17T15:44:55.309Z"
   },
   {
    "duration": 35,
    "start_time": "2022-01-17T15:45:50.492Z"
   },
   {
    "duration": 35,
    "start_time": "2022-01-17T15:47:00.413Z"
   },
   {
    "duration": 33,
    "start_time": "2022-01-17T15:47:14.838Z"
   },
   {
    "duration": 33,
    "start_time": "2022-01-17T15:48:04.833Z"
   },
   {
    "duration": 34,
    "start_time": "2022-01-17T15:49:08.130Z"
   },
   {
    "duration": 35,
    "start_time": "2022-01-17T15:49:21.445Z"
   },
   {
    "duration": 34,
    "start_time": "2022-01-17T15:53:08.560Z"
   },
   {
    "duration": 36,
    "start_time": "2022-01-17T15:53:29.641Z"
   },
   {
    "duration": 37,
    "start_time": "2022-01-17T15:57:05.194Z"
   },
   {
    "duration": 35,
    "start_time": "2022-01-17T16:00:54.328Z"
   },
   {
    "duration": 36,
    "start_time": "2022-01-17T16:01:37.153Z"
   },
   {
    "duration": 35,
    "start_time": "2022-01-17T16:01:56.829Z"
   },
   {
    "duration": 36,
    "start_time": "2022-01-17T16:01:58.143Z"
   },
   {
    "duration": 38,
    "start_time": "2022-01-17T16:01:59.652Z"
   },
   {
    "duration": 463,
    "start_time": "2022-01-17T16:41:07.734Z"
   },
   {
    "duration": 994,
    "start_time": "2022-01-17T16:41:11.114Z"
   },
   {
    "duration": 64,
    "start_time": "2022-01-17T16:41:12.111Z"
   },
   {
    "duration": 33,
    "start_time": "2022-01-17T16:41:12.178Z"
   },
   {
    "duration": 46,
    "start_time": "2022-01-17T16:41:12.215Z"
   },
   {
    "duration": 13,
    "start_time": "2022-01-17T16:41:15.746Z"
   },
   {
    "duration": 10,
    "start_time": "2022-01-17T16:41:57.438Z"
   },
   {
    "duration": 421,
    "start_time": "2022-01-17T16:44:13.306Z"
   },
   {
    "duration": 9,
    "start_time": "2022-01-17T16:44:33.052Z"
   },
   {
    "duration": 10,
    "start_time": "2022-01-17T16:44:33.859Z"
   },
   {
    "duration": 10,
    "start_time": "2022-01-17T16:44:34.241Z"
   },
   {
    "duration": 486,
    "start_time": "2022-01-17T16:44:35.433Z"
   },
   {
    "duration": 16,
    "start_time": "2022-01-17T16:45:43.074Z"
   },
   {
    "duration": 15,
    "start_time": "2022-01-17T16:45:46.989Z"
   },
   {
    "duration": 15,
    "start_time": "2022-01-17T16:45:47.524Z"
   },
   {
    "duration": 13,
    "start_time": "2022-01-17T16:46:28.449Z"
   },
   {
    "duration": 21,
    "start_time": "2022-01-17T16:56:16.647Z"
   },
   {
    "duration": 15,
    "start_time": "2022-01-17T16:56:24.211Z"
   },
   {
    "duration": 12,
    "start_time": "2022-01-17T16:56:28.978Z"
   },
   {
    "duration": 13,
    "start_time": "2022-01-17T16:56:44.997Z"
   },
   {
    "duration": 7,
    "start_time": "2022-01-17T16:56:45.536Z"
   },
   {
    "duration": 19,
    "start_time": "2022-01-17T16:56:46.190Z"
   },
   {
    "duration": 47,
    "start_time": "2022-01-17T16:56:47.246Z"
   },
   {
    "duration": 414,
    "start_time": "2022-01-17T17:04:45.632Z"
   },
   {
    "duration": 10,
    "start_time": "2022-01-17T17:04:47.127Z"
   },
   {
    "duration": 396,
    "start_time": "2022-01-17T17:04:47.892Z"
   },
   {
    "duration": 9,
    "start_time": "2022-01-17T17:04:48.291Z"
   },
   {
    "duration": 44,
    "start_time": "2022-01-17T17:04:49.317Z"
   },
   {
    "duration": 56,
    "start_time": "2022-01-17T17:04:55.014Z"
   },
   {
    "duration": 396,
    "start_time": "2022-01-17T17:04:58.805Z"
   },
   {
    "duration": 36,
    "start_time": "2022-01-17T17:05:04.296Z"
   },
   {
    "duration": 428,
    "start_time": "2022-01-17T17:05:05.803Z"
   },
   {
    "duration": 935,
    "start_time": "2022-01-17T17:05:27.693Z"
   },
   {
    "duration": 66,
    "start_time": "2022-01-17T17:05:28.630Z"
   },
   {
    "duration": 34,
    "start_time": "2022-01-17T17:05:28.699Z"
   },
   {
    "duration": 38,
    "start_time": "2022-01-17T17:05:28.737Z"
   },
   {
    "duration": 16,
    "start_time": "2022-01-17T17:05:28.777Z"
   },
   {
    "duration": 13,
    "start_time": "2022-01-17T17:05:28.796Z"
   },
   {
    "duration": 51,
    "start_time": "2022-01-17T17:05:28.812Z"
   },
   {
    "duration": 10,
    "start_time": "2022-01-17T17:05:28.866Z"
   },
   {
    "duration": 18,
    "start_time": "2022-01-17T17:05:28.879Z"
   },
   {
    "duration": 16,
    "start_time": "2022-01-17T17:05:28.899Z"
   },
   {
    "duration": 41,
    "start_time": "2022-01-17T17:05:28.921Z"
   },
   {
    "duration": 7,
    "start_time": "2022-01-17T17:05:28.965Z"
   },
   {
    "duration": 17,
    "start_time": "2022-01-17T17:05:28.986Z"
   },
   {
    "duration": 22,
    "start_time": "2022-01-17T17:05:29.719Z"
   },
   {
    "duration": 26,
    "start_time": "2022-01-17T17:05:30.031Z"
   },
   {
    "duration": 25,
    "start_time": "2022-01-17T17:05:30.323Z"
   },
   {
    "duration": 44,
    "start_time": "2022-01-17T17:05:30.643Z"
   },
   {
    "duration": 12,
    "start_time": "2022-01-17T17:05:30.931Z"
   },
   {
    "duration": 7,
    "start_time": "2022-01-17T17:05:31.268Z"
   },
   {
    "duration": 17,
    "start_time": "2022-01-17T17:05:31.425Z"
   },
   {
    "duration": 46,
    "start_time": "2022-01-17T17:05:31.741Z"
   },
   {
    "duration": 10,
    "start_time": "2022-01-17T17:05:32.507Z"
   },
   {
    "duration": 6290,
    "start_time": "2022-01-17T17:05:32.822Z"
   },
   {
    "duration": 11,
    "start_time": "2022-01-17T17:05:40.268Z"
   },
   {
    "duration": 1622,
    "start_time": "2022-01-17T17:05:41.777Z"
   },
   {
    "duration": 9,
    "start_time": "2022-01-17T17:05:43.402Z"
   },
   {
    "duration": 456,
    "start_time": "2022-01-17T17:05:46.458Z"
   },
   {
    "duration": 11,
    "start_time": "2022-01-17T17:05:48.232Z"
   },
   {
    "duration": 448,
    "start_time": "2022-01-17T17:05:51.339Z"
   },
   {
    "duration": 10,
    "start_time": "2022-01-17T17:05:52.509Z"
   },
   {
    "duration": 48,
    "start_time": "2022-01-17T17:05:54.534Z"
   },
   {
    "duration": 47,
    "start_time": "2022-01-17T17:05:56.492Z"
   },
   {
    "duration": 37,
    "start_time": "2022-01-17T17:05:58.317Z"
   },
   {
    "duration": 1115,
    "start_time": "2022-01-17T17:30:00.993Z"
   },
   {
    "duration": 73,
    "start_time": "2022-01-17T17:30:02.111Z"
   },
   {
    "duration": 90,
    "start_time": "2022-01-17T17:30:23.005Z"
   },
   {
    "duration": 16,
    "start_time": "2022-01-17T17:31:06.155Z"
   },
   {
    "duration": 13,
    "start_time": "2022-01-17T17:31:14.136Z"
   },
   {
    "duration": 9,
    "start_time": "2022-01-17T17:31:23.294Z"
   },
   {
    "duration": 12,
    "start_time": "2022-01-17T17:31:24.019Z"
   },
   {
    "duration": 15,
    "start_time": "2022-01-17T17:31:24.315Z"
   },
   {
    "duration": 17,
    "start_time": "2022-01-17T17:31:27.428Z"
   },
   {
    "duration": 15,
    "start_time": "2022-01-17T17:31:28.338Z"
   },
   {
    "duration": 5,
    "start_time": "2022-01-17T17:31:30.814Z"
   },
   {
    "duration": 6,
    "start_time": "2022-01-17T17:31:31.040Z"
   },
   {
    "duration": 17,
    "start_time": "2022-01-17T17:31:31.270Z"
   },
   {
    "duration": 23,
    "start_time": "2022-01-17T17:31:34.509Z"
   },
   {
    "duration": 27,
    "start_time": "2022-01-17T17:31:37.318Z"
   },
   {
    "duration": 23,
    "start_time": "2022-01-17T17:31:47.150Z"
   },
   {
    "duration": 47,
    "start_time": "2022-01-17T17:31:48.880Z"
   },
   {
    "duration": 13,
    "start_time": "2022-01-17T17:31:58.442Z"
   },
   {
    "duration": 8,
    "start_time": "2022-01-17T17:32:01.621Z"
   },
   {
    "duration": 18,
    "start_time": "2022-01-17T17:32:02.179Z"
   },
   {
    "duration": 50,
    "start_time": "2022-01-17T17:32:05.082Z"
   },
   {
    "duration": 10,
    "start_time": "2022-01-17T17:32:07.624Z"
   },
   {
    "duration": 6236,
    "start_time": "2022-01-17T17:32:10.330Z"
   },
   {
    "duration": 14,
    "start_time": "2022-01-17T17:32:16.570Z"
   },
   {
    "duration": 5742,
    "start_time": "2022-01-17T17:32:17.953Z"
   },
   {
    "duration": 10,
    "start_time": "2022-01-17T17:32:23.698Z"
   },
   {
    "duration": 1045,
    "start_time": "2022-01-17T17:32:29.788Z"
   },
   {
    "duration": 15,
    "start_time": "2022-01-17T17:32:31.610Z"
   },
   {
    "duration": 450,
    "start_time": "2022-01-17T17:32:33.141Z"
   },
   {
    "duration": 10,
    "start_time": "2022-01-17T17:32:34.782Z"
   },
   {
    "duration": 421,
    "start_time": "2022-01-17T17:32:36.625Z"
   },
   {
    "duration": 10,
    "start_time": "2022-01-17T17:32:38.134Z"
   },
   {
    "duration": 40,
    "start_time": "2022-01-17T17:32:42.927Z"
   },
   {
    "duration": 11,
    "start_time": "2022-01-17T17:33:33.262Z"
   },
   {
    "duration": 33,
    "start_time": "2022-01-17T17:33:34.994Z"
   },
   {
    "duration": 37,
    "start_time": "2022-01-17T17:33:36.277Z"
   },
   {
    "duration": 36,
    "start_time": "2022-01-17T17:33:37.499Z"
   },
   {
    "duration": 35,
    "start_time": "2022-01-17T17:33:38.664Z"
   },
   {
    "duration": 866,
    "start_time": "2022-01-20T18:16:45.409Z"
   },
   {
    "duration": 16,
    "start_time": "2022-01-20T18:16:46.277Z"
   },
   {
    "duration": 25,
    "start_time": "2022-01-20T18:16:46.296Z"
   },
   {
    "duration": 10,
    "start_time": "2022-01-20T18:16:46.324Z"
   },
   {
    "duration": 36,
    "start_time": "2022-01-20T18:16:46.337Z"
   },
   {
    "duration": 10,
    "start_time": "2022-01-20T18:16:46.375Z"
   },
   {
    "duration": 25,
    "start_time": "2022-01-20T18:16:46.387Z"
   },
   {
    "duration": 23,
    "start_time": "2022-01-20T18:16:46.414Z"
   },
   {
    "duration": 31,
    "start_time": "2022-01-20T18:16:46.441Z"
   },
   {
    "duration": 17,
    "start_time": "2022-01-20T18:16:46.475Z"
   },
   {
    "duration": 24,
    "start_time": "2022-01-20T18:16:46.494Z"
   },
   {
    "duration": 25,
    "start_time": "2022-01-20T18:16:46.521Z"
   },
   {
    "duration": 33,
    "start_time": "2022-01-20T18:16:46.549Z"
   },
   {
    "duration": 21,
    "start_time": "2022-01-20T18:16:46.584Z"
   },
   {
    "duration": 62,
    "start_time": "2022-01-20T18:16:46.608Z"
   },
   {
    "duration": 11,
    "start_time": "2022-01-20T18:16:46.673Z"
   },
   {
    "duration": 7,
    "start_time": "2022-01-20T18:16:46.686Z"
   },
   {
    "duration": 16,
    "start_time": "2022-01-20T18:16:46.695Z"
   },
   {
    "duration": 82,
    "start_time": "2022-01-20T18:16:46.714Z"
   },
   {
    "duration": 12,
    "start_time": "2022-01-20T18:16:46.799Z"
   },
   {
    "duration": 6205,
    "start_time": "2022-01-20T18:16:46.813Z"
   },
   {
    "duration": 10,
    "start_time": "2022-01-20T18:16:53.020Z"
   },
   {
    "duration": 1341,
    "start_time": "2022-01-20T18:16:53.032Z"
   },
   {
    "duration": 10,
    "start_time": "2022-01-20T18:16:54.375Z"
   },
   {
    "duration": 423,
    "start_time": "2022-01-20T18:16:54.387Z"
   },
   {
    "duration": 9,
    "start_time": "2022-01-20T18:16:54.812Z"
   },
   {
    "duration": 450,
    "start_time": "2022-01-20T18:16:54.826Z"
   },
   {
    "duration": 10,
    "start_time": "2022-01-20T18:16:55.280Z"
   },
   {
    "duration": 57,
    "start_time": "2022-01-20T18:16:55.293Z"
   },
   {
    "duration": 54,
    "start_time": "2022-01-20T18:16:55.353Z"
   },
   {
    "duration": 64,
    "start_time": "2022-01-20T18:16:55.410Z"
   },
   {
    "duration": 37,
    "start_time": "2022-01-20T18:16:55.476Z"
   },
   {
    "duration": 8,
    "start_time": "2022-01-20T18:19:28.324Z"
   },
   {
    "duration": 6,
    "start_time": "2022-01-20T18:19:40.674Z"
   },
   {
    "duration": 5,
    "start_time": "2022-01-20T18:19:43.597Z"
   },
   {
    "duration": 33,
    "start_time": "2022-01-20T18:26:41.718Z"
   },
   {
    "duration": 958,
    "start_time": "2022-01-20T18:42:42.465Z"
   },
   {
    "duration": 16,
    "start_time": "2022-01-20T18:42:44.382Z"
   },
   {
    "duration": 12,
    "start_time": "2022-01-20T18:42:45.861Z"
   },
   {
    "duration": 9,
    "start_time": "2022-01-20T18:42:46.423Z"
   },
   {
    "duration": 10,
    "start_time": "2022-01-20T18:42:46.802Z"
   },
   {
    "duration": 10,
    "start_time": "2022-01-20T18:42:47.216Z"
   },
   {
    "duration": 19,
    "start_time": "2022-01-20T18:42:47.617Z"
   },
   {
    "duration": 7,
    "start_time": "2022-01-20T18:42:48.113Z"
   },
   {
    "duration": 14,
    "start_time": "2022-01-20T18:42:48.468Z"
   },
   {
    "duration": 6,
    "start_time": "2022-01-20T18:42:49.232Z"
   },
   {
    "duration": 5,
    "start_time": "2022-01-20T18:42:49.447Z"
   },
   {
    "duration": 24,
    "start_time": "2022-01-20T18:42:49.854Z"
   },
   {
    "duration": 32,
    "start_time": "2022-01-20T18:42:50.886Z"
   },
   {
    "duration": 25,
    "start_time": "2022-01-20T18:42:51.294Z"
   },
   {
    "duration": 23,
    "start_time": "2022-01-20T18:42:51.715Z"
   },
   {
    "duration": 43,
    "start_time": "2022-01-20T18:42:52.353Z"
   },
   {
    "duration": 12,
    "start_time": "2022-01-20T18:42:52.862Z"
   },
   {
    "duration": 7,
    "start_time": "2022-01-20T18:42:53.530Z"
   },
   {
    "duration": 17,
    "start_time": "2022-01-20T18:42:53.773Z"
   },
   {
    "duration": 23,
    "start_time": "2022-01-20T18:43:25.630Z"
   },
   {
    "duration": 21,
    "start_time": "2022-01-20T18:43:46.904Z"
   },
   {
    "duration": 828,
    "start_time": "2022-01-21T06:40:28.871Z"
   },
   {
    "duration": 15,
    "start_time": "2022-01-21T06:40:29.701Z"
   },
   {
    "duration": 13,
    "start_time": "2022-01-21T06:40:29.720Z"
   },
   {
    "duration": 38,
    "start_time": "2022-01-21T06:40:29.735Z"
   },
   {
    "duration": 10,
    "start_time": "2022-01-21T06:40:29.776Z"
   },
   {
    "duration": 9,
    "start_time": "2022-01-21T06:40:29.788Z"
   },
   {
    "duration": 17,
    "start_time": "2022-01-21T06:40:29.800Z"
   },
   {
    "duration": 8,
    "start_time": "2022-01-21T06:40:29.819Z"
   },
   {
    "duration": 15,
    "start_time": "2022-01-21T06:40:29.991Z"
   },
   {
    "duration": 5,
    "start_time": "2022-01-21T06:40:31.079Z"
   },
   {
    "duration": 5,
    "start_time": "2022-01-21T06:40:31.239Z"
   },
   {
    "duration": 16,
    "start_time": "2022-01-21T06:40:31.551Z"
   },
   {
    "duration": 22,
    "start_time": "2022-01-21T06:40:32.419Z"
   },
   {
    "duration": 26,
    "start_time": "2022-01-21T06:40:32.738Z"
   },
   {
    "duration": 22,
    "start_time": "2022-01-21T06:40:33.081Z"
   },
   {
    "duration": 45,
    "start_time": "2022-01-21T06:40:33.749Z"
   },
   {
    "duration": 12,
    "start_time": "2022-01-21T06:40:34.107Z"
   },
   {
    "duration": 879,
    "start_time": "2022-03-07T19:44:57.163Z"
   },
   {
    "duration": 4,
    "start_time": "2022-03-07T19:45:08.114Z"
   },
   {
    "duration": 168,
    "start_time": "2022-03-07T19:45:08.556Z"
   },
   {
    "duration": 728,
    "start_time": "2022-03-07T19:45:23.529Z"
   },
   {
    "duration": 193,
    "start_time": "2022-03-07T19:45:24.260Z"
   },
   {
    "duration": 113,
    "start_time": "2022-03-07T19:47:22.604Z"
   },
   {
    "duration": 127,
    "start_time": "2022-03-07T19:47:50.330Z"
   },
   {
    "duration": 15,
    "start_time": "2022-03-07T19:47:54.508Z"
   },
   {
    "duration": 115,
    "start_time": "2022-03-07T19:48:03.859Z"
   },
   {
    "duration": 12,
    "start_time": "2022-03-07T19:48:42.243Z"
   },
   {
    "duration": 16,
    "start_time": "2022-03-07T19:48:45.897Z"
   },
   {
    "duration": 14,
    "start_time": "2022-03-07T19:49:48.975Z"
   },
   {
    "duration": 10,
    "start_time": "2022-03-07T19:49:49.818Z"
   },
   {
    "duration": 9,
    "start_time": "2022-03-07T19:50:03.854Z"
   },
   {
    "duration": 11,
    "start_time": "2022-03-07T19:50:04.099Z"
   },
   {
    "duration": 16,
    "start_time": "2022-03-07T19:50:04.481Z"
   },
   {
    "duration": 6,
    "start_time": "2022-03-07T19:50:05.290Z"
   },
   {
    "duration": 5,
    "start_time": "2022-03-07T19:50:05.446Z"
   },
   {
    "duration": 9,
    "start_time": "2022-03-07T19:51:36.726Z"
   },
   {
    "duration": 22,
    "start_time": "2022-03-07T19:52:16.703Z"
   },
   {
    "duration": 25,
    "start_time": "2022-03-07T19:52:17.243Z"
   },
   {
    "duration": 692,
    "start_time": "2022-03-07T19:52:24.995Z"
   },
   {
    "duration": 219,
    "start_time": "2022-03-07T19:52:25.690Z"
   },
   {
    "duration": 12,
    "start_time": "2022-03-07T19:52:27.094Z"
   },
   {
    "duration": 9,
    "start_time": "2022-03-07T19:52:27.898Z"
   },
   {
    "duration": 11,
    "start_time": "2022-03-07T19:52:28.258Z"
   },
   {
    "duration": 9,
    "start_time": "2022-03-07T19:52:28.446Z"
   },
   {
    "duration": 15,
    "start_time": "2022-03-07T19:52:28.822Z"
   },
   {
    "duration": 7,
    "start_time": "2022-03-07T19:52:29.676Z"
   },
   {
    "duration": 24,
    "start_time": "2022-03-07T19:52:30.973Z"
   },
   {
    "duration": 26,
    "start_time": "2022-03-07T19:52:31.800Z"
   },
   {
    "duration": 22,
    "start_time": "2022-03-07T19:52:32.160Z"
   },
   {
    "duration": 47,
    "start_time": "2022-03-07T19:52:32.949Z"
   },
   {
    "duration": 12,
    "start_time": "2022-03-07T19:52:34.384Z"
   },
   {
    "duration": 7,
    "start_time": "2022-03-07T19:52:34.990Z"
   },
   {
    "duration": 17,
    "start_time": "2022-03-07T19:52:35.445Z"
   },
   {
    "duration": 23,
    "start_time": "2022-03-07T19:53:26.059Z"
   },
   {
    "duration": 44,
    "start_time": "2022-03-07T19:53:29.658Z"
   },
   {
    "duration": 66,
    "start_time": "2022-03-07T19:54:13.964Z"
   },
   {
    "duration": 22,
    "start_time": "2022-03-07T19:54:44.350Z"
   },
   {
    "duration": 42,
    "start_time": "2022-03-07T19:54:59.179Z"
   },
   {
    "duration": 8,
    "start_time": "2022-03-07T19:55:06.101Z"
   },
   {
    "duration": 4,
    "start_time": "2022-03-07T19:55:11.626Z"
   },
   {
    "duration": 6393,
    "start_time": "2022-03-07T19:55:42.321Z"
   },
   {
    "duration": 5,
    "start_time": "2022-03-07T19:56:02.364Z"
   },
   {
    "duration": 5272,
    "start_time": "2022-03-07T19:56:03.151Z"
   },
   {
    "duration": 5417,
    "start_time": "2022-03-07T19:56:18.416Z"
   },
   {
    "duration": 10,
    "start_time": "2022-03-07T19:56:33.528Z"
   },
   {
    "duration": 969,
    "start_time": "2022-03-07T19:57:24.612Z"
   },
   {
    "duration": 5,
    "start_time": "2022-03-07T19:57:32.878Z"
   },
   {
    "duration": 1109,
    "start_time": "2022-03-07T19:57:40.496Z"
   },
   {
    "duration": 69,
    "start_time": "2022-03-07T19:57:50.853Z"
   },
   {
    "duration": 972,
    "start_time": "2022-03-07T19:57:57.480Z"
   },
   {
    "duration": 10,
    "start_time": "2022-03-07T19:58:09.472Z"
   },
   {
    "duration": 400,
    "start_time": "2022-03-07T19:58:24.937Z"
   },
   {
    "duration": 4,
    "start_time": "2022-03-07T19:58:30.272Z"
   },
   {
    "duration": 394,
    "start_time": "2022-03-07T19:58:37.703Z"
   },
   {
    "duration": 10,
    "start_time": "2022-03-07T19:58:43.814Z"
   },
   {
    "duration": 4,
    "start_time": "2022-03-07T19:59:38.506Z"
   },
   {
    "duration": 387,
    "start_time": "2022-03-07T19:59:46.335Z"
   },
   {
    "duration": 12,
    "start_time": "2022-03-07T19:59:50.045Z"
   },
   {
    "duration": 42,
    "start_time": "2022-03-07T20:01:05.187Z"
   },
   {
    "duration": 37,
    "start_time": "2022-03-07T20:01:14.558Z"
   },
   {
    "duration": 35,
    "start_time": "2022-03-07T20:01:20.359Z"
   },
   {
    "duration": 34,
    "start_time": "2022-03-07T20:01:26.017Z"
   }
  ],
  "kernelspec": {
   "display_name": "Python 3",
   "language": "python",
   "name": "python3"
  },
  "language_info": {
   "codemirror_mode": {
    "name": "ipython",
    "version": 3
   },
   "file_extension": ".py",
   "mimetype": "text/x-python",
   "name": "python",
   "nbconvert_exporter": "python",
   "pygments_lexer": "ipython3",
   "version": "3.7.8"
  },
  "toc": {
   "base_numbering": 1,
   "nav_menu": {},
   "number_sections": true,
   "sideBar": true,
   "skip_h1_title": true,
   "title_cell": "Table of Contents",
   "title_sidebar": "Contents",
   "toc_cell": false,
   "toc_position": {
    "height": "350.347px",
    "left": "30.9965px",
    "top": "246.427px",
    "width": "165px"
   },
   "toc_section_display": true,
   "toc_window_display": true
  }
 },
 "nbformat": 4,
 "nbformat_minor": 2
}
